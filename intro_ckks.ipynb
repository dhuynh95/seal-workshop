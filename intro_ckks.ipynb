{
 "cells": [
  {
   "cell_type": "markdown",
   "metadata": {},
   "source": [
    "# Introduction to CKKS"
   ]
  },
  {
   "cell_type": "markdown",
   "metadata": {},
   "source": [
    "## Introduction to Homomorphic Encryption"
   ]
  },
  {
   "cell_type": "markdown",
   "metadata": {},
   "source": [
    "### Context\n",
    "\n",
    "Homomorphic encryption (HE) is an encryption scheme, which allows data owners to encrypt their data, and let a third party perform computations on it, without knowing what is the underlying data. The result of the computations on encrypted data can then be sent back to the data owner, which will be the only one able to decrypt the encrypted result.\n",
    "\n",
    "HE enables computation to be performed on encrypted data, while preserving the decryption output, as it leverages homomorphic properties of the encryption and the decryption. This means that addition and multiplication can be done on encrypted data, and the decryption output will be as if those operations were done directly on the unencrypted data.\n",
    "\n",
    "More formally, a ring homomorphism $h$ between two rings $R$ and $R'$, follows those two properties : \n",
    "$$h(x + y) = h(x) + h(y)$$\n",
    "$$h(x * y) = h(x) * h(y)$$\n",
    "\n",
    "This means that if we have an encryption homomorphism $e$, a decryption homomorphism $d$, such that $d(e(x)) = x$, and a function $f$, which is a composition of additions and multiplications, then we can have the following scenario :\n",
    "\n",
    "- The user encrypts their data $x$ using $e$, and sends $e(x)$ to an untrusted third party.\n",
    "- The third party performs computations $f$ on the encrypted $e(x)$. Because $e$ is an homomorphism, we have that $f(ex(x)) = e(fx)$. Then the third party sends the data back to the user.\n",
    "- Finally the user decrypts the output, obtaining then $d(e(f(x))) = f(x)$, without exposing her data directly to the untrusted third party."
   ]
  },
  {
   "cell_type": "markdown",
   "metadata": {},
   "source": [
    "### The CKKS scheme\n",
    "\n",
    "![Overview CKKS](images/overview_ckks.PNG)\n",
    "<center>High level view of CKKS.</center>\n",
    "\n",
    "We will focus now on the CKKS scheme, which allows homomorphic operations on complex, thus real, values. The figure above provides a high level view of how CKKS works :\n",
    "\n",
    "- The user generates a secret and public key beforehand.\n",
    "- The user then first encodes a complex vector, on which computation will be done, into a plaintext polynomial.\n",
    "- This plaintext polynomial is encrypted into a ciphertext made of two polynomials using the public key.\n",
    "- Computations are then performed on the ciphertext by a third party.\n",
    "- The results are decrypted, using the private key, into a plaintext polynomial.\n",
    "- Finally the user can decode and read the values.\n"
   ]
  },
  {
   "cell_type": "markdown",
   "metadata": {},
   "source": [
    "## Deep dive in the code"
   ]
  },
  {
   "cell_type": "markdown",
   "metadata": {},
   "source": [
    "### Setup"
   ]
  },
  {
   "cell_type": "code",
   "execution_count": null,
   "metadata": {
    "ExecuteTime": {
     "end_time": "2020-05-22T12:09:33.448985Z",
     "start_time": "2020-05-22T12:09:33.346503Z"
    }
   },
   "outputs": [],
   "source": [
    "import tenseal.sealapi as seal"
   ]
  },
  {
   "cell_type": "markdown",
   "metadata": {},
   "source": [
    "First we will set the parameters needed by SEAL for the context. Because we use 200 bits in total for our multiplications, we must choose $N = 8192$."
   ]
  },
  {
   "cell_type": "code",
   "execution_count": 3,
   "metadata": {
    "ExecuteTime": {
     "end_time": "2020-05-22T12:09:34.035248Z",
     "start_time": "2020-05-22T12:09:33.995631Z"
    }
   },
   "outputs": [],
   "source": [
    "poly_modulus_degree = 8192\n",
    "moduli = [60, 40, 40, 60]\n",
    "PRECISION_BITS = 40\n",
    "scale = pow(2.0, PRECISION_BITS)\n",
    "\n",
    "parms = seal.EncryptionParameters(seal.SCHEME_TYPE.CKKS)\n",
    "parms.set_poly_modulus_degree(poly_modulus_degree)\n",
    "parms.set_coeff_modulus(seal.CoeffModulus.Create(\n",
    "    poly_modulus_degree, moduli))\n",
    "\n",
    "context = seal.SEALContext.Create(parms, True, seal.SEC_LEVEL_TYPE.TC128)"
   ]
  },
  {
   "cell_type": "markdown",
   "metadata": {},
   "source": [
    "We can now generate our keys, the evaluator, encryptor, decryptor and encoder using our context and our keys."
   ]
  },
  {
   "cell_type": "code",
   "execution_count": 4,
   "metadata": {
    "ExecuteTime": {
     "end_time": "2020-05-22T12:09:35.155748Z",
     "start_time": "2020-05-22T12:09:34.750390Z"
    }
   },
   "outputs": [],
   "source": [
    "keygen = seal.KeyGenerator(context)\n",
    "\n",
    "public_key = keygen.public_key()\n",
    "secret_key = keygen.secret_key()\n",
    "relin_keys = keygen.relin_keys_local()\n",
    "galois_keys = keygen.galois_keys_local()\n",
    "\n",
    "encryptor = seal.Encryptor(context, public_key)\n",
    "evaluator = seal.Evaluator(context)\n",
    "decryptor = seal.Decryptor(context, secret_key)\n",
    "encoder = seal.CKKSEncoder(context)"
   ]
  },
  {
   "cell_type": "markdown",
   "metadata": {},
   "source": [
    "Just for convenience, we define bellow functions to print directly the content of a ciphertext or plaintext, without having to de decode and decrypt first all the time. This is mainl for educational and debugging purpose."
   ]
  },
  {
   "cell_type": "code",
   "execution_count": 7,
   "metadata": {
    "ExecuteTime": {
     "end_time": "2020-05-22T12:10:47.354464Z",
     "start_time": "2020-05-22T12:10:47.339285Z"
    }
   },
   "outputs": [],
   "source": [
    "# export\n",
    "def print_vector(vec, print_size=4, prec=3):\n",
    "    \"\"\"Prints a vector with a given level of precision and print size\"\"\"\n",
    "    slot_count = len(vec)\n",
    "    print()\n",
    "    if slot_count <= 2*print_size:\n",
    "        print(\"    [\", end=\"\")\n",
    "        for i in range(slot_count):\n",
    "            print(\" \" + (f\"%.{prec}f\" % vec[i]) + (\",\" if (i != slot_count - 1) else \" ]\\n\"), end=\"\")\n",
    "    else:\n",
    "        print(\"    [\", end=\"\")\n",
    "        for i in range(print_size):\n",
    "            print(\" \" + (f\"%.{prec}f\" % vec[i]) + \",\", end=\"\")\n",
    "        if len(vec) > 2*print_size:\n",
    "            print(\" ...,\", end=\"\")\n",
    "        for i in range(slot_count - print_size, slot_count):\n",
    "            print(\" \" + (f\"%.{prec}f\" % vec[i]) + (\",\" if (i != slot_count - 1) else \" ]\\n\"), end=\"\")\n",
    "    print()\n",
    "    \n",
    "def print_ptx(ptx: seal.Plaintext):\n",
    "    result = encoder.decode_double(ptx)\n",
    "    print_vector(result, 3, 7)\n",
    "    \n",
    "def print_ctx(ctx: seal.Ciphertext):\n",
    "    ptx = seal.Plaintext()\n",
    "    decryptor.decrypt(ctx, ptx)\n",
    "    print_ptx(ptx)"
   ]
  },
  {
   "cell_type": "markdown",
   "metadata": {},
   "source": [
    "We can now start playing with SEAL. Let's see how to encode and encrypt a vector using SEAL."
   ]
  },
  {
   "cell_type": "code",
   "execution_count": 8,
   "metadata": {
    "ExecuteTime": {
     "end_time": "2020-05-22T12:11:15.949774Z",
     "start_time": "2020-05-22T12:11:15.934940Z"
    }
   },
   "outputs": [],
   "source": [
    "x = [1,2,3,4]\n",
    "ptx = seal.Plaintext()\n",
    "ctx = seal.Ciphertext()\n",
    "\n",
    "encoder.encode(x, scale, ptx)\n",
    "encryptor.encrypt(ptx, ctx)"
   ]
  },
  {
   "cell_type": "markdown",
   "metadata": {},
   "source": [
    "We can print the plaintext and the ciphertext and make sure they output the same thing."
   ]
  },
  {
   "cell_type": "code",
   "execution_count": 9,
   "metadata": {
    "ExecuteTime": {
     "end_time": "2020-05-22T12:11:42.886485Z",
     "start_time": "2020-05-22T12:11:42.874601Z"
    }
   },
   "outputs": [
    {
     "name": "stdout",
     "output_type": "stream",
     "text": [
      "\n",
      "    [ 1.0000000, 2.0000000, 3.0000000, ..., 0.0000000, -0.0000000, 0.0000000 ]\n",
      "\n",
      "\n",
      "    [ 1.0000000, 2.0000000, 3.0000000, ..., -0.0000000, 0.0000000, -0.0000000 ]\n",
      "\n"
     ]
    }
   ],
   "source": [
    "print_ptx(ptx)\n",
    "print_ctx(ctx)"
   ]
  },
  {
   "cell_type": "markdown",
   "metadata": {},
   "source": [
    "### Homomorphic operations"
   ]
  },
  {
   "cell_type": "markdown",
   "metadata": {},
   "source": [
    "#### Addition"
   ]
  },
  {
   "cell_type": "markdown",
   "metadata": {},
   "source": [
    "We will encode another vector so that we will be able to perform addition and multiplication between them."
   ]
  },
  {
   "cell_type": "code",
   "execution_count": 10,
   "metadata": {
    "ExecuteTime": {
     "end_time": "2020-05-22T12:12:10.510158Z",
     "start_time": "2020-05-22T12:12:10.506875Z"
    }
   },
   "outputs": [],
   "source": [
    "y = [-1, -2, -3, -4]\n",
    "pty = seal.Plaintext()\n",
    "cty = seal.Ciphertext()"
   ]
  },
  {
   "cell_type": "code",
   "execution_count": 11,
   "metadata": {
    "ExecuteTime": {
     "end_time": "2020-05-22T12:12:11.491139Z",
     "start_time": "2020-05-22T12:12:11.477394Z"
    }
   },
   "outputs": [],
   "source": [
    "encoder.encode(y, scale, pty)\n",
    "encryptor.encrypt(pty, cty)"
   ]
  },
  {
   "cell_type": "markdown",
   "metadata": {},
   "source": [
    "Now let's see how we can add them together : "
   ]
  },
  {
   "cell_type": "code",
   "execution_count": 13,
   "metadata": {
    "ExecuteTime": {
     "end_time": "2020-05-22T12:12:31.245765Z",
     "start_time": "2020-05-22T12:12:31.237871Z"
    }
   },
   "outputs": [
    {
     "name": "stdout",
     "output_type": "stream",
     "text": [
      "\n",
      "    [ -0.0000000, -0.0000000, 0.0000000, ..., -0.0000000, -0.0000000, -0.0000000 ]\n",
      "\n"
     ]
    }
   ],
   "source": [
    "ct_plus = seal.Ciphertext()\n",
    "evaluator.add(ctx, cty, ct_plus)\n",
    "\n",
    "print_ctx(ct_plus)"
   ]
  },
  {
   "cell_type": "markdown",
   "metadata": {},
   "source": [
    "Perfect ! It works ! That was pretty easy. "
   ]
  },
  {
   "cell_type": "markdown",
   "metadata": {},
   "source": [
    "#### Multiplication\n",
    "\n",
    "Let's see now how we can multiply them together :"
   ]
  },
  {
   "cell_type": "code",
   "execution_count": 14,
   "metadata": {
    "ExecuteTime": {
     "end_time": "2020-05-22T12:12:56.384126Z",
     "start_time": "2020-05-22T12:12:56.374869Z"
    }
   },
   "outputs": [
    {
     "name": "stdout",
     "output_type": "stream",
     "text": [
      "\n",
      "    [ -1.0000000, -4.0000000, -9.0000000, ..., -0.0000000, -0.0000000, -0.0000000 ]\n",
      "\n"
     ]
    }
   ],
   "source": [
    "ct_mul = seal.Ciphertext()\n",
    "evaluator.multiply(ctx, cty, ct_mul)\n",
    "\n",
    "print_ctx(ct_mul)"
   ]
  },
  {
   "cell_type": "markdown",
   "metadata": {},
   "source": [
    "This works as well ! \n",
    "\n",
    "Nonetheless things have become more complicated with multiplication, because underneath, the number of polynomials needed for decryption, stored in the ciphertext, have increased : "
   ]
  },
  {
   "cell_type": "code",
   "execution_count": 17,
   "metadata": {
    "ExecuteTime": {
     "end_time": "2020-05-22T12:15:10.892965Z",
     "start_time": "2020-05-22T12:15:10.887623Z"
    }
   },
   "outputs": [
    {
     "name": "stdout",
     "output_type": "stream",
     "text": [
      "Size of the ciphertext after multiplication 3\n",
      "Size of the ciphertext after addition 2\n"
     ]
    }
   ],
   "source": [
    "print(f\"Size of the ciphertext after multiplication {ct_mul.size()}\")\n",
    "print(f\"Size of the ciphertext after addition {ct_plus.size()}\")"
   ]
  },
  {
   "cell_type": "markdown",
   "metadata": {},
   "source": [
    "If we let things go as they are, the size of our ciphertext will keep increasing after each multiplication which will make everything more complicated and error prone.\n",
    "\n",
    "That's why we will use the relinearization keys defined earlier, in order to reduce the size of the ciphertext : "
   ]
  },
  {
   "cell_type": "code",
   "execution_count": 18,
   "metadata": {
    "ExecuteTime": {
     "end_time": "2020-05-22T12:16:24.490842Z",
     "start_time": "2020-05-22T12:16:24.476979Z"
    }
   },
   "outputs": [
    {
     "name": "stdout",
     "output_type": "stream",
     "text": [
      "Size of the ciphertext before relinearization 3\n",
      "Size of the ciphertext after relinearization 2\n"
     ]
    }
   ],
   "source": [
    "print(f\"Size of the ciphertext before relinearization {ct_mul.size()}\")\n",
    "evaluator.relinearize_inplace(ct_mul, relin_keys)\n",
    "print(f\"Size of the ciphertext after relinearization {ct_mul.size()}\")"
   ]
  },
  {
   "cell_type": "markdown",
   "metadata": {},
   "source": [
    "So that's all good ! \n",
    "\n",
    "But another problem emerges in CKKS after multiplication : the scale has changed. Because we of the multiplication, we have : $z = \\Delta x * \\Delta y = \\Delta^2 x y$. Therefore, if we add something of a different scale, let's say $\\Delta x$, SEAL will throw an error because we try to add things on different scales :"
   ]
  },
  {
   "cell_type": "code",
   "execution_count": 19,
   "metadata": {
    "ExecuteTime": {
     "end_time": "2020-05-22T12:19:36.779956Z",
     "start_time": "2020-05-22T12:19:36.768699Z"
    }
   },
   "outputs": [
    {
     "name": "stdout",
     "output_type": "stream",
     "text": [
      "scale mismatch\n"
     ]
    }
   ],
   "source": [
    "try:\n",
    "    evaluator.add_inplace(ct_mul, ctx)\n",
    "except ValueError as e:\n",
    "    print(e)"
   ]
  },
  {
   "cell_type": "markdown",
   "metadata": {},
   "source": [
    "We can check this manually :"
   ]
  },
  {
   "cell_type": "code",
   "execution_count": 20,
   "metadata": {
    "ExecuteTime": {
     "end_time": "2020-05-22T12:19:48.334553Z",
     "start_time": "2020-05-22T12:19:48.330102Z"
    }
   },
   "outputs": [
    {
     "name": "stdout",
     "output_type": "stream",
     "text": [
      "1.2089258196146292e+24\n",
      "1099511627776.0\n"
     ]
    }
   ],
   "source": [
    "print(ct_mul.scale)\n",
    "print(ctx.scale)"
   ]
  },
  {
   "cell_type": "markdown",
   "metadata": {},
   "source": [
    "So now we need to rescale $z$ by using one of our prime contained in the moduli, which will decrease the level by one : "
   ]
  },
  {
   "cell_type": "code",
   "execution_count": 21,
   "metadata": {
    "ExecuteTime": {
     "end_time": "2020-05-22T12:20:46.912986Z",
     "start_time": "2020-05-22T12:20:46.906475Z"
    }
   },
   "outputs": [
    {
     "name": "stdout",
     "output_type": "stream",
     "text": [
      "1099511775231.0198\n"
     ]
    }
   ],
   "source": [
    "evaluator.rescale_to_next_inplace(ct_mul)\n",
    "print(ct_mul.scale)"
   ]
  },
  {
   "cell_type": "markdown",
   "metadata": {},
   "source": [
    "We see that our scale has indeed decreased, nonetheless because we divided by a prime close to $\\Delta$ and not exactly $\\Delta$, we still do not have things of the exact same scale : "
   ]
  },
  {
   "cell_type": "code",
   "execution_count": 23,
   "metadata": {
    "ExecuteTime": {
     "end_time": "2020-05-22T12:22:04.967720Z",
     "start_time": "2020-05-22T12:22:04.962530Z"
    }
   },
   "outputs": [
    {
     "name": "stdout",
     "output_type": "stream",
     "text": [
      "False\n",
      "1099511775231.0198\n",
      "1099511627776.0\n"
     ]
    }
   ],
   "source": [
    "print(ct_mul.scale == scale)\n",
    "print(ct_mul.scale)\n",
    "print(scale)"
   ]
  },
  {
   "cell_type": "markdown",
   "metadata": {},
   "source": [
    "We can see that the scales are pretty close, but still not the same. That's why we need to manually force the scale of $z$ to be equal to $\\Delta$."
   ]
  },
  {
   "cell_type": "code",
   "execution_count": 14,
   "metadata": {
    "ExecuteTime": {
     "end_time": "2020-05-22T09:33:05.456404Z",
     "start_time": "2020-05-22T09:33:05.365895Z"
    }
   },
   "outputs": [
    {
     "name": "stdout",
     "output_type": "stream",
     "text": [
      "True\n"
     ]
    }
   ],
   "source": [
    "ct_mul.scale = scale\n",
    "print(ct_mul.scale == ctx.scale)"
   ]
  },
  {
   "cell_type": "markdown",
   "metadata": {},
   "source": [
    "Things are not over yet, because we used one prime and threw it away in $z$, we reduced the level of $z$, while $x$ is on another level, because its moduli contains one more prime."
   ]
  },
  {
   "cell_type": "code",
   "execution_count": 24,
   "metadata": {
    "ExecuteTime": {
     "end_time": "2020-05-22T12:25:04.232648Z",
     "start_time": "2020-05-22T12:25:04.228508Z"
    }
   },
   "outputs": [
    {
     "name": "stdout",
     "output_type": "stream",
     "text": [
      "encrypted1 and encrypted2 parameter mismatch\n"
     ]
    }
   ],
   "source": [
    "try:\n",
    "    evaluator.add_inplace(ct_mul, ctx)\n",
    "except ValueError as e:\n",
    "    print(e)"
   ]
  },
  {
   "cell_type": "markdown",
   "metadata": {},
   "source": [
    "So the final thing we need to do is to bring $x$ to the same level as $z$, by removing one of its prime modulus, and add them together : "
   ]
  },
  {
   "cell_type": "code",
   "execution_count": 25,
   "metadata": {
    "ExecuteTime": {
     "end_time": "2020-05-22T12:28:24.252580Z",
     "start_time": "2020-05-22T12:28:24.248005Z"
    }
   },
   "outputs": [
    {
     "name": "stdout",
     "output_type": "stream",
     "text": [
      "scale mismatch\n"
     ]
    }
   ],
   "source": [
    "ctx_leveled = seal.Ciphertext()\n",
    "evaluator.mod_switch_to(ctx, ct_mul.parms_id(), ctx_leveled)\n",
    "\n",
    "try:\n",
    "    evaluator.add_inplace(ct_mul, ctx_leveled)\n",
    "except ValueError as e:\n",
    "    print(e)"
   ]
  },
  {
   "cell_type": "code",
   "execution_count": 26,
   "metadata": {
    "ExecuteTime": {
     "end_time": "2020-05-22T12:28:26.087761Z",
     "start_time": "2020-05-22T12:28:26.080156Z"
    }
   },
   "outputs": [
    {
     "name": "stdout",
     "output_type": "stream",
     "text": [
      "\n",
      "    [ -1.0000000, -4.0000000, -9.0000000, ..., -0.0000000, 0.0000000, 0.0000000 ]\n",
      "\n"
     ]
    }
   ],
   "source": [
    "print_ctx(ct_mul)"
   ]
  },
  {
   "cell_type": "markdown",
   "metadata": {},
   "source": [
    "#### Rotation"
   ]
  },
  {
   "cell_type": "markdown",
   "metadata": {},
   "source": [
    "Finally, we have one more operation in CKKS which is rotation, which allows us to shift the slots of our vectors homomorphically."
   ]
  },
  {
   "cell_type": "code",
   "execution_count": 29,
   "metadata": {
    "ExecuteTime": {
     "end_time": "2020-05-22T12:33:23.278840Z",
     "start_time": "2020-05-22T12:33:23.248775Z"
    }
   },
   "outputs": [
    {
     "name": "stdout",
     "output_type": "stream",
     "text": [
      "Initial vector : \n",
      "\n",
      "    [ 1.0000000, 2.0000000, 3.0000000, ..., -0.0000000, 0.0000000, -0.0000000 ]\n",
      "\n",
      "Galois rotation of 1 (shift on the left) :\n",
      "\n",
      "    [ 2.0000003, 3.0000000, 4.0000000, ..., 0.0000000, 0.0000000, 1.0000000 ]\n",
      "\n",
      "Galois rotation of -1 (shift on the right) :\n",
      "\n",
      "    [ 0.0000003, 0.9999998, 1.9999999, ..., -0.0000000, -0.0000000, 0.0000000 ]\n",
      "\n"
     ]
    }
   ],
   "source": [
    "print(\"Initial vector : \")\n",
    "print_ctx(ctx)\n",
    "\n",
    "ctx_shifted = seal.Ciphertext()\n",
    "\n",
    "print(\"Galois rotation of 1 (shift on the left) :\")\n",
    "evaluator.rotate_vector(ctx, 1, galois_keys, ctx_shifted)\n",
    "print_ctx(ctx_shifted)\n",
    "\n",
    "print(\"Galois rotation of -1 (shift on the right) :\")\n",
    "evaluator.rotate_vector(ctx, -1, galois_keys, ctx_shifted)\n",
    "print_ctx(ctx_shifted)"
   ]
  },
  {
   "cell_type": "code",
   "execution_count": 19,
   "metadata": {
    "ExecuteTime": {
     "end_time": "2020-05-22T09:33:06.396802Z",
     "start_time": "2020-05-22T09:33:05.789989Z"
    }
   },
   "outputs": [],
   "source": [
    "import numpy as np\n",
    "\n",
    "def sum_reduce(ctx: seal.Ciphertext, evaluator: seal.Evaluator, \n",
    "               galois_keys: seal.GaloisKeys, n_slot: int):\n",
    "    \"\"\"Sums all the coefficients of the ciphertext, supposing that coefficients up to n_slot \n",
    "    are non zero. The first coefficient of the output will then be the sum of the coefficients.\"\"\"\n",
    "    n = int(np.ceil(np.log2(n_slot)))\n",
    "    \n",
    "    temp = seal.Ciphertext()\n",
    "    output = seal.Ciphertext()\n",
    "    \n",
    "    for i in range(n):\n",
    "        if i == 0:\n",
    "            evaluator.rotate_vector(ctx, 2**i, galois_keys, temp)\n",
    "            evaluator.add(ctx, temp, output)\n",
    "        else:\n",
    "            evaluator.rotate_vector(output, 2**i, galois_keys, temp)\n",
    "            evaluator.add_inplace(output, temp)\n",
    "    return output\n",
    "\n",
    "def dot_product_plain(ctx: seal.Ciphertext, ptx: seal.Plaintext,\n",
    "                      evaluator: seal.Evaluator, galois_keys: seal.GaloisKeys, n_slot: int):\n",
    "    \"\"\"Computes the dot product between a ciphertext and a plaintext\"\"\"\n",
    "    output = seal.Ciphertext()\n",
    "    \n",
    "    evaluator.multiply_plain(ctx, ptx, output)\n",
    "    output = sum_reduce(output, evaluator, galois_keys, n_slot)\n",
    "    \n",
    "    return output\n",
    "\n",
    "def dot_product(ctx: seal.Ciphertext, cty: seal.Ciphertext, \n",
    "                evaluator: seal.Evaluator, galois_keys: seal.GaloisKeys, \n",
    "                relin_keys: seal.GaloisKeys, n_slot: int):\n",
    "    \"\"\"Computes the dot product between a ciphertext and a plaintext\"\"\"\n",
    "    output = seal.Ciphertext()\n",
    "    \n",
    "    evaluator.multiply(ctx, cty, output)\n",
    "    evaluator.relinearize_inplace(output, relin_keys)\n",
    "    evaluator.rescale_to_next_inplace(output)\n",
    "    output = sum_reduce(output, evaluator, galois_keys, n_slot)\n",
    "    \n",
    "    return output"
   ]
  },
  {
   "cell_type": "code",
   "execution_count": 20,
   "metadata": {
    "ExecuteTime": {
     "end_time": "2020-05-22T09:33:06.457913Z",
     "start_time": "2020-05-22T09:33:06.401913Z"
    }
   },
   "outputs": [
    {
     "data": {
      "text/plain": [
       "2.744962301903797e-07"
      ]
     },
     "execution_count": 20,
     "metadata": {},
     "output_type": "execute_result"
    }
   ],
   "source": [
    "ctx_sum_reduce = sum_reduce(ctx, evaluator, galois_keys, len(x))\n",
    "pt = seal.Plaintext()\n",
    "decryptor.decrypt(ctx_sum_reduce, pt)\n",
    "values = encoder.decode_double(pt)\n",
    "\n",
    "he_sum = values[0]\n",
    "regular_sum = sum(x)\n",
    "\n",
    "np.abs(he_sum - regular_sum)"
   ]
  },
  {
   "cell_type": "code",
   "execution_count": 21,
   "metadata": {
    "ExecuteTime": {
     "end_time": "2020-05-22T09:33:06.576726Z",
     "start_time": "2020-05-22T09:33:06.462504Z"
    }
   },
   "outputs": [
    {
     "data": {
      "text/plain": [
       "2.647775545483455e-07"
      ]
     },
     "execution_count": 21,
     "metadata": {},
     "output_type": "execute_result"
    }
   ],
   "source": [
    "ctx_dot_product = dot_product(ctx, cty, evaluator, galois_keys, relin_keys, len(x))\n",
    "\n",
    "decryptor.decrypt(ctx_dot_product, pt)\n",
    "values = encoder.decode_double(pt)\n",
    "\n",
    "he_dot_product = values[0]\n",
    "regular_dot_product = np.dot(x,y)\n",
    "\n",
    "np.abs(he_dot_product - regular_dot_product)"
   ]
  }
 ],
 "metadata": {
  "kernelspec": {
   "display_name": "Python 3",
   "language": "python",
   "name": "python3"
  },
  "language_info": {
   "codemirror_mode": {
    "name": "ipython",
    "version": 3
   },
   "file_extension": ".py",
   "mimetype": "text/x-python",
   "name": "python",
   "nbconvert_exporter": "python",
   "pygments_lexer": "ipython3",
   "version": "3.8.2"
  },
  "toc": {
   "base_numbering": 1,
   "nav_menu": {
    "height": "173px",
    "width": "197.4px"
   },
   "number_sections": true,
   "sideBar": true,
   "skip_h1_title": false,
   "title_cell": "Table of Contents",
   "title_sidebar": "Contents",
   "toc_cell": false,
   "toc_position": {},
   "toc_section_display": true,
   "toc_window_display": false
  }
 },
 "nbformat": 4,
 "nbformat_minor": 4
}
