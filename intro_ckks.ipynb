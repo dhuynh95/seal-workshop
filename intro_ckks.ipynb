{
 "cells": [
  {
   "cell_type": "markdown",
   "metadata": {},
   "source": [
    "# Introduction to CKKS"
   ]
  },
  {
   "cell_type": "markdown",
   "metadata": {},
   "source": [
    "## Introduction to Homomorphic Encryption"
   ]
  },
  {
   "cell_type": "markdown",
   "metadata": {},
   "source": [
    "### Context\n",
    "\n",
    "Homomorphic encryption (HE) is an encryption scheme, which allows data owners to encrypt their data, and let a third party perform computations on it, without knowing what is the underlying data. The result of the computations on encrypted data can then be sent back to the data owner, which will be the only one able to decrypt the encrypted result.\n",
    "\n",
    "HE enables computation to be performed on encrypted data, while preserving the decryption output, as it leverages homomorphic properties of the encryption and the decryption. This means that addition and multiplication can be done on encrypted data, and the decryption output will be as if those operations were done directly on the unencrypted data.\n",
    "\n",
    "More formally, a ring homomorphism $h$ between two rings $R$ and $R'$, follows those two properties : \n",
    "$$h(x + y) = h(x) + h(y)$$\n",
    "$$h(x * y) = h(x) * h(y)$$\n",
    "\n",
    "This means that if we have an encryption homomorphism $e$, a decryption homomorphism $d$, such that $d(e(x)) = x$, and a function $f$, which is a composition of additions and multiplications, then we can have the following scenario :\n",
    "\n",
    "- The user encrypts their data $x$ using $e$, and sends $e(x)$ to an untrusted third party.\n",
    "- The third party performs computations $f$ on the encrypted $e(x)$. Because $e$ is an homomorphism, we have that $f(ex(x)) = e(fx)$. Then the third party sends the data back to the user.\n",
    "- Finally the user decrypts the output, obtaining then $d(e(f(x))) = f(x)$, without exposing her data directly to the untrusted third party."
   ]
  },
  {
   "cell_type": "markdown",
   "metadata": {},
   "source": [
    "### The CKKS scheme\n",
    "\n",
    "![Overview CKKS](images/overview_ckks.PNG)\n",
    "<center>High level view of CKKS.</center>\n",
    "\n",
    "We will focus now on the CKKS scheme, which allows homomorphic operations on complex, thus real, values. The figure above provides a high level view of how CKKS works :\n",
    "\n",
    "- The user generates a secret and public key beforehand.\n",
    "- The user then first encodes a complex vector, on which computation will be done, into a plaintext polynomial.\n",
    "- This plaintext polynomial is encrypted into a ciphertext made of two polynomials using the public key.\n",
    "- Computations are then performed on the ciphertext by a third party.\n",
    "- The results are decrypted, using the private key, into a plaintext polynomial.\n",
    "- Finally the user can decode and read the values."
   ]
  },
  {
   "cell_type": "markdown",
   "metadata": {},
   "source": [
    "#### Notations\n",
    "\n",
    "When using the CKKS scheme, one has to choose two important parameters :\n",
    "\n",
    "- $q$ the modulus used in the computation. Most computations will be done modulo $q$. \n",
    "- $N$ the degree of the polynomial modulus. This will help us define the plaintext and ciphertext space, as we will use  $\\mathcal{R} = \\mathbb{Z}[X]/(X^N + 1)$ as the plaintext space, and $\\mathcal{R_q} = \\mathbb{Z}_q[X]/(X^N + 1)$ as the ciphertext space. \n",
    "\n",
    "The important thing to remember is that the higher $N$ implies higher security, but also more computations. On the other hand, the higher $q$, the more multiplications we will be able to perform, but it makes the system weaker.\n",
    "\n",
    "We will see in practice how to choose the right parameters."
   ]
  },
  {
   "cell_type": "markdown",
   "metadata": {},
   "source": [
    "#### Encoding and decoding\n",
    "\n",
    "Because the plaintext and ciphertext space are polynomial spaces, we must first encode our input, which will be a complex vector $z \\in \\mathbb{C}^{N/2}$, into a polynomial $m(X) \\in \\mathcal{R}$. This is done by polynomial interpolation on the roots of $X^N + 1$. \n",
    "\n",
    "One important thing to consider, is that when a vector is encoded, we will have to choose a scale $\\Delta > 0$, which will represent how precise we want our computation to be. The caveat is that the higher $\\Delta$, the bigger $q$, and therefore we need to have higher $N$ to compensate to keep the system secure.\n",
    "\n",
    "Finally, decoding will be just evaluatinga polynomial $m(X) \\in \\mathcal{R}$ on the same roots defined before."
   ]
  },
  {
   "cell_type": "markdown",
   "metadata": {},
   "source": [
    "#### Encryption and decryption\n",
    "\n",
    "CKKS is a public encryption scheme, where the user will generate a secret key $s_k$, and a public key $p_k$. \n",
    "\n",
    "The idea is that the user will sample $a$ a mask, $s_k$ a secret key, and $e$ a small noise. $s_k$ will be used for decryption, while $a$ and $e$ are used to generate a public key. The public key $p_k$ will then be :\n",
    "\n",
    "$p_k = (-a s_k + e, a) = (b, a)$, with $b = - a s_k + e$.\n",
    "\n",
    "Note that all the quantities above are polynomials.\n",
    "\n",
    "The security of CKKS is based on the fact that is extremely hard to find $s_k$ from the equation $b = - a s_k + e$. This problem is called the Ring Learning With Error, and is quantum secure, which means not crackable by quantum computers.\n",
    "\n",
    "Using the public key $p_k$, a user can encrypt a plaintext $m$ using the public key $p_k$ by outputing the ciphertext : \n",
    "$c = (b + m, a) = (c_0, c_1)$\n",
    "\n",
    "Then to decrypt the message, one simply needs to use the secret key and compute : \n",
    "$c_0 + s_k c_1 = b + m + s_k a = -a s_k + e + m + s_k a = m + e$, because $b = -a s_k + e$.\n",
    "\n",
    "We see that after decrypting we obtain $m +e$, with $m$ our original message, and $e$ a small error polynomial. So we do not exactly get the original $m$ but one that is slightly disturbed by a small noise $e$, but if the noise is small enough we should have $m + e \\approx m$."
   ]
  },
  {
   "cell_type": "markdown",
   "metadata": {},
   "source": [
    "#### Homomorphic operations\n",
    "\n",
    "Additions between ciphertext will be pretty straightforward, we just need to add together the polynomials of each ciphertext.\n",
    "\n",
    "Multiplications are also possible, but they come with complexity. Without going into too much detail, there are two problems that need to be solved when doing multiplication : \n",
    "\n",
    "- Instead of needing two polynomials to decrypt using the secret key, three polynomials are required to decrypt a ciphertext after a multiplication. This means that the size has increased, and to keep the size of the ciphertext constant, we must relinearize it to go from three polynomials to only two.\n",
    "- The scale will have changed, as if we multiply two ciphertexts, one encrypting $\\Delta x$, and another one $\\Delta y$, then the output will be $\\Delta^2 xy$, therefore the scale has increased, and if we do nothing the encrypted value will overflow and we will not be able to recover it. That's why we need to rescale the output, using one of the primes we will define in $q$, but in doing so, we reduce the number of multiplications left."
   ]
  },
  {
   "cell_type": "markdown",
   "metadata": {},
   "source": [
    "## Deep dive in the code"
   ]
  },
  {
   "cell_type": "markdown",
   "metadata": {},
   "source": [
    "Now enough talk, let's see how all of this works out in practice ! \n",
    "\n",
    "We will be using the [Microsoft Research library SEAL](https://github.com/Microsoft/SEAL) to play with the CKKS scheme. Because SEAL is a C++ library, we will use the Python wrapper developped by [OpenMined](https://www.openmined.org/), [TenSEAL](https://github.com/OpenMined/TenSEAL), to interact with SEAL."
   ]
  },
  {
   "cell_type": "markdown",
   "metadata": {},
   "source": [
    "### Setup"
   ]
  },
  {
   "cell_type": "code",
   "execution_count": 1,
   "metadata": {
    "ExecuteTime": {
     "end_time": "2020-05-22T16:37:32.093057Z",
     "start_time": "2020-05-22T16:37:31.988954Z"
    }
   },
   "outputs": [],
   "source": [
    "import tenseal.sealapi as seal"
   ]
  },
  {
   "cell_type": "markdown",
   "metadata": {},
   "source": [
    "First we will set the parameters needed by SEAL for the context. \n",
    "\n",
    "The rule of thumb to choose your parameters is : \n",
    "- How many multiplications will you do ?\n",
    "- How precise does your calculation need to be ?\n",
    "- How big do you think your output will be ?\n",
    "\n",
    "This will help choose the moduli $q$, which is the product of primes that we will use for rescaling.\n",
    "\n",
    "In our case, let's say we want to do 2 multiplications, use 40 bits for precision, i.e. results are precise up to $\\Delta^{-1} = 2^{-40} \\approx 10^{-13}$. We expect our output to be rather big, therefore we will allow ourselves to have 20 bits to encode the integral part of the output.\n",
    "\n",
    "Once you have all this information, you can set $q$ using the following strategy : \n",
    "- Choose a 60-bit prime as the first prime in coeff_modulus. This will give the highest precision when decrypting\n",
    "- Choose another 60-bit prime as the last element of coeff_modulus, as this will be used as the special prime and should be as large as the largest of the other primes.\n",
    "- Choose the intermediate primes to be close to each other.\n",
    "\n",
    "In that case, we will have therefore [60, 40, 40, 60]. The first 60 means we want as much precision as possible when decrypting, the two 40 means we will use two multiplication and we want 40 bits of scale, and the last 60 is just a parameter that must be equal to the largest prime used.\n",
    "\n",
    "Once we have chosen the moduli, we just need to sum it and find the appropriate $N$ to ensure maximum security and efficiency according to this table : \n",
    "\n",
    "<table>\n",
    "    <thead>\n",
    "        <tr>\n",
    "            <td>$N$</td>\n",
    "            <td>Maximum bits in $q$.</td>\n",
    "        </tr>\n",
    "    </thead>\n",
    "    <tbody>\n",
    "        <tr>\n",
    "            <td>1024</td>\n",
    "            <td>27</td>\n",
    "        </tr>\n",
    "        <tr>\n",
    "            <td>2048</td>\n",
    "            <td>54</td>\n",
    "        </tr>\n",
    "        <tr>\n",
    "            <td>4096</td>\n",
    "            <td>109</td>\n",
    "        </tr>\n",
    "        <tr>\n",
    "            <td>8192</td>\n",
    "            <td>218</td>\n",
    "        </tr>\n",
    "        <tr>\n",
    "            <td>16384</td>\n",
    "            <td>438</td>\n",
    "        </tr>\n",
    "        <tr>\n",
    "            <td>32768</td>\n",
    "            <td>881</td>\n",
    "        </tr>\n",
    "    </tbody>\n",
    "</table>\n",
    "\n",
    "Here because we have 60 + 40 + 40 + 60 = 200 bits used in $q$, we will choose $N = 8192$. "
   ]
  },
  {
   "cell_type": "code",
   "execution_count": 2,
   "metadata": {
    "ExecuteTime": {
     "end_time": "2020-05-22T16:37:32.135864Z",
     "start_time": "2020-05-22T16:37:32.096891Z"
    }
   },
   "outputs": [],
   "source": [
    "poly_modulus_degree = 8192\n",
    "moduli = [60, 40, 40, 60]\n",
    "PRECISION_BITS = 40\n",
    "scale = pow(2.0, PRECISION_BITS)\n",
    "\n",
    "parms = seal.EncryptionParameters(seal.SCHEME_TYPE.CKKS)\n",
    "parms.set_poly_modulus_degree(poly_modulus_degree)\n",
    "parms.set_coeff_modulus(seal.CoeffModulus.Create(\n",
    "    poly_modulus_degree, moduli))\n",
    "\n",
    "context = seal.SEALContext.Create(parms, True, seal.SEC_LEVEL_TYPE.TC128)"
   ]
  },
  {
   "cell_type": "markdown",
   "metadata": {},
   "source": [
    "We can now generate our keys, the evaluator, encryptor, decryptor and encoder using our context and our keys."
   ]
  },
  {
   "cell_type": "code",
   "execution_count": 3,
   "metadata": {
    "ExecuteTime": {
     "end_time": "2020-05-22T16:37:32.591345Z",
     "start_time": "2020-05-22T16:37:32.139502Z"
    }
   },
   "outputs": [],
   "source": [
    "keygen = seal.KeyGenerator(context)\n",
    "\n",
    "public_key = keygen.public_key()\n",
    "secret_key = keygen.secret_key()\n",
    "relin_keys = keygen.relin_keys_local()\n",
    "galois_keys = keygen.galois_keys_local()\n",
    "\n",
    "encryptor = seal.Encryptor(context, public_key)\n",
    "evaluator = seal.Evaluator(context)\n",
    "decryptor = seal.Decryptor(context, secret_key)\n",
    "encoder = seal.CKKSEncoder(context)"
   ]
  },
  {
   "cell_type": "markdown",
   "metadata": {},
   "source": [
    "Just for convenience, we define bellow functions to print directly the content of a ciphertext or plaintext, without having to de decode and decrypt first all the time. This is mainl for educational and debugging purpose."
   ]
  },
  {
   "cell_type": "code",
   "execution_count": 4,
   "metadata": {
    "ExecuteTime": {
     "end_time": "2020-05-22T16:37:32.626441Z",
     "start_time": "2020-05-22T16:37:32.595086Z"
    }
   },
   "outputs": [],
   "source": [
    "# export\n",
    "def print_vector(vec, print_size=4, prec=3):\n",
    "    \"\"\"Prints a vector with a given level of precision and print size\"\"\"\n",
    "    slot_count = len(vec)\n",
    "    print()\n",
    "    if slot_count <= 2*print_size:\n",
    "        print(\"    [\", end=\"\")\n",
    "        for i in range(slot_count):\n",
    "            print(\" \" + (f\"%.{prec}f\" % vec[i]) + (\",\" if (i != slot_count - 1) else \" ]\\n\"), end=\"\")\n",
    "    else:\n",
    "        print(\"    [\", end=\"\")\n",
    "        for i in range(print_size):\n",
    "            print(\" \" + (f\"%.{prec}f\" % vec[i]) + \",\", end=\"\")\n",
    "        if len(vec) > 2*print_size:\n",
    "            print(\" ...,\", end=\"\")\n",
    "        for i in range(slot_count - print_size, slot_count):\n",
    "            print(\" \" + (f\"%.{prec}f\" % vec[i]) + (\",\" if (i != slot_count - 1) else \" ]\\n\"), end=\"\")\n",
    "    print()\n",
    "    \n",
    "def print_ptx(ptx: seal.Plaintext):\n",
    "    result = encoder.decode_double(ptx)\n",
    "    print_vector(result, 3, 7)\n",
    "    \n",
    "def print_ctx(ctx: seal.Ciphertext):\n",
    "    ptx = seal.Plaintext()\n",
    "    decryptor.decrypt(ctx, ptx)\n",
    "    print_ptx(ptx)"
   ]
  },
  {
   "cell_type": "markdown",
   "metadata": {},
   "source": [
    "We can now start playing with SEAL. Let's see how to encode and encrypt a vector using SEAL."
   ]
  },
  {
   "cell_type": "code",
   "execution_count": 5,
   "metadata": {
    "ExecuteTime": {
     "end_time": "2020-05-22T16:37:32.689219Z",
     "start_time": "2020-05-22T16:37:32.632458Z"
    }
   },
   "outputs": [],
   "source": [
    "x = [1,2,3,4]\n",
    "ptx = seal.Plaintext()\n",
    "ctx = seal.Ciphertext()\n",
    "\n",
    "encoder.encode(x, scale, ptx)\n",
    "encryptor.encrypt(ptx, ctx)"
   ]
  },
  {
   "cell_type": "markdown",
   "metadata": {},
   "source": [
    "We can print the plaintext and the ciphertext and make sure they output the same thing."
   ]
  },
  {
   "cell_type": "code",
   "execution_count": 6,
   "metadata": {
    "ExecuteTime": {
     "end_time": "2020-05-22T16:37:32.729519Z",
     "start_time": "2020-05-22T16:37:32.694090Z"
    }
   },
   "outputs": [
    {
     "name": "stdout",
     "output_type": "stream",
     "text": [
      "\n",
      "    [ 1.0000000, 2.0000000, 3.0000000, ..., 0.0000000, -0.0000000, 0.0000000 ]\n",
      "\n",
      "\n",
      "    [ 1.0000000, 2.0000000, 3.0000000, ..., -0.0000000, -0.0000000, -0.0000000 ]\n",
      "\n"
     ]
    }
   ],
   "source": [
    "print_ptx(ptx)\n",
    "print_ctx(ctx)"
   ]
  },
  {
   "cell_type": "markdown",
   "metadata": {},
   "source": [
    "### Homomorphic operations"
   ]
  },
  {
   "cell_type": "markdown",
   "metadata": {},
   "source": [
    "#### Addition"
   ]
  },
  {
   "cell_type": "markdown",
   "metadata": {},
   "source": [
    "We will encode another vector so that we will be able to perform addition and multiplication between them."
   ]
  },
  {
   "cell_type": "code",
   "execution_count": 7,
   "metadata": {
    "ExecuteTime": {
     "end_time": "2020-05-22T16:37:32.764077Z",
     "start_time": "2020-05-22T16:37:32.735857Z"
    }
   },
   "outputs": [],
   "source": [
    "y = [-1, -2, -3, -4]\n",
    "pty = seal.Plaintext()\n",
    "cty = seal.Ciphertext()"
   ]
  },
  {
   "cell_type": "code",
   "execution_count": 8,
   "metadata": {
    "ExecuteTime": {
     "end_time": "2020-05-22T16:37:32.796649Z",
     "start_time": "2020-05-22T16:37:32.767033Z"
    }
   },
   "outputs": [],
   "source": [
    "encoder.encode(y, scale, pty)\n",
    "encryptor.encrypt(pty, cty)"
   ]
  },
  {
   "cell_type": "markdown",
   "metadata": {},
   "source": [
    "Now let's see how we can add them together : "
   ]
  },
  {
   "cell_type": "code",
   "execution_count": 9,
   "metadata": {
    "ExecuteTime": {
     "end_time": "2020-05-22T16:37:32.840185Z",
     "start_time": "2020-05-22T16:37:32.800952Z"
    }
   },
   "outputs": [
    {
     "name": "stdout",
     "output_type": "stream",
     "text": [
      "\n",
      "    [ 0.0000000, 0.0000000, 0.0000000, ..., -0.0000000, -0.0000000, -0.0000000 ]\n",
      "\n"
     ]
    }
   ],
   "source": [
    "ct_plus = seal.Ciphertext()\n",
    "evaluator.add(ctx, cty, ct_plus)\n",
    "\n",
    "print_ctx(ct_plus)"
   ]
  },
  {
   "cell_type": "markdown",
   "metadata": {},
   "source": [
    "Perfect ! It works ! That was pretty easy. "
   ]
  },
  {
   "cell_type": "markdown",
   "metadata": {},
   "source": [
    "#### Multiplication\n",
    "\n",
    "Let's see now how we can multiply them together :"
   ]
  },
  {
   "cell_type": "code",
   "execution_count": 10,
   "metadata": {
    "ExecuteTime": {
     "end_time": "2020-05-22T16:37:32.883838Z",
     "start_time": "2020-05-22T16:37:32.843455Z"
    }
   },
   "outputs": [
    {
     "name": "stdout",
     "output_type": "stream",
     "text": [
      "\n",
      "    [ -1.0000000, -4.0000000, -9.0000000, ..., 0.0000000, -0.0000000, -0.0000000 ]\n",
      "\n"
     ]
    }
   ],
   "source": [
    "ct_mul = seal.Ciphertext()\n",
    "evaluator.multiply(ctx, cty, ct_mul)\n",
    "\n",
    "print_ctx(ct_mul)"
   ]
  },
  {
   "cell_type": "markdown",
   "metadata": {},
   "source": [
    "This works as well ! \n",
    "\n",
    "Nonetheless things have become more complicated with multiplication, because underneath, the number of polynomials needed for decryption, stored in the ciphertext, have increased : "
   ]
  },
  {
   "cell_type": "code",
   "execution_count": 11,
   "metadata": {
    "ExecuteTime": {
     "end_time": "2020-05-22T16:37:32.921338Z",
     "start_time": "2020-05-22T16:37:32.888240Z"
    }
   },
   "outputs": [
    {
     "name": "stdout",
     "output_type": "stream",
     "text": [
      "Size of the ciphertext after multiplication 3\n",
      "Size of the ciphertext after addition 2\n"
     ]
    }
   ],
   "source": [
    "print(f\"Size of the ciphertext after multiplication {ct_mul.size()}\")\n",
    "print(f\"Size of the ciphertext after addition {ct_plus.size()}\")"
   ]
  },
  {
   "cell_type": "markdown",
   "metadata": {},
   "source": [
    "If we let things go as they are, the size of our ciphertext will keep increasing after each multiplication which will make everything more complicated and error prone.\n",
    "\n",
    "That's why we will use the relinearization keys defined earlier, in order to reduce the size of the ciphertext : "
   ]
  },
  {
   "cell_type": "code",
   "execution_count": 12,
   "metadata": {
    "ExecuteTime": {
     "end_time": "2020-05-22T16:37:32.966206Z",
     "start_time": "2020-05-22T16:37:32.925242Z"
    }
   },
   "outputs": [
    {
     "name": "stdout",
     "output_type": "stream",
     "text": [
      "Size of the ciphertext before relinearization 3\n",
      "Size of the ciphertext after relinearization 2\n"
     ]
    }
   ],
   "source": [
    "print(f\"Size of the ciphertext before relinearization {ct_mul.size()}\")\n",
    "evaluator.relinearize_inplace(ct_mul, relin_keys)\n",
    "print(f\"Size of the ciphertext after relinearization {ct_mul.size()}\")"
   ]
  },
  {
   "cell_type": "markdown",
   "metadata": {},
   "source": [
    "So that's all good ! \n",
    "\n",
    "But another problem emerges in CKKS after multiplication : the scale has changed. Because we of the multiplication, we have : $z = \\Delta x * \\Delta y = \\Delta^2 x y$. Therefore, if we add something of a different scale, let's say $\\Delta x$, SEAL will throw an error because we try to add things on different scales :"
   ]
  },
  {
   "cell_type": "code",
   "execution_count": 13,
   "metadata": {
    "ExecuteTime": {
     "end_time": "2020-05-22T16:37:33.001675Z",
     "start_time": "2020-05-22T16:37:32.969495Z"
    }
   },
   "outputs": [
    {
     "name": "stdout",
     "output_type": "stream",
     "text": [
      "scale mismatch\n"
     ]
    }
   ],
   "source": [
    "try:\n",
    "    evaluator.add_inplace(ct_mul, ctx)\n",
    "except ValueError as e:\n",
    "    print(e)"
   ]
  },
  {
   "cell_type": "markdown",
   "metadata": {},
   "source": [
    "We can check this manually :"
   ]
  },
  {
   "cell_type": "code",
   "execution_count": 14,
   "metadata": {
    "ExecuteTime": {
     "end_time": "2020-05-22T16:37:33.052903Z",
     "start_time": "2020-05-22T16:37:33.008201Z"
    }
   },
   "outputs": [
    {
     "name": "stdout",
     "output_type": "stream",
     "text": [
      "1.2089258196146292e+24\n",
      "1099511627776.0\n"
     ]
    }
   ],
   "source": [
    "print(ct_mul.scale)\n",
    "print(ctx.scale)"
   ]
  },
  {
   "cell_type": "markdown",
   "metadata": {},
   "source": [
    "So now we need to rescale $z$ by using one of our prime contained in the moduli, which will decrease the level by one : "
   ]
  },
  {
   "cell_type": "code",
   "execution_count": 15,
   "metadata": {
    "ExecuteTime": {
     "end_time": "2020-05-22T16:37:33.093271Z",
     "start_time": "2020-05-22T16:37:33.057482Z"
    }
   },
   "outputs": [
    {
     "name": "stdout",
     "output_type": "stream",
     "text": [
      "1099511775231.0198\n"
     ]
    }
   ],
   "source": [
    "evaluator.rescale_to_next_inplace(ct_mul)\n",
    "print(ct_mul.scale)"
   ]
  },
  {
   "cell_type": "markdown",
   "metadata": {},
   "source": [
    "We see that our scale has indeed decreased, nonetheless because we divided by a prime close to $\\Delta$ and not exactly $\\Delta$, we still do not have things of the exact same scale : "
   ]
  },
  {
   "cell_type": "code",
   "execution_count": 16,
   "metadata": {
    "ExecuteTime": {
     "end_time": "2020-05-22T16:37:33.126034Z",
     "start_time": "2020-05-22T16:37:33.097155Z"
    }
   },
   "outputs": [
    {
     "name": "stdout",
     "output_type": "stream",
     "text": [
      "False\n",
      "1099511775231.0198\n",
      "1099511627776.0\n"
     ]
    }
   ],
   "source": [
    "print(ct_mul.scale == scale)\n",
    "print(ct_mul.scale)\n",
    "print(scale)"
   ]
  },
  {
   "cell_type": "markdown",
   "metadata": {},
   "source": [
    "We can see that the scales are pretty close, but still not the same. That's why we need to manually force the scale of $z$ to be equal to $\\Delta$."
   ]
  },
  {
   "cell_type": "code",
   "execution_count": 17,
   "metadata": {
    "ExecuteTime": {
     "end_time": "2020-05-22T16:37:33.165579Z",
     "start_time": "2020-05-22T16:37:33.130377Z"
    }
   },
   "outputs": [
    {
     "name": "stdout",
     "output_type": "stream",
     "text": [
      "True\n"
     ]
    }
   ],
   "source": [
    "ct_mul.scale = scale\n",
    "print(ct_mul.scale == ctx.scale)"
   ]
  },
  {
   "cell_type": "markdown",
   "metadata": {},
   "source": [
    "Things are not over yet, because we used one prime and threw it away in $z$, we reduced the level of $z$, while $x$ is on another level, because its moduli contains one more prime."
   ]
  },
  {
   "cell_type": "code",
   "execution_count": 18,
   "metadata": {
    "ExecuteTime": {
     "end_time": "2020-05-22T16:37:33.201631Z",
     "start_time": "2020-05-22T16:37:33.168155Z"
    }
   },
   "outputs": [
    {
     "name": "stdout",
     "output_type": "stream",
     "text": [
      "encrypted1 and encrypted2 parameter mismatch\n"
     ]
    }
   ],
   "source": [
    "try:\n",
    "    evaluator.add_inplace(ct_mul, ctx)\n",
    "except ValueError as e:\n",
    "    print(e)"
   ]
  },
  {
   "cell_type": "markdown",
   "metadata": {},
   "source": [
    "So the final thing we need to do is to bring $x$ to the same level as $z$, by removing one of its prime modulus, and add them together : "
   ]
  },
  {
   "cell_type": "code",
   "execution_count": 19,
   "metadata": {
    "ExecuteTime": {
     "end_time": "2020-05-22T16:37:33.240062Z",
     "start_time": "2020-05-22T16:37:33.205873Z"
    }
   },
   "outputs": [],
   "source": [
    "ctx_leveled = seal.Ciphertext()\n",
    "evaluator.mod_switch_to(ctx, ct_mul.parms_id(), ctx_leveled)\n",
    "\n",
    "try:\n",
    "    evaluator.add_inplace(ct_mul, ctx_leveled)\n",
    "except ValueError as e:\n",
    "    print(e)"
   ]
  },
  {
   "cell_type": "code",
   "execution_count": 20,
   "metadata": {
    "ExecuteTime": {
     "end_time": "2020-05-22T16:37:33.285910Z",
     "start_time": "2020-05-22T16:37:33.244098Z"
    }
   },
   "outputs": [
    {
     "name": "stdout",
     "output_type": "stream",
     "text": [
      "\n",
      "    [ -0.0000001, -2.0000005, -6.0000012, ..., -0.0000000, -0.0000000, 0.0000000 ]\n",
      "\n"
     ]
    }
   ],
   "source": [
    "print_ctx(ct_mul)"
   ]
  },
  {
   "cell_type": "markdown",
   "metadata": {},
   "source": [
    "#### Rotation"
   ]
  },
  {
   "cell_type": "markdown",
   "metadata": {},
   "source": [
    "Finally, we have one more operation in CKKS which is rotation, which allows us to shift the slots of our vectors homomorphically."
   ]
  },
  {
   "cell_type": "code",
   "execution_count": 21,
   "metadata": {
    "ExecuteTime": {
     "end_time": "2020-05-22T16:37:33.364310Z",
     "start_time": "2020-05-22T16:37:33.295021Z"
    }
   },
   "outputs": [
    {
     "name": "stdout",
     "output_type": "stream",
     "text": [
      "Initial vector : \n",
      "\n",
      "    [ 1.0000000, 2.0000000, 3.0000000, ..., -0.0000000, -0.0000000, -0.0000000 ]\n",
      "\n",
      "Galois rotation of 1 (shift on the left) :\n",
      "\n",
      "    [ 2.0000008, 3.0000001, 4.0000000, ..., -0.0000000, -0.0000000, 1.0000000 ]\n",
      "\n",
      "Galois rotation of -1 (shift on the right) :\n",
      "\n",
      "    [ -0.0000000, 1.0000000, 2.0000000, ..., 0.0000000, -0.0000000, 0.0000000 ]\n",
      "\n"
     ]
    }
   ],
   "source": [
    "print(\"Initial vector : \")\n",
    "print_ctx(ctx)\n",
    "\n",
    "ctx_shifted = seal.Ciphertext()\n",
    "\n",
    "print(\"Galois rotation of 1 (shift on the left) :\")\n",
    "evaluator.rotate_vector(ctx, 1, galois_keys, ctx_shifted)\n",
    "print_ctx(ctx_shifted)\n",
    "\n",
    "print(\"Galois rotation of -1 (shift on the right) :\")\n",
    "evaluator.rotate_vector(ctx, -1, galois_keys, ctx_shifted)\n",
    "print_ctx(ctx_shifted)"
   ]
  },
  {
   "cell_type": "markdown",
   "metadata": {},
   "source": [
    "### Example : evaluating the polynomial $P(X) = \\pi X^3 + 0.4X + 1$"
   ]
  }
 ],
 "metadata": {
  "kernelspec": {
   "display_name": "Python 3",
   "language": "python",
   "name": "python3"
  },
  "language_info": {
   "codemirror_mode": {
    "name": "ipython",
    "version": 3
   },
   "file_extension": ".py",
   "mimetype": "text/x-python",
   "name": "python",
   "nbconvert_exporter": "python",
   "pygments_lexer": "ipython3",
   "version": "3.8.2"
  },
  "toc": {
   "base_numbering": 1,
   "nav_menu": {
    "height": "173px",
    "width": "197.4px"
   },
   "number_sections": true,
   "sideBar": true,
   "skip_h1_title": false,
   "title_cell": "Table of Contents",
   "title_sidebar": "Contents",
   "toc_cell": false,
   "toc_position": {},
   "toc_section_display": true,
   "toc_window_display": false
  }
 },
 "nbformat": 4,
 "nbformat_minor": 4
}
