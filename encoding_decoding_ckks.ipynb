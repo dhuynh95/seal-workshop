{
 "cells": [
  {
   "cell_type": "markdown",
   "metadata": {},
   "source": [
    "# Introduction to encoding in CKKS"
   ]
  },
  {
   "cell_type": "markdown",
   "metadata": {},
   "source": [
    "CKKS exploits the rich structure of polynomial rings for its plaintext and ciphertext spaces. Nonetheless, data comes more often in the form of vectors than polynomials.\n",
    "\n",
    "We will denote by $N$ the degree of our polynomial degree modulus, which will be a power of 2. We denote by $\\Phi_M(X) = X^N + 1$ the $m$-th [cyclotomic polynomial](https://en.wikipedia.org/wiki/Cyclotomic_polynomial) (note that $M=2N$). The plaintext space will be the polynomial ring $\\mathcal{R} = \\mathbb{Z}[X]/(X^N + 1)$. Let us denote by $\\xi_M$, the $m$-th root of unity : $\\xi_M = e^{2 i \\pi / M}$.\n",
    "\n",
    "Therefore it becomes necessary to encode our input $z \\in \\mathbb{C}^{N/2}$, into a polynomial $m(X) \\in \\mathbb{Z}[X]/(X^N + 1)$. \n",
    "\n",
    "Conversely, once computation has been done and we obtain a plaintext polynomial $m(X)$, we need to decode it to obtain the results of the computations. Therefore we also need to find a way to decode $m(X)$ into a vector $z \\in \\mathbb{C}^{N/2}$ containing the computed outputs.\n",
    "\n",
    "To understand how this is done, we will see how we can encode and decode complex values into polynomials. To do so, we will use the canonical embedding $\\sigma$ of $\\mathbb{R}[X]/(X^N + 1)$ into $\\mathbb{C}^{N}$. For any polynomial $m(X) \\in  \\mathbb{R}[X]/(X^N + 1)$, we have $\\sigma(m) = (m(\\xi_m^i))_{i = 1,3...n} \\in \\mathbb{C}^N$, i.e. $\\sigma$ simply evaluates a polynomial $m$, on the roots of $X^N + 1$.\n",
    "\n",
    "We can do the opposite operation which takes a vector $z \\in \\mathbb{C}^N$, and outputs a polynomial $m(X)$."
   ]
  },
  {
   "cell_type": "markdown",
   "metadata": {},
   "source": [
    "We will see an example now.\n",
    "\n",
    "Let $M = 8$, $N = \\frac{M}{2}= 4$, $\\Phi_M(X) = X^4 + 1$, and $\\omega = e^{\\frac{2 i \\pi}{8}} = e^{\\frac{i \\pi}{4}}$.\n",
    "Our goal here is to encode the following vectors : $[1, 2, 3, 4]$ and $[-1, -2, -3, -4]$, decode them, add and multiply their polynomial and decode it."
   ]
  },
  {
   "cell_type": "markdown",
   "metadata": {
    "ExecuteTime": {
     "end_time": "2020-05-19T12:37:43.119584Z",
     "start_time": "2020-05-19T12:37:42.812917Z"
    }
   },
   "source": [
    "![title](images/roots.PNG)\n",
    "<center>Roots of $X^4 + 1$ (source : <a href=\"https://heat-project.eu/School/Chris%20Peikert/slides-heat2.pdf\">Cryptography from Rings, HEAT summer school 2016)</a></center>"
   ]
  },
  {
   "cell_type": "markdown",
   "metadata": {},
   "source": [
    "As we saw, in order to decode a polynomial, we simply need to evaluate it on powers of an $M$-th root of unity. Here we choose $\\xi = \\omega = e^{\\frac{i \\pi}{4}}$.\n",
    "\n",
    "Once we have $\\xi$ and $M$, we can define both $\\sigma$ and its inverse $\\sigma^{-1}$, respectively the decoding and the encoding.\n",
    "\n",
    "Computing the output of $\\sigma$ is easy, but it is trickier to compute $\\sigma^{-1}$. Indeed, for any $z \\in \\mathbb{C}^n$, we must find a polynomial $m$ such that for all i=\n",
    "\n",
    "This becomes simply a linear equation to solve of the form $Ax=b$, with $A$ the [Vandermonde matrix](https://en.wikipedia.org/wiki/Vandermonde_matrix), and $b = z$ the vector we want to encode into a polynomial.\n",
    "\n",
    "Now that we know how to compute both $\\sigma$ and $\\sigma^{-1}$, let's implement it !"
   ]
  },
  {
   "cell_type": "code",
   "execution_count": 1,
   "metadata": {
    "ExecuteTime": {
     "end_time": "2020-05-19T16:27:05.133942Z",
     "start_time": "2020-05-19T16:27:04.755474Z"
    }
   },
   "outputs": [
    {
     "data": {
      "text/plain": [
       "(0.7071067811865476+0.7071067811865475j)"
      ]
     },
     "execution_count": 1,
     "metadata": {},
     "output_type": "execute_result"
    }
   ],
   "source": [
    "import numpy as np\n",
    "\n",
    "# First we set the parameters\n",
    "M = 8\n",
    "N = M //2\n",
    "\n",
    "# We set xi, which will be used in our computations\n",
    "xi = np.exp(2 * np.pi * 1j / M)\n",
    "xi"
   ]
  },
  {
   "cell_type": "code",
   "execution_count": 2,
   "metadata": {
    "ExecuteTime": {
     "end_time": "2020-05-19T16:27:05.144844Z",
     "start_time": "2020-05-19T16:27:05.138274Z"
    }
   },
   "outputs": [],
   "source": [
    "def vandermonde(xi: np.complex128, M: int):\n",
    "    \"\"\"Computes the Vandermonde matrix from a m-th root of unity.\"\"\"\n",
    "    \n",
    "    N = M //2\n",
    "    matrix = []\n",
    "    # We will generate each row of the matrix\n",
    "    for i in range(N):\n",
    "        # For each row we select a different root\n",
    "        root = xi ** (2 * i + 1)\n",
    "        row = []\n",
    "        \n",
    "        # Then we store its powers\n",
    "        for j in range(N):\n",
    "            row.append(root ** j)\n",
    "        matrix.append(row)\n",
    "    return matrix"
   ]
  },
  {
   "cell_type": "code",
   "execution_count": 3,
   "metadata": {
    "ExecuteTime": {
     "end_time": "2020-05-19T16:27:05.179256Z",
     "start_time": "2020-05-19T16:27:05.148363Z"
    }
   },
   "outputs": [],
   "source": [
    "from numpy.polynomial import Polynomial as P\n",
    "\n",
    "def sigma_inverse(b, xi, M):\n",
    "    \"\"\"Encodes the vector b in a polynomial using an M-th root of unity.\"\"\"\n",
    "    \n",
    "    # First we create the Vandermonde matrix\n",
    "    A = vandermonde(xi, M)\n",
    "    \n",
    "    # Then we solve the system\n",
    "    coeffs = np.linalg.solve(A, b)\n",
    "    \n",
    "    # Finally we output the polynomial\n",
    "    p = P(coeffs)\n",
    "    return p\n",
    "\n",
    "def sigma(p, xi, M):\n",
    "    \"\"\"Decodes a polynomial by applying it to the M-th roots of unity.\"\"\"\n",
    "    \n",
    "    outputs = []\n",
    "    N = M //2\n",
    "    \n",
    "    # We simply apply the polynomial on the roots\n",
    "    for i in range(N):\n",
    "        root = xi ** (2 * i + 1)\n",
    "        output = p(root)\n",
    "        outputs.append(output)\n",
    "    return np.array(outputs)"
   ]
  },
  {
   "cell_type": "markdown",
   "metadata": {},
   "source": [
    "Now we can start experimenting with real values, let's first encode a vector and see how it is encoded."
   ]
  },
  {
   "cell_type": "code",
   "execution_count": 4,
   "metadata": {
    "ExecuteTime": {
     "end_time": "2020-05-19T16:27:05.215602Z",
     "start_time": "2020-05-19T16:27:05.184183Z"
    }
   },
   "outputs": [
    {
     "data": {
      "text/plain": [
       "array([1, 2, 3, 4])"
      ]
     },
     "execution_count": 4,
     "metadata": {},
     "output_type": "execute_result"
    }
   ],
   "source": [
    "b = np.array([1, 2, 3, 4])\n",
    "b"
   ]
  },
  {
   "cell_type": "code",
   "execution_count": 5,
   "metadata": {
    "ExecuteTime": {
     "end_time": "2020-05-19T16:27:05.259313Z",
     "start_time": "2020-05-19T16:27:05.222253Z"
    }
   },
   "outputs": [
    {
     "data": {
      "text/latex": [
       "$x \\mapsto \\text{(2.5+4.440892098500626e-16j)} + (\\text{(-4.996003610813204e-16+0.7071067811865479j)})\\,x + (\\text{(-3.4694469519536176e-16+0.5000000000000003j)})\\,x^{2} + (\\text{(-8.326672684688674e-16+0.7071067811865472j)})\\,x^{3}$"
      ],
      "text/plain": [
       "Polynomial([ 2.50000000e+00+4.44089210e-16j, -4.99600361e-16+7.07106781e-01j,\n",
       "       -3.46944695e-16+5.00000000e-01j, -8.32667268e-16+7.07106781e-01j], domain=[-1,  1], window=[-1,  1])"
      ]
     },
     "execution_count": 5,
     "metadata": {},
     "output_type": "execute_result"
    }
   ],
   "source": [
    "p = sigma_inverse(b, xi, M)\n",
    "p"
   ]
  },
  {
   "cell_type": "markdown",
   "metadata": {},
   "source": [
    "Let's see now how we can extract the vector we had initially from the polynomial: "
   ]
  },
  {
   "cell_type": "code",
   "execution_count": 6,
   "metadata": {
    "ExecuteTime": {
     "end_time": "2020-05-19T16:27:05.316359Z",
     "start_time": "2020-05-19T16:27:05.263945Z"
    }
   },
   "outputs": [
    {
     "data": {
      "text/plain": [
       "array([1.-1.11022302e-16j, 2.-4.71844785e-16j, 3.+2.77555756e-17j,\n",
       "       4.+2.22044605e-16j])"
      ]
     },
     "execution_count": 6,
     "metadata": {},
     "output_type": "execute_result"
    }
   ],
   "source": [
    "b_reconstructed = sigma(p, xi, M)\n",
    "b_reconstructed"
   ]
  },
  {
   "cell_type": "markdown",
   "metadata": {},
   "source": [
    "We can see that the reconstruction and the initial vector are very close."
   ]
  },
  {
   "cell_type": "code",
   "execution_count": 7,
   "metadata": {
    "ExecuteTime": {
     "end_time": "2020-05-19T16:27:05.363907Z",
     "start_time": "2020-05-19T16:27:05.321551Z"
    }
   },
   "outputs": [
    {
     "data": {
      "text/plain": [
       "6.944442800358888e-16"
      ]
     },
     "execution_count": 7,
     "metadata": {},
     "output_type": "execute_result"
    }
   ],
   "source": [
    "np.linalg.norm(b_reconstructed - b)"
   ]
  },
  {
   "cell_type": "markdown",
   "metadata": {},
   "source": [
    "We can now start to encode several vectors, and see how we can perform homomorphic operations on them and decode it."
   ]
  },
  {
   "cell_type": "code",
   "execution_count": 8,
   "metadata": {
    "ExecuteTime": {
     "end_time": "2020-05-19T16:27:05.400867Z",
     "start_time": "2020-05-19T16:27:05.367549Z"
    }
   },
   "outputs": [],
   "source": [
    "m1 = np.array([1, 2, 3, 4])\n",
    "m2 = np.array([1, -2, 3, -4])"
   ]
  },
  {
   "cell_type": "code",
   "execution_count": 9,
   "metadata": {
    "ExecuteTime": {
     "end_time": "2020-05-19T16:27:05.443617Z",
     "start_time": "2020-05-19T16:27:05.405797Z"
    }
   },
   "outputs": [],
   "source": [
    "p1 = sigma_inverse(m1, xi, M)\n",
    "p2 = sigma_inverse(m2, xi, M)"
   ]
  },
  {
   "cell_type": "markdown",
   "metadata": {},
   "source": [
    "Because when doing multiplication we might have terms whose degree is higher than $N$, we will need to do a modulo operation using $X^N + 1$."
   ]
  },
  {
   "cell_type": "code",
   "execution_count": 10,
   "metadata": {
    "ExecuteTime": {
     "end_time": "2020-05-19T16:27:05.496388Z",
     "start_time": "2020-05-19T16:27:05.447649Z"
    }
   },
   "outputs": [],
   "source": [
    "from numpy.polynomial import polynomial as poly\n",
    "\n",
    "def polymul(p1,p2,poly_modulo):\n",
    "    p12 = p1 * p2\n",
    "    return P(poly.polydiv(p12.coef, poly_modulo.coef)[1])"
   ]
  },
  {
   "cell_type": "code",
   "execution_count": 11,
   "metadata": {
    "ExecuteTime": {
     "end_time": "2020-05-19T16:27:05.551212Z",
     "start_time": "2020-05-19T16:27:05.499384Z"
    }
   },
   "outputs": [
    {
     "data": {
      "text/latex": [
       "$x \\mapsto \\text{(2.0000000000000004+1.1102230246251565e-16j)} + (\\text{(-0.7071067811865477+0.707106781186547j)})\\,x + (\\text{(2.1094237467877966e-15-1.9999999999999996j)})\\,x^{2} + (\\text{(0.7071067811865466+0.707106781186549j)})\\,x^{3}$"
      ],
      "text/plain": [
       "Polynomial([ 2.00000000e+00+1.11022302e-16j, -7.07106781e-01+7.07106781e-01j,\n",
       "        2.10942375e-15-2.00000000e+00j,  7.07106781e-01+7.07106781e-01j], domain=[-1.,  1.], window=[-1.,  1.])"
      ]
     },
     "execution_count": 11,
     "metadata": {},
     "output_type": "execute_result"
    }
   ],
   "source": [
    "p_add = p1 + p2\n",
    "p_add"
   ]
  },
  {
   "cell_type": "markdown",
   "metadata": {},
   "source": [
    "Here as expected, we see that p1 + p2 decodes correctly to $[2, 0, 6, 0]$."
   ]
  },
  {
   "cell_type": "code",
   "execution_count": 12,
   "metadata": {
    "ExecuteTime": {
     "end_time": "2020-05-19T16:27:05.602712Z",
     "start_time": "2020-05-19T16:27:05.556915Z"
    }
   },
   "outputs": [
    {
     "data": {
      "text/plain": [
       "array([2.0000000e+00+3.25176795e-17j, 4.4408921e-16-4.44089210e-16j,\n",
       "       6.0000000e+00+1.11022302e-16j, 4.4408921e-16+3.33066907e-16j])"
      ]
     },
     "execution_count": 12,
     "metadata": {},
     "output_type": "execute_result"
    }
   ],
   "source": [
    "sigma(p_add, xi, M)"
   ]
  },
  {
   "cell_type": "markdown",
   "metadata": {},
   "source": [
    "To perform multiplication, we first need to define the polynomial modulus which we will use."
   ]
  },
  {
   "cell_type": "code",
   "execution_count": 13,
   "metadata": {
    "ExecuteTime": {
     "end_time": "2020-05-19T16:27:05.645845Z",
     "start_time": "2020-05-19T16:27:05.614217Z"
    }
   },
   "outputs": [
    {
     "data": {
      "text/latex": [
       "$x \\mapsto \\text{1.0}\\color{LightGray}{ + \\text{0.0}\\,x}\\color{LightGray}{ + \\text{0.0}\\,x^{2}}\\color{LightGray}{ + \\text{0.0}\\,x^{3}} + \\text{1.0}\\,x^{4}$"
      ],
      "text/plain": [
       "Polynomial([1., 0., 0., 0., 1.], domain=[-1,  1], window=[-1,  1])"
      ]
     },
     "execution_count": 13,
     "metadata": {},
     "output_type": "execute_result"
    }
   ],
   "source": [
    "poly_modulo = P([1,0,0,0,1])\n",
    "poly_modulo"
   ]
  },
  {
   "cell_type": "markdown",
   "metadata": {},
   "source": [
    "Now we can perform multiplication."
   ]
  },
  {
   "cell_type": "code",
   "execution_count": 14,
   "metadata": {
    "ExecuteTime": {
     "end_time": "2020-05-19T16:27:05.692519Z",
     "start_time": "2020-05-19T16:27:05.651307Z"
    }
   },
   "outputs": [
    {
     "data": {
      "text/latex": [
       "$x \\mapsto \\text{(-2.5-3.753941602013811e-15j)} + (\\text{(-3.535533905932734-0.7071067811865541j)})\\,x + (\\text{(1.049582097943949e-14-7.5j)})\\,x^{2} + (\\text{(3.5355339059327395-0.7071067811865395j)})\\,x^{3}$"
      ],
      "text/plain": [
       "Polynomial([-2.50000000e+00-3.75394160e-15j, -3.53553391e+00-7.07106781e-01j,\n",
       "        1.04958210e-14-7.50000000e+00j,  3.53553391e+00-7.07106781e-01j], domain=[-1,  1], window=[-1,  1])"
      ]
     },
     "execution_count": 14,
     "metadata": {},
     "output_type": "execute_result"
    }
   ],
   "source": [
    "p_mult = polymul(p1, p2, poly_modulo)\n",
    "p_mult"
   ]
  },
  {
   "cell_type": "markdown",
   "metadata": {},
   "source": [
    "Finally if we decode it, we can see that we have the expected result."
   ]
  },
  {
   "cell_type": "code",
   "execution_count": 15,
   "metadata": {
    "ExecuteTime": {
     "end_time": "2020-05-19T16:27:05.730735Z",
     "start_time": "2020-05-19T16:27:05.695862Z"
    }
   },
   "outputs": [
    {
     "data": {
      "text/plain": [
       "array([  1.-8.67361738e-16j,  -4.+6.86950496e-16j,   9.+6.86950496e-16j,\n",
       "       -16.-9.08301212e-15j])"
      ]
     },
     "execution_count": 15,
     "metadata": {},
     "output_type": "execute_result"
    }
   ],
   "source": [
    "sigma(p_mult, xi, M)"
   ]
  },
  {
   "cell_type": "code",
   "execution_count": 16,
   "metadata": {
    "ExecuteTime": {
     "end_time": "2020-05-19T16:27:05.764172Z",
     "start_time": "2020-05-19T16:27:05.733985Z"
    }
   },
   "outputs": [
    {
     "data": {
      "text/latex": [
       "$x \\mapsto \\text{1.0} + \\text{2.0}\\,x + \\text{1.0}\\,x^{2} + \\text{2.0}\\,x^{3} + \\text{1.0}\\,x^{4}$"
      ],
      "text/plain": [
       "Polynomial([1., 2., 1., 2., 1.], domain=[-1,  1], window=[-1,  1])"
      ]
     },
     "execution_count": 16,
     "metadata": {},
     "output_type": "execute_result"
    }
   ],
   "source": [
    "p = P([1,2,1,2,1])\n",
    "p"
   ]
  },
  {
   "cell_type": "code",
   "execution_count": 17,
   "metadata": {
    "ExecuteTime": {
     "end_time": "2020-05-19T16:27:05.809932Z",
     "start_time": "2020-05-19T16:27:05.768806Z"
    }
   },
   "outputs": [
    {
     "data": {
      "text/plain": [
       "(0.7071067811865476+0.7071067811865475j)"
      ]
     },
     "execution_count": 17,
     "metadata": {},
     "output_type": "execute_result"
    }
   ],
   "source": [
    "xi"
   ]
  },
  {
   "cell_type": "code",
   "execution_count": 18,
   "metadata": {
    "ExecuteTime": {
     "end_time": "2020-05-19T16:27:05.848262Z",
     "start_time": "2020-05-19T16:27:05.814623Z"
    }
   },
   "outputs": [
    {
     "data": {
      "text/plain": [
       "((8.881784197001252e-16+3.8284271247461907j),\n",
       " (-5.10702591327572e-15-3.8284271247461854j))"
      ]
     },
     "execution_count": 18,
     "metadata": {},
     "output_type": "execute_result"
    }
   ],
   "source": [
    "p(xi), p(xi ** 7)"
   ]
  },
  {
   "cell_type": "code",
   "execution_count": 19,
   "metadata": {
    "ExecuteTime": {
     "end_time": "2020-05-19T16:27:05.876446Z",
     "start_time": "2020-05-19T16:27:05.852912Z"
    }
   },
   "outputs": [
    {
     "data": {
      "text/plain": [
       "((7.771561172376096e-16+1.8284271247461903j),\n",
       " (-1.7763568394002505e-15-1.8284271247461892j))"
      ]
     },
     "execution_count": 19,
     "metadata": {},
     "output_type": "execute_result"
    }
   ],
   "source": [
    "p(xi ** 3), p(xi ** 5)"
   ]
  },
  {
   "cell_type": "code",
   "execution_count": 20,
   "metadata": {
    "ExecuteTime": {
     "end_time": "2020-05-19T16:27:05.920372Z",
     "start_time": "2020-05-19T16:27:05.879281Z"
    }
   },
   "outputs": [
    {
     "data": {
      "text/plain": [
       "(0.707106781186547-0.707106781186548j)"
      ]
     },
     "execution_count": 20,
     "metadata": {},
     "output_type": "execute_result"
    }
   ],
   "source": [
    "xi ** 7"
   ]
  },
  {
   "cell_type": "markdown",
   "metadata": {},
   "source": [
    "## CKKS test"
   ]
  },
  {
   "cell_type": "code",
   "execution_count": 21,
   "metadata": {
    "ExecuteTime": {
     "end_time": "2020-05-19T16:27:05.959555Z",
     "start_time": "2020-05-19T16:27:05.927058Z"
    }
   },
   "outputs": [],
   "source": [
    "b = [p(xi ** (2 * i + 1)) for i in range(N)]"
   ]
  },
  {
   "cell_type": "code",
   "execution_count": 24,
   "metadata": {
    "ExecuteTime": {
     "end_time": "2020-05-19T16:31:44.554501Z",
     "start_time": "2020-05-19T16:31:44.545970Z"
    }
   },
   "outputs": [],
   "source": [
    "R_basis = []\n",
    "for i in range(N):\n",
    "    mono = np.zeros(N)\n",
    "    mono[i] = 1\n",
    "    R_basis.append(P(mono))"
   ]
  },
  {
   "cell_type": "code",
   "execution_count": 28,
   "metadata": {
    "ExecuteTime": {
     "end_time": "2020-05-19T16:32:36.099618Z",
     "start_time": "2020-05-19T16:32:36.092915Z"
    }
   },
   "outputs": [],
   "source": [
    "sigmoid_R_basis = [sigma(p, xi, M) for p in R_basis]"
   ]
  },
  {
   "cell_type": "code",
   "execution_count": 34,
   "metadata": {
    "ExecuteTime": {
     "end_time": "2020-05-19T16:38:56.348771Z",
     "start_time": "2020-05-19T16:38:56.343553Z"
    }
   },
   "outputs": [],
   "source": [
    "sigmoid_R_basis = np.array(sigmoid_R_basis).T"
   ]
  },
  {
   "cell_type": "code",
   "execution_count": 43,
   "metadata": {
    "ExecuteTime": {
     "end_time": "2020-05-19T16:42:31.968146Z",
     "start_time": "2020-05-19T16:42:31.956645Z"
    }
   },
   "outputs": [
    {
     "data": {
      "text/plain": [
       "array([1.+2.41421356j, 1.+0.41421356j, 1.-0.41421356j, 1.-2.41421356j])"
      ]
     },
     "execution_count": 43,
     "metadata": {},
     "output_type": "execute_result"
    }
   ],
   "source": [
    "z = [1,1,1,1]\n",
    "\n",
    "b = np.matmul(sigmoid_R_basis, z)\n",
    "b"
   ]
  },
  {
   "cell_type": "code",
   "execution_count": 44,
   "metadata": {
    "ExecuteTime": {
     "end_time": "2020-05-19T16:42:34.947446Z",
     "start_time": "2020-05-19T16:42:34.936953Z"
    }
   },
   "outputs": [
    {
     "data": {
      "text/latex": [
       "$x \\mapsto \\text{(1+2.220446049250313e-16j)} + (\\text{(1+0j)})\\,x + (\\text{(0.9999999999999998+2.7755575615628716e-17j)})\\,x^{2} + (\\text{(1+2.220446049250313e-16j)})\\,x^{3}$"
      ],
      "text/plain": [
       "Polynomial([1.+2.22044605e-16j, 1.+0.00000000e+00j, 1.+2.77555756e-17j,\n",
       "       1.+2.22044605e-16j], domain=[-1,  1], window=[-1,  1])"
      ]
     },
     "execution_count": 44,
     "metadata": {},
     "output_type": "execute_result"
    }
   ],
   "source": [
    "p = sigma_inverse(b, xi, M)\n",
    "p"
   ]
  },
  {
   "cell_type": "code",
   "execution_count": 42,
   "metadata": {
    "ExecuteTime": {
     "end_time": "2020-05-19T16:40:34.995010Z",
     "start_time": "2020-05-19T16:40:34.986282Z"
    }
   },
   "outputs": [
    {
     "data": {
      "text/plain": [
       "array([1.+2.41421356j, 1.+0.41421356j, 1.-0.41421356j, 1.-2.41421356j])"
      ]
     },
     "execution_count": 42,
     "metadata": {},
     "output_type": "execute_result"
    }
   ],
   "source": [
    "sigma(p, xi, M)"
   ]
  },
  {
   "cell_type": "code",
   "execution_count": 45,
   "metadata": {
    "ExecuteTime": {
     "end_time": "2020-05-19T16:43:09.073780Z",
     "start_time": "2020-05-19T16:43:09.064778Z"
    }
   },
   "outputs": [
    {
     "data": {
      "text/plain": [
       "(1+2.414213562373095j)"
      ]
     },
     "execution_count": 45,
     "metadata": {},
     "output_type": "execute_result"
    }
   ],
   "source": [
    "sigma_inverse(b, xi, M)(xi)"
   ]
  }
 ],
 "metadata": {
  "kernelspec": {
   "display_name": "Python 3",
   "language": "python",
   "name": "python3"
  },
  "language_info": {
   "codemirror_mode": {
    "name": "ipython",
    "version": 3
   },
   "file_extension": ".py",
   "mimetype": "text/x-python",
   "name": "python",
   "nbconvert_exporter": "python",
   "pygments_lexer": "ipython3",
   "version": "3.8.2"
  },
  "toc": {
   "base_numbering": 1,
   "nav_menu": {},
   "number_sections": true,
   "sideBar": true,
   "skip_h1_title": false,
   "title_cell": "Table of Contents",
   "title_sidebar": "Contents",
   "toc_cell": false,
   "toc_position": {},
   "toc_section_display": true,
   "toc_window_display": false
  }
 },
 "nbformat": 4,
 "nbformat_minor": 4
}
