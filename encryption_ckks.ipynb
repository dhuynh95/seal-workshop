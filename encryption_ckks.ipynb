{
 "cells": [
  {
   "cell_type": "markdown",
   "metadata": {},
   "source": [
    "# Encryption in CKKS"
   ]
  },
  {
   "cell_type": "code",
   "execution_count": 1,
   "metadata": {
    "ExecuteTime": {
     "end_time": "2020-05-26T06:26:31.030257Z",
     "start_time": "2020-05-26T06:26:30.789708Z"
    }
   },
   "outputs": [],
   "source": [
    "from numpy.polynomial import Polynomial\n",
    "import numpy as np\n",
    "\n",
    "def round_coordinates(coordinates):\n",
    "    \"\"\"Gives the integral rest.\"\"\"\n",
    "    coordinates = coordinates - np.floor(coordinates)\n",
    "    return coordinates\n",
    "\n",
    "def coordinate_wise_random_rounding(coordinates):\n",
    "    \"\"\"Rounds coordinates randonmly.\"\"\"\n",
    "    r = round_coordinates(coordinates)\n",
    "    f = np.array([np.random.choice([c, c-1], 1, p=[1-c, c]) for c in r]).reshape(-1)\n",
    "    \n",
    "    rounded_coordinates = coordinates - f\n",
    "    rounded_coordinates = [int(coeff) for coeff in rounded_coordinates]\n",
    "    return rounded_coordinates\n",
    "\n",
    "class CKKSEncoder:\n",
    "    \"\"\"Basic CKKS encoder to encode complex vectors into polynomials.\"\"\"\n",
    "    \n",
    "    def __init__(self, context, scale:float):\n",
    "        \"\"\"Initializes with scale.\"\"\"\n",
    "        \n",
    "        M = context.M\n",
    "        self.context = context\n",
    "        self.xi = np.exp(2 * np.pi * 1j / M)\n",
    "        self.M = M\n",
    "        self.create_sigma_R_basis()\n",
    "        self.scale = scale\n",
    "        \n",
    "        self.slot_count = M // 4\n",
    "        \n",
    "    @staticmethod\n",
    "    def vandermonde(xi: np.complex128, M: int) -> np.array:\n",
    "        \"\"\"Computes the Vandermonde matrix from a m-th root of unity.\"\"\"\n",
    "        \n",
    "        N = M //2\n",
    "        matrix = []\n",
    "        # We will generate each row of the matrix\n",
    "        for i in range(N):\n",
    "            # For each row we select a different root\n",
    "            root = xi ** (2 * i + 1)\n",
    "            row = []\n",
    "\n",
    "            # Then we store its powers\n",
    "            for j in range(N):\n",
    "                row.append(root ** j)\n",
    "            matrix.append(row)\n",
    "        return matrix\n",
    "    \n",
    "    def sigma_inverse(self, b: np.array) -> Polynomial:\n",
    "        \"\"\"Encodes the vector b in a polynomial using an M-th root of unity.\"\"\"\n",
    "\n",
    "        # First we create the Vandermonde matrix\n",
    "        A = CKKSEncoder.vandermonde(self.xi, M)\n",
    "\n",
    "        # Then we solve the system\n",
    "        coeffs = np.linalg.solve(A, b)\n",
    "\n",
    "        # Finally we output the polynomial\n",
    "        p = Polynomial(coeffs)\n",
    "        return p\n",
    "\n",
    "    def sigma(self, p: Polynomial) -> np.array:\n",
    "        \"\"\"Decodes a polynomial by applying it to the M-th roots of unity.\"\"\"\n",
    "\n",
    "        outputs = []\n",
    "        N = self.M //2\n",
    "\n",
    "        # We simply apply the polynomial on the roots\n",
    "        for i in range(N):\n",
    "            root = self.xi ** (2 * i + 1)\n",
    "            output = p(root)\n",
    "            outputs.append(output)\n",
    "        return np.array(outputs)\n",
    "    \n",
    "\n",
    "    def pi(self, z: np.array) -> np.array:\n",
    "        \"\"\"Projects a vector of H into C^{N/2}.\"\"\"\n",
    "\n",
    "        N = self.M // 4\n",
    "        return z[:N]\n",
    "\n",
    "\n",
    "    def pi_inverse(self, z: np.array) -> np.array:\n",
    "        \"\"\"Expands a vector of C^{N/2} by expanding it with its\n",
    "        complex conjugate.\"\"\"\n",
    "\n",
    "        z_conjugate = z[::-1]\n",
    "        z_conjugate = [np.conjugate(x) for x in z_conjugate]\n",
    "        return np.concatenate([z, z_conjugate])\n",
    "    \n",
    "    def create_sigma_R_basis(self):\n",
    "        \"\"\"Creates the basis (sigma(1), sigma(X), ..., sigma(X** N-1)).\"\"\"\n",
    "\n",
    "        self.sigma_R_basis = np.array(self.vandermonde(self.xi, self.M)).T\n",
    "    \n",
    "\n",
    "    def compute_basis_coordinates(self, z):\n",
    "        \"\"\"Computes the coordinates of a vector with respect to the orthogonal lattice basis.\"\"\"\n",
    "        output = np.array([np.real(np.vdot(z, b) / np.vdot(b,b)) for b in self.sigma_R_basis])\n",
    "        return output\n",
    "\n",
    "    def sigma_R_discretization(self, z):\n",
    "        \"\"\"Projects a vector on the lattice using coordinate wise random rounding.\"\"\"\n",
    "        coordinates = self.compute_basis_coordinates(z)\n",
    "\n",
    "        rounded_coordinates = coordinate_wise_random_rounding(coordinates)\n",
    "        y = np.matmul(self.sigma_R_basis.T, rounded_coordinates)\n",
    "        return y\n",
    "\n",
    "\n",
    "    def encode(self, z: np.array) -> Polynomial:\n",
    "        \"\"\"Encodes a vector by expanding it first to H,\n",
    "        scale it, project it on the lattice of sigma(R), and performs\n",
    "        sigma inverse.\n",
    "        \"\"\"\n",
    "        pi_z = self.pi_inverse(z)\n",
    "        scaled_pi_z = self.scale * pi_z\n",
    "        rounded_scale_pi_zi = self.sigma_R_discretization(scaled_pi_z)\n",
    "        p = self.sigma_inverse(rounded_scale_pi_zi)\n",
    "\n",
    "        # We round it afterwards due to numerical imprecision\n",
    "        coef = np.round(np.real(p.coef)).astype(int)\n",
    "        p = self.context.QPolynomial(coef)\n",
    "        \n",
    "        return p\n",
    "\n",
    "\n",
    "    def decode(self, p: Polynomial) -> np.array:\n",
    "        \"\"\"Decodes a polynomial by removing the scale, \n",
    "        evaluating on the roots, and project it on C^(N/2)\"\"\"\n",
    "        rescaled_p = p / self.scale\n",
    "        z = self.sigma(rescaled_p)\n",
    "        pi_z = self.pi(z)\n",
    "        return pi_z"
   ]
  },
  {
   "cell_type": "code",
   "execution_count": 2,
   "metadata": {
    "ExecuteTime": {
     "end_time": "2020-05-26T06:26:31.169370Z",
     "start_time": "2020-05-26T06:26:31.160752Z"
    }
   },
   "outputs": [],
   "source": [
    "from numpy.polynomial import Polynomial\n",
    "\n",
    "def mod_q(coeffs: np.ndarray, q: int) -> np.ndarray:\n",
    "    \"\"\"Reduce modulo q to (-q/2,q/2]\"\"\"\n",
    "    \n",
    "    r = coeffs % q\n",
    "    # Coefficients larger than q/2 are sent to (-q/2,0]\n",
    "    to_cycle = r > (q/2)\n",
    "    r[to_cycle] = r[to_cycle] - q\n",
    "    return r\n",
    "\n",
    "def mod_q_polynomial(p: Polynomial, q: int) -> Polynomial:\n",
    "    \"\"\"Reduces modulo q the coefficients of a polynomial\"\"\"\n",
    "    coeffs = p.coef\n",
    "    coeffs_mod_q = mod_q(coeffs, q)\n",
    "    p = Polynomial(coeffs_mod_q)\n",
    "    return p"
   ]
  },
  {
   "cell_type": "code",
   "execution_count": 23,
   "metadata": {
    "ExecuteTime": {
     "end_time": "2020-05-26T06:31:43.684459Z",
     "start_time": "2020-05-26T06:31:43.653642Z"
    }
   },
   "outputs": [],
   "source": [
    "from numpy.polynomial import polynomial as poly\n",
    "from numpy.polynomial import Polynomial\n",
    "from __future__ import annotations\n",
    "        \n",
    "class QPolynomialGenerator:\n",
    "    \"\"\"Polynomial generator for polynomials in Z_q[X]/(X^N + 1)\"\"\"\n",
    "    \n",
    "    def __init__(self, N: int, q: int):\n",
    "        self.q = q\n",
    "        \n",
    "        coeffs = np.zeros(N + 1)\n",
    "        coeffs[0] = 1\n",
    "        coeffs[-1] = 1\n",
    "        \n",
    "        self.poly_modulus = Polynomial(coeffs)\n",
    "    \n",
    "    def __call__(self, coef) -> QPolynomial:\n",
    "        \"\"\"Creates a polynomial from coefficients.\"\"\"\n",
    "        return QPolynomial(coef, self.q, self.poly_modulus, self)\n",
    "    \n",
    "class QPolynomial:\n",
    "    \"\"\"Polynomial in Z_q[X]/(X^N + 1). \n",
    "\n",
    "    Addition, substraction, multiplication and division are overload with\n",
    "    the correct operations inZ_q[X]/(X^N + 1).\"\"\"\n",
    "\n",
    "    def __init__(self, coef, q, poly_modulus, generator):\n",
    "        self.p = Polynomial(coef)\n",
    "        self.q = q\n",
    "        self.poly_modulus = poly_modulus\n",
    "        self.generator = generator\n",
    "\n",
    "    def __getattr__(self,k):\n",
    "        if k in self.__dict__.keys():\n",
    "            return getattr(self, k)\n",
    "        else:\n",
    "            try:\n",
    "                return getattr(self.p, k)\n",
    "            except AttributeError as e:\n",
    "                print(e)\n",
    "\n",
    "    def __mul__(self, right) -> QPolynomial:\n",
    "        if isinstance(right, QPolynomial):\n",
    "            right = right.p\n",
    "        p_mul = self.p * right % self.poly_modulus\n",
    "        p_mul = self.generator(p_mul.coef)\n",
    "        return p_mul\n",
    "\n",
    "    def __rmul__(self, left) -> QPolynomial:\n",
    "        return self.__mul__(left)\n",
    "\n",
    "    def __add__(self, right) -> QPolynomial:\n",
    "        if isinstance(right, QPolynomial):\n",
    "            right = right.p\n",
    "        p_add = (self.p + right) % self.poly_modulus\n",
    "        p_add = self.generator(p_add.coef)\n",
    "        return p_add\n",
    "\n",
    "    def __radd__(self, left) -> QPolynomial:\n",
    "        return self.__add__(left)\n",
    "\n",
    "    def __sub__(self, qpoly: QPolynomial) -> QPolynomial:\n",
    "        p_sub = (self.p - qpoly.p) % self.poly_modulus\n",
    "        p_sub = self.generator(p_sub.coef)\n",
    "        return p_sub\n",
    "\n",
    "    def __rsub__(self, qpoly: QPolynomial) -> QPolynomial:\n",
    "        p_sub = (qpoly.p - self.p) % self.poly_modulus\n",
    "        p_sub = self.generator(p_sub.coef)\n",
    "        return p_sub\n",
    "\n",
    "    def __neg__(self):\n",
    "        p_neg = - self.p %self.poly_modulus\n",
    "        p_neg = self.generator(p_neg.coef)\n",
    "        return p_neg\n",
    "\n",
    "    def __pos__(self):\n",
    "        p_pos = self.p %self.poly_modulus\n",
    "        p_pos = self.generator(p_pos.coef)\n",
    "        return p_pos\n",
    "\n",
    "    def __truediv__ (self, scale):\n",
    "        p_div = self.p / scale\n",
    "        p_div = self.generator(p_div.coef)\n",
    "        return p_div\n",
    "\n",
    "    def __call__(self, x):\n",
    "        return self.p(x)\n",
    "\n",
    "    def __repr__(self):\n",
    "        return self.p.__repr__()"
   ]
  },
  {
   "cell_type": "code",
   "execution_count": 24,
   "metadata": {
    "ExecuteTime": {
     "end_time": "2020-05-26T06:31:43.860973Z",
     "start_time": "2020-05-26T06:31:43.854026Z"
    }
   },
   "outputs": [],
   "source": [
    "class PolynomialSampler:\n",
    "    \"\"\"Base class to sample polynomials.\"\"\"\n",
    "    def __init__(self, context):\n",
    "        self.context = context\n",
    "        \n",
    "    def __getattr__(self,k):\n",
    "        \"\"\"Context variables are directly linked to the instance.\"\"\"\n",
    "        return getattr(self.context, k)\n",
    "        \n",
    "    def polynomial(self, coeffs):\n",
    "        p = self.context.QPolynomial(coeffs)\n",
    "        return p"
   ]
  },
  {
   "cell_type": "code",
   "execution_count": 25,
   "metadata": {
    "ExecuteTime": {
     "end_time": "2020-05-26T06:31:44.008782Z",
     "start_time": "2020-05-26T06:31:43.999570Z"
    }
   },
   "outputs": [],
   "source": [
    "class UniformPolynomial(PolynomialSampler):\n",
    "    def sample(self) -> QPolynomial:\n",
    "            \n",
    "        coeffs = np.random.choice(self.q, size=self.N)\n",
    "        coeffs = mod_q(coeffs, self.q)\n",
    "        \n",
    "        p = self.polynomial(coeffs)\n",
    "        return p\n",
    "    \n",
    "    def sample_manually(self, q) -> QPolynomial:\n",
    "        coeffs = np.random.choice(q, size=self.N)\n",
    "        coeffs = mod_q(coeffs, q)\n",
    "        \n",
    "        p = self.polynomial(coeffs)\n",
    "        return p"
   ]
  },
  {
   "cell_type": "code",
   "execution_count": 26,
   "metadata": {
    "ExecuteTime": {
     "end_time": "2020-05-26T06:31:44.155432Z",
     "start_time": "2020-05-26T06:31:44.145693Z"
    }
   },
   "outputs": [],
   "source": [
    "class ZO(PolynomialSampler):\n",
    "    def sample(self):\n",
    "        coeffs = np.random.choice([0,1,-1], size=self.N, p=[1-self.p, self.p /2, self.p/2])\n",
    "        \n",
    "        p = self.polynomial(coeffs)\n",
    "        return p"
   ]
  },
  {
   "cell_type": "code",
   "execution_count": 27,
   "metadata": {
    "ExecuteTime": {
     "end_time": "2020-05-26T06:31:44.295079Z",
     "start_time": "2020-05-26T06:31:44.288823Z"
    }
   },
   "outputs": [],
   "source": [
    "class HWT(PolynomialSampler):\n",
    "    def sample(self):\n",
    "        coeffs = np.random.choice([-1,1], size=self.N)\n",
    "        \n",
    "        slots = np.random.choice(range(self.N), self.N - self.h, replace=False)\n",
    "        \n",
    "        coeffs[slots] = 0\n",
    "            \n",
    "        p = self.polynomial(coeffs)\n",
    "        return p"
   ]
  },
  {
   "cell_type": "code",
   "execution_count": 28,
   "metadata": {
    "ExecuteTime": {
     "end_time": "2020-05-26T06:31:44.443653Z",
     "start_time": "2020-05-26T06:31:44.436053Z"
    }
   },
   "outputs": [],
   "source": [
    "class DG(PolynomialSampler):\n",
    "    def sample(self):\n",
    "        coeffs = np.random.normal(np.zeros(self.N), self.sigma)\n",
    "        \n",
    "        coeffs = np.array(coordinate_wise_random_rounding(coeffs))\n",
    "        coeffs = mod_q(coeffs, self.q)\n",
    "        \n",
    "        p = self.polynomial(coeffs)\n",
    "        return p"
   ]
  },
  {
   "cell_type": "code",
   "execution_count": 29,
   "metadata": {
    "ExecuteTime": {
     "end_time": "2020-05-26T06:31:44.605367Z",
     "start_time": "2020-05-26T06:31:44.589727Z"
    }
   },
   "outputs": [],
   "source": [
    "class Context:\n",
    "    def __init__(self, N, q):\n",
    "        self.N = N\n",
    "        self.M = N * 2\n",
    "        self.q = q\n",
    "        self.special_prime = q\n",
    "        \n",
    "        self.QPolynomial = QPolynomialGenerator(N, q)\n",
    "        \n",
    "        self.setup_parameters()\n",
    "        \n",
    "        self.hwt = HWT(self)\n",
    "        self.dg = DG(self)\n",
    "        self.uniform = UniformPolynomial(self)\n",
    "        self.zo = ZO(self)\n",
    "        \n",
    "    def setup_parameters(self):\n",
    "        self.h = 64\n",
    "        self.sigma = 3\n",
    "        self.p = 0.5"
   ]
  },
  {
   "cell_type": "code",
   "execution_count": 61,
   "metadata": {
    "ExecuteTime": {
     "end_time": "2020-05-26T06:36:59.194455Z",
     "start_time": "2020-05-26T06:36:59.174332Z"
    }
   },
   "outputs": [],
   "source": [
    "class Keygen:\n",
    "    def __init__(self, context):\n",
    "        self.context = context\n",
    "        \n",
    "    def generate_secret_key(self):\n",
    "        s = self.context.hwt.sample()\n",
    "        return s\n",
    "    \n",
    "    def generate_public_key(self, s):\n",
    "        a = self.context.uniform.sample()\n",
    "        e = self.context.dg.sample()\n",
    "        \n",
    "        b = -(a * s) + e\n",
    "\n",
    "        pk = (b, a)\n",
    "        return pk\n",
    "    \n",
    "    def generate_relin_key(self, s):\n",
    "        a = self.context.uniform.sample_manually(self.context.q * self.context.special_prime)\n",
    "        e = self.context.dg.sample()\n",
    "        \n",
    "        b = -(a * s) + e + self.context.special_prime * s * s\n",
    "        relin_key = (b,a)\n",
    "        return relin_key"
   ]
  },
  {
   "cell_type": "code",
   "execution_count": 62,
   "metadata": {
    "ExecuteTime": {
     "end_time": "2020-05-26T06:36:59.702283Z",
     "start_time": "2020-05-26T06:36:59.693666Z"
    }
   },
   "outputs": [],
   "source": [
    "class Encryptor:\n",
    "    def __init__(self, context, pk):\n",
    "        self.pk = pk\n",
    "        self.context = context\n",
    "        \n",
    "    def encrypt(self, ptx):\n",
    "        v = self.context.zo.sample()\n",
    "        e0 = self.context.dg.sample()\n",
    "        e1 = self.context.dg.sample()\n",
    "\n",
    "        v_pk = (self.pk[0] * v, self.pk[1] * v)\n",
    "        ctx = (v_pk[0] + e0 + ptx, v_pk[1] + e1)\n",
    "        \n",
    "        return ctx"
   ]
  },
  {
   "cell_type": "code",
   "execution_count": 63,
   "metadata": {
    "ExecuteTime": {
     "end_time": "2020-05-26T06:36:59.887036Z",
     "start_time": "2020-05-26T06:36:59.879374Z"
    }
   },
   "outputs": [],
   "source": [
    "class Decryptor:\n",
    "    def __init__(self, context, s):\n",
    "        self.s = s\n",
    "        self.context = context\n",
    "        \n",
    "    def decrypt(self, ctx):\n",
    "        ptx = ctx[0] + self.s * ctx[1]\n",
    "        return ptx"
   ]
  },
  {
   "cell_type": "code",
   "execution_count": 64,
   "metadata": {
    "ExecuteTime": {
     "end_time": "2020-05-26T06:37:00.062208Z",
     "start_time": "2020-05-26T06:37:00.055912Z"
    }
   },
   "outputs": [],
   "source": [
    "N = 512\n",
    "M = N * 2\n",
    "scale = pow(2,30)\n",
    "q = scale"
   ]
  },
  {
   "cell_type": "code",
   "execution_count": 65,
   "metadata": {
    "ExecuteTime": {
     "end_time": "2020-05-26T06:37:00.340305Z",
     "start_time": "2020-05-26T06:37:00.335386Z"
    }
   },
   "outputs": [],
   "source": [
    "context = Context(N, q)\n",
    "keygen = Keygen(context)"
   ]
  },
  {
   "cell_type": "code",
   "execution_count": 66,
   "metadata": {
    "ExecuteTime": {
     "end_time": "2020-05-26T06:37:01.039696Z",
     "start_time": "2020-05-26T06:37:00.929692Z"
    }
   },
   "outputs": [],
   "source": [
    "s = keygen.generate_secret_key()\n",
    "pk = keygen.generate_public_key(s)\n",
    "relin_key = keygen.generate_relin_key(s)"
   ]
  },
  {
   "cell_type": "code",
   "execution_count": 69,
   "metadata": {
    "ExecuteTime": {
     "end_time": "2020-05-26T06:37:35.419408Z",
     "start_time": "2020-05-26T06:37:34.907261Z"
    }
   },
   "outputs": [],
   "source": [
    "encoder = CKKSEncoder(context, scale)"
   ]
  },
  {
   "cell_type": "code",
   "execution_count": 70,
   "metadata": {
    "ExecuteTime": {
     "end_time": "2020-05-26T06:37:35.426712Z",
     "start_time": "2020-05-26T06:37:35.422749Z"
    }
   },
   "outputs": [],
   "source": [
    "encryptor = Encryptor(context, pk)\n",
    "decryptor = Decryptor(context, s)"
   ]
  },
  {
   "cell_type": "code",
   "execution_count": 71,
   "metadata": {
    "ExecuteTime": {
     "end_time": "2020-05-26T06:37:35.452653Z",
     "start_time": "2020-05-26T06:37:35.431983Z"
    }
   },
   "outputs": [],
   "source": [
    "z = np.arange(N//2)"
   ]
  },
  {
   "cell_type": "code",
   "execution_count": 72,
   "metadata": {
    "ExecuteTime": {
     "end_time": "2020-05-26T06:37:36.343961Z",
     "start_time": "2020-05-26T06:37:35.896670Z"
    }
   },
   "outputs": [],
   "source": [
    "ptx = encoder.encode(z)"
   ]
  },
  {
   "cell_type": "code",
   "execution_count": 73,
   "metadata": {
    "ExecuteTime": {
     "end_time": "2020-05-26T06:37:39.822236Z",
     "start_time": "2020-05-26T06:37:38.428296Z"
    }
   },
   "outputs": [
    {
     "data": {
      "text/plain": [
       "array([8.74666881e-08+2.80348299e-08j, 9.99999812e-01-7.54441863e-07j,\n",
       "       2.00000015e+00+5.02332226e-07j, 2.99999996e+00-6.01744684e-07j,\n",
       "       3.99999963e+00+8.73697666e-07j, 5.00000034e+00-1.26485933e-08j,\n",
       "       6.00000025e+00-6.08418610e-07j, 6.99999892e+00+2.53661812e-06j,\n",
       "       7.99999675e+00-1.91879824e-06j, 8.99999966e+00+1.48259995e-06j,\n",
       "       9.99999913e+00-3.86483899e-07j, 1.09999998e+01-6.68513326e-07j,\n",
       "       1.20000015e+01+9.99945883e-07j, 1.29999982e+01+8.47804440e-07j,\n",
       "       1.40000010e+01+1.46102057e-06j, 1.49999998e+01-2.73778760e-08j,\n",
       "       1.59999993e+01+6.45048150e-07j, 1.70000003e+01-2.20513385e-10j,\n",
       "       1.79999988e+01-1.22977695e-06j, 1.90000001e+01-9.03615565e-08j,\n",
       "       2.00000009e+01-2.41782207e-07j, 2.09999998e+01-7.42053953e-07j,\n",
       "       2.19999987e+01+2.58537234e-07j, 2.30000000e+01-4.33259686e-08j,\n",
       "       2.39999998e+01+1.86527174e-07j, 2.50000000e+01-7.62345316e-08j,\n",
       "       2.60000000e+01-1.01423968e-07j, 2.70000008e+01+9.51836004e-07j,\n",
       "       2.80000008e+01-5.54558426e-08j, 2.90000000e+01+9.24376991e-07j,\n",
       "       3.00000012e+01-1.16842608e-06j, 3.09999994e+01-7.94615929e-08j,\n",
       "       3.20000006e+01+2.03689623e-07j, 3.30000009e+01+3.98844193e-07j,\n",
       "       3.40000006e+01-1.11933794e-06j, 3.49999992e+01-1.19967851e-06j,\n",
       "       3.59999989e+01-1.60777134e-07j, 3.69999993e+01+1.05370729e-06j,\n",
       "       3.79999985e+01+3.03303423e-07j, 3.89999994e+01-8.36977641e-07j,\n",
       "       4.00000002e+01+6.20036360e-07j, 4.09999996e+01+2.13475502e-07j,\n",
       "       4.19999998e+01-2.61920974e-08j, 4.30000003e+01-8.13488704e-07j,\n",
       "       4.40000011e+01+4.97777819e-07j, 4.49999998e+01-1.75745896e-07j,\n",
       "       4.60000000e+01-2.03033785e-07j, 4.69999997e+01-1.62887879e-07j,\n",
       "       4.79999997e+01-1.05332596e-06j, 4.90000006e+01-6.79470915e-07j,\n",
       "       4.99999999e+01-1.58493332e-06j, 5.09999996e+01-8.16647471e-07j,\n",
       "       5.19999985e+01+2.04376522e-06j, 5.29999999e+01+8.81802521e-07j,\n",
       "       5.40000003e+01+2.64072725e-07j, 5.49999999e+01+5.62265114e-08j,\n",
       "       5.60000001e+01+9.44521027e-07j, 5.70000007e+01+3.65641235e-07j,\n",
       "       5.80000004e+01-4.04320659e-07j, 5.90000013e+01-4.47648020e-07j,\n",
       "       6.00000008e+01+7.10367132e-07j, 6.10000009e+01-3.87882018e-07j,\n",
       "       6.19999991e+01+1.61194221e-06j, 6.30000000e+01+6.14644790e-07j,\n",
       "       6.39999999e+01+3.60754601e-07j, 6.50000020e+01+6.08262191e-07j,\n",
       "       6.59999999e+01-9.18944774e-07j, 6.69999994e+01+8.81901418e-07j,\n",
       "       6.79999999e+01+2.10417610e-07j, 6.90000006e+01+7.85839131e-07j,\n",
       "       6.99999994e+01-6.72395192e-07j, 7.10000001e+01-8.14222140e-07j,\n",
       "       7.20000024e+01+7.13692984e-07j, 7.29999995e+01-6.76454619e-07j,\n",
       "       7.40000000e+01-4.26838326e-07j, 7.50000016e+01-1.34270007e-07j,\n",
       "       7.60000004e+01+2.83496924e-08j, 7.69999970e+01+3.05905171e-07j,\n",
       "       7.80000002e+01+3.43097359e-07j, 7.90000001e+01-2.43503894e-07j,\n",
       "       7.99999992e+01-1.85065419e-06j, 8.10000005e+01-1.43949027e-06j,\n",
       "       8.20000010e+01-4.51765310e-08j, 8.30000012e+01-1.97027053e-06j,\n",
       "       8.40000002e+01+8.38935680e-07j, 8.49999986e+01-5.90065348e-07j,\n",
       "       8.59999998e+01+3.68619656e-07j, 8.69999995e+01-1.57215222e-07j,\n",
       "       8.79999990e+01+1.80659752e-06j, 8.90000010e+01-2.29390551e-09j,\n",
       "       8.99999987e+01+1.20173097e-06j, 9.09999990e+01+1.66934830e-06j,\n",
       "       9.20000000e+01-3.22280076e-07j, 9.29999999e+01+1.34070458e-07j,\n",
       "       9.40000003e+01+4.78927120e-09j, 9.49999996e+01-7.86696184e-08j,\n",
       "       9.60000006e+01+2.93076670e-07j, 9.70000001e+01-2.13081428e-07j,\n",
       "       9.80000001e+01+4.21263055e-07j, 9.90000000e+01+2.00786184e-07j,\n",
       "       9.99999999e+01-7.18986222e-08j, 1.01000000e+02+2.81440151e-07j,\n",
       "       1.01999999e+02-2.58856724e-07j, 1.03000000e+02-1.38523315e-07j,\n",
       "       1.04000000e+02+1.85641449e-07j, 1.05000000e+02+4.99331730e-07j,\n",
       "       1.06000000e+02+2.57344860e-07j, 1.06999999e+02+3.32478065e-07j,\n",
       "       1.07999999e+02+7.33743661e-07j, 1.09000000e+02-3.07778901e-07j,\n",
       "       1.10000000e+02+5.50359076e-07j, 1.10999999e+02+3.49122748e-08j,\n",
       "       1.12000000e+02-6.26650496e-08j, 1.13000001e+02+1.74118906e-06j,\n",
       "       1.14000001e+02+9.29311783e-08j, 1.15000000e+02-1.57042732e-06j,\n",
       "       1.15999998e+02+7.04370686e-07j, 1.17000000e+02+5.82406668e-07j,\n",
       "       1.18000001e+02-2.68921644e-07j, 1.19000000e+02+1.39960261e-07j,\n",
       "       1.20000000e+02-2.56796695e-07j, 1.20999999e+02-8.51807316e-07j,\n",
       "       1.22000000e+02+2.56501192e-07j, 1.23000000e+02-1.63215070e-07j,\n",
       "       1.24000000e+02+1.18990978e-06j, 1.25000001e+02+8.31889721e-07j,\n",
       "       1.26000001e+02+8.32959837e-07j, 1.27000000e+02-9.84001450e-09j,\n",
       "       1.28000000e+02+3.24773811e-07j, 1.29000000e+02+1.69086573e-07j,\n",
       "       1.30000001e+02-1.80841754e-07j, 1.31000000e+02-6.42399133e-07j,\n",
       "       1.31999999e+02-1.08282323e-06j, 1.33000001e+02+3.70986781e-08j,\n",
       "       1.34000000e+02+3.70614197e-07j, 1.35000000e+02-1.20257154e-06j,\n",
       "       1.35999999e+02-9.47657010e-08j, 1.37000000e+02-1.12450269e-08j,\n",
       "       1.38000001e+02-1.41874164e-07j, 1.39000001e+02-9.24777743e-07j,\n",
       "       1.40000000e+02-4.59804606e-08j, 1.40999999e+02-4.72948316e-08j,\n",
       "       1.42000000e+02+2.87236935e-07j, 1.43000000e+02+6.01691505e-07j,\n",
       "       1.44000000e+02+5.14521962e-07j, 1.45000001e+02+1.49565733e-07j,\n",
       "       1.45999999e+02+5.60991298e-08j, 1.47000000e+02-7.15813729e-07j,\n",
       "       1.48000000e+02+1.97478994e-06j, 1.49000000e+02+1.20197988e-06j,\n",
       "       1.50000000e+02+1.59092667e-07j, 1.51000000e+02+4.19046542e-07j,\n",
       "       1.51999999e+02-1.06432299e-07j, 1.53000001e+02+4.63586707e-07j,\n",
       "       1.53999999e+02+8.27667446e-07j, 1.55000000e+02-3.12991911e-07j,\n",
       "       1.56000001e+02-8.24583235e-07j, 1.57000000e+02+6.84331454e-08j,\n",
       "       1.58000000e+02-1.17588963e-07j, 1.59000000e+02-7.38972794e-08j,\n",
       "       1.60000000e+02-6.17555452e-07j, 1.61000000e+02+9.05070721e-08j,\n",
       "       1.62000000e+02+7.50584572e-08j, 1.62999999e+02-2.20751303e-07j,\n",
       "       1.63999999e+02-1.97033575e-07j, 1.65000000e+02-2.80393703e-07j,\n",
       "       1.66000001e+02+5.02310897e-07j, 1.67000000e+02-2.07428009e-06j,\n",
       "       1.68000000e+02+3.89819341e-07j, 1.69000000e+02-7.79693288e-07j,\n",
       "       1.69999999e+02-8.98673385e-08j, 1.71000001e+02+1.52151067e-07j,\n",
       "       1.72000000e+02+7.08391759e-07j, 1.73000000e+02+4.02470661e-08j,\n",
       "       1.74000000e+02+4.64970171e-07j, 1.75000000e+02+3.95192068e-07j,\n",
       "       1.76000000e+02-4.90665609e-07j, 1.77000000e+02-1.59047623e-06j,\n",
       "       1.78000001e+02+8.81065176e-08j, 1.79000000e+02-1.14876066e-07j,\n",
       "       1.79999999e+02+1.53594819e-07j, 1.81000001e+02-4.61791430e-07j,\n",
       "       1.82000000e+02+5.32790558e-08j, 1.83000000e+02+5.14618318e-07j,\n",
       "       1.84000000e+02-3.25371598e-07j, 1.85000000e+02+1.77518167e-07j,\n",
       "       1.86000001e+02-3.13115383e-07j, 1.87000000e+02+5.67674981e-07j,\n",
       "       1.87999999e+02+6.91283923e-07j, 1.89000000e+02+3.17200633e-06j,\n",
       "       1.90000000e+02+2.67353158e-07j, 1.90999999e+02-4.39604822e-07j,\n",
       "       1.92000000e+02-1.20320589e-06j, 1.93000000e+02-1.21213120e-08j,\n",
       "       1.93999998e+02+8.43823230e-07j, 1.95000001e+02+2.33115088e-07j,\n",
       "       1.96000000e+02-1.30587260e-06j, 1.97000000e+02-1.10750689e-06j,\n",
       "       1.97999999e+02-3.79128764e-08j, 1.99000001e+02-1.88677376e-08j,\n",
       "       2.00000000e+02-1.24872415e-08j, 2.01000001e+02-2.24588291e-07j,\n",
       "       2.02000001e+02-1.27155207e-06j, 2.02999999e+02-1.02826377e-07j,\n",
       "       2.03999999e+02-5.68330165e-08j, 2.05000000e+02+1.63705148e-06j,\n",
       "       2.06000000e+02+1.13964462e-06j, 2.07000001e+02-1.01182139e-06j,\n",
       "       2.08000001e+02+2.34578993e-06j, 2.09000000e+02+3.06121798e-07j,\n",
       "       2.10000000e+02+3.28126006e-07j, 2.10999998e+02-1.25357460e-07j,\n",
       "       2.12000000e+02+9.72902193e-07j, 2.13000001e+02-7.92800932e-07j,\n",
       "       2.14000000e+02+1.06502540e-08j, 2.15000001e+02-2.92606309e-07j,\n",
       "       2.16000002e+02+5.30106128e-07j, 2.17000001e+02+6.54441251e-07j,\n",
       "       2.18000000e+02+1.79613025e-07j, 2.19000001e+02+1.07105500e-07j,\n",
       "       2.20000000e+02-3.98585051e-07j, 2.20999999e+02-1.05046842e-06j,\n",
       "       2.22000000e+02-1.46947485e-08j, 2.22999999e+02+3.66830378e-07j,\n",
       "       2.23999999e+02-2.67262976e-07j, 2.25000001e+02+6.18416863e-07j,\n",
       "       2.25999999e+02+1.39837717e-06j, 2.27000000e+02-5.03952293e-07j,\n",
       "       2.27999999e+02-7.25481907e-07j, 2.29000000e+02+2.08145067e-07j,\n",
       "       2.30000001e+02+7.30758085e-07j, 2.31000000e+02+9.84506244e-07j,\n",
       "       2.32000000e+02+3.47783136e-08j, 2.33000000e+02-1.57946920e-06j,\n",
       "       2.34000000e+02-8.73376500e-07j, 2.35000000e+02+5.63417370e-07j,\n",
       "       2.35999999e+02+5.10493937e-07j, 2.37000000e+02+7.45139062e-09j,\n",
       "       2.38000000e+02-5.72699154e-07j, 2.39000002e+02+1.38757488e-06j,\n",
       "       2.40000000e+02-1.12128273e-07j, 2.41000000e+02-1.24401989e-07j,\n",
       "       2.42000000e+02+8.77787585e-08j, 2.43000000e+02-1.72728339e-06j,\n",
       "       2.44000000e+02-5.20217036e-07j, 2.45000001e+02+4.80198528e-07j,\n",
       "       2.46000001e+02+6.49587054e-07j, 2.47000000e+02+7.12780624e-07j,\n",
       "       2.48000001e+02+1.62001820e-07j, 2.49000001e+02-6.16980664e-07j,\n",
       "       2.50000001e+02-1.69855865e-06j, 2.51000000e+02+2.66079500e-07j,\n",
       "       2.52000000e+02+4.00016372e-07j, 2.52999998e+02+5.96624733e-07j,\n",
       "       2.54000000e+02-2.97181647e-06j, 2.55000001e+02+1.32679778e-06j])"
      ]
     },
     "execution_count": 73,
     "metadata": {},
     "output_type": "execute_result"
    }
   ],
   "source": [
    "ctx = encryptor.encrypt(ptx)\n",
    "ptx = decryptor.decrypt(ctx)\n",
    "encoder.decode(ptx)"
   ]
  },
  {
   "cell_type": "code",
   "execution_count": 74,
   "metadata": {
    "ExecuteTime": {
     "end_time": "2020-05-26T06:37:41.473368Z",
     "start_time": "2020-05-26T06:37:39.829678Z"
    }
   },
   "outputs": [
    {
     "data": {
      "text/plain": [
       "array([1.74933376e-07+5.60696598e-08j, 1.99999962e+00-1.50888373e-06j,\n",
       "       4.00000029e+00+1.00466445e-06j, 5.99999992e+00-1.20348937e-06j,\n",
       "       7.99999926e+00+1.74739533e-06j, 1.00000007e+01-2.52971866e-08j,\n",
       "       1.20000005e+01-1.21683722e-06j, 1.39999978e+01+5.07323624e-06j,\n",
       "       1.59999935e+01-3.83759648e-06j, 1.79999993e+01+2.96519989e-06j,\n",
       "       1.99999983e+01-7.72967798e-07j, 2.19999995e+01-1.33702665e-06j,\n",
       "       2.40000030e+01+1.99989177e-06j, 2.59999963e+01+1.69560888e-06j,\n",
       "       2.80000021e+01+2.92204113e-06j, 2.99999997e+01-5.47557519e-08j,\n",
       "       3.19999986e+01+1.29009630e-06j, 3.40000007e+01-4.41026771e-10j,\n",
       "       3.59999976e+01-2.45955390e-06j, 3.80000001e+01-1.80723113e-07j,\n",
       "       4.00000017e+01-4.83564413e-07j, 4.19999996e+01-1.48410791e-06j,\n",
       "       4.39999974e+01+5.17074469e-07j, 4.59999999e+01-8.66519372e-08j,\n",
       "       4.79999997e+01+3.73054348e-07j, 4.99999999e+01-1.52469063e-07j,\n",
       "       5.20000001e+01-2.02847936e-07j, 5.40000016e+01+1.90367201e-06j,\n",
       "       5.60000016e+01-1.10911685e-07j, 5.79999999e+01+1.84875398e-06j,\n",
       "       6.00000024e+01-2.33685216e-06j, 6.19999988e+01-1.58923186e-07j,\n",
       "       6.40000012e+01+4.07379247e-07j, 6.60000018e+01+7.97688386e-07j,\n",
       "       6.80000013e+01-2.23867588e-06j, 6.99999983e+01-2.39935702e-06j,\n",
       "       7.19999979e+01-3.21554268e-07j, 7.39999985e+01+2.10741457e-06j,\n",
       "       7.59999969e+01+6.06606847e-07j, 7.79999989e+01-1.67395528e-06j,\n",
       "       8.00000004e+01+1.24007272e-06j, 8.19999991e+01+4.26951004e-07j,\n",
       "       8.39999996e+01-5.23841948e-08j, 8.60000006e+01-1.62697741e-06j,\n",
       "       8.80000022e+01+9.95555638e-07j, 8.99999997e+01-3.51491792e-07j,\n",
       "       9.20000000e+01-4.06067571e-07j, 9.39999994e+01-3.25775758e-07j,\n",
       "       9.59999994e+01-2.10665192e-06j, 9.80000011e+01-1.35894183e-06j,\n",
       "       9.99999998e+01-3.16986664e-06j, 1.01999999e+02-1.63329494e-06j,\n",
       "       1.03999997e+02+4.08753044e-06j, 1.06000000e+02+1.76360504e-06j,\n",
       "       1.08000001e+02+5.28145449e-07j, 1.10000000e+02+1.12453023e-07j,\n",
       "       1.12000000e+02+1.88904205e-06j, 1.14000001e+02+7.31282469e-07j,\n",
       "       1.16000001e+02-8.08641317e-07j, 1.18000003e+02-8.95296040e-07j,\n",
       "       1.20000002e+02+1.42073426e-06j, 1.22000002e+02-7.75764036e-07j,\n",
       "       1.23999998e+02+3.22388442e-06j, 1.26000000e+02+1.22928958e-06j,\n",
       "       1.28000000e+02+7.21509203e-07j, 1.30000004e+02+1.21652438e-06j,\n",
       "       1.32000000e+02-1.83788955e-06j, 1.33999999e+02+1.76380284e-06j,\n",
       "       1.36000000e+02+4.20835221e-07j, 1.38000001e+02+1.57167826e-06j,\n",
       "       1.39999999e+02-1.34479038e-06j, 1.42000000e+02-1.62844428e-06j,\n",
       "       1.44000005e+02+1.42738597e-06j, 1.45999999e+02-1.35290924e-06j,\n",
       "       1.48000000e+02-8.53676653e-07j, 1.50000003e+02-2.68540013e-07j,\n",
       "       1.52000001e+02+5.66993847e-08j, 1.53999994e+02+6.11810343e-07j,\n",
       "       1.56000000e+02+6.86194717e-07j, 1.58000000e+02-4.87007789e-07j,\n",
       "       1.59999998e+02-3.70130838e-06j, 1.62000001e+02-2.87898053e-06j,\n",
       "       1.64000002e+02-9.03530619e-08j, 1.66000002e+02-3.94054106e-06j,\n",
       "       1.68000000e+02+1.67787136e-06j, 1.69999997e+02-1.18013070e-06j,\n",
       "       1.72000000e+02+7.37239311e-07j, 1.73999999e+02-3.14430444e-07j,\n",
       "       1.75999998e+02+3.61319504e-06j, 1.78000002e+02-4.58781102e-09j,\n",
       "       1.79999997e+02+2.40346195e-06j, 1.81999998e+02+3.33869659e-06j,\n",
       "       1.84000000e+02-6.44560153e-07j, 1.86000000e+02+2.68140916e-07j,\n",
       "       1.88000001e+02+9.57854240e-09j, 1.89999999e+02-1.57339237e-07j,\n",
       "       1.92000001e+02+5.86153341e-07j, 1.94000000e+02-4.26162856e-07j,\n",
       "       1.96000000e+02+8.42526109e-07j, 1.98000000e+02+4.01572368e-07j,\n",
       "       2.00000000e+02-1.43797244e-07j, 2.01999999e+02+5.62880302e-07j,\n",
       "       2.03999999e+02-5.17713447e-07j, 2.06000000e+02-2.77046631e-07j,\n",
       "       2.07999999e+02+3.71282898e-07j, 2.09999999e+02+9.98663459e-07j,\n",
       "       2.12000000e+02+5.14689720e-07j, 2.13999998e+02+6.64956129e-07j,\n",
       "       2.15999999e+02+1.46748732e-06j, 2.18000001e+02-6.15557802e-07j,\n",
       "       2.19999999e+02+1.10071815e-06j, 2.21999999e+02+6.98245497e-08j,\n",
       "       2.24000001e+02-1.25330099e-07j, 2.26000003e+02+3.48237811e-06j,\n",
       "       2.28000002e+02+1.85862357e-07j, 2.30000000e+02-3.14085464e-06j,\n",
       "       2.31999997e+02+1.40874137e-06j, 2.34000000e+02+1.16481334e-06j,\n",
       "       2.36000003e+02-5.37843289e-07j, 2.37999999e+02+2.79920522e-07j,\n",
       "       2.40000000e+02-5.13593390e-07j, 2.41999997e+02-1.70361463e-06j,\n",
       "       2.44000000e+02+5.13002384e-07j, 2.46000000e+02-3.26430139e-07j,\n",
       "       2.48000000e+02+2.37981955e-06j, 2.50000002e+02+1.66377944e-06j,\n",
       "       2.52000002e+02+1.66591967e-06j, 2.53999999e+02-1.96800290e-08j,\n",
       "       2.56000000e+02+6.49547623e-07j, 2.58000000e+02+3.38173147e-07j,\n",
       "       2.60000002e+02-3.61683509e-07j, 2.62000000e+02-1.28479827e-06j,\n",
       "       2.63999997e+02-2.16564647e-06j, 2.66000003e+02+7.41973563e-08j,\n",
       "       2.68000001e+02+7.41228395e-07j, 2.70000000e+02-2.40514309e-06j,\n",
       "       2.71999998e+02-1.89531402e-07j, 2.74000000e+02-2.24900538e-08j,\n",
       "       2.76000002e+02-2.83748328e-07j, 2.78000001e+02-1.84955549e-06j,\n",
       "       2.80000000e+02-9.19609211e-08j, 2.81999999e+02-9.45896632e-08j,\n",
       "       2.84000000e+02+5.74473869e-07j, 2.86000000e+02+1.20338301e-06j,\n",
       "       2.88000000e+02+1.02904392e-06j, 2.90000002e+02+2.99131466e-07j,\n",
       "       2.91999998e+02+1.12198260e-07j, 2.94000000e+02-1.43162746e-06j,\n",
       "       2.96000000e+02+3.94957988e-06j, 2.98000001e+02+2.40395976e-06j,\n",
       "       3.00000000e+02+3.18185334e-07j, 3.02000000e+02+8.38093085e-07j,\n",
       "       3.03999999e+02-2.12864599e-07j, 3.06000001e+02+9.27173414e-07j,\n",
       "       3.07999999e+02+1.65533489e-06j, 3.10000000e+02-6.25983823e-07j,\n",
       "       3.12000002e+02-1.64916647e-06j, 3.14000000e+02+1.36866291e-07j,\n",
       "       3.15999999e+02-2.35177925e-07j, 3.17999999e+02-1.47794559e-07j,\n",
       "       3.20000001e+02-1.23511090e-06j, 3.22000000e+02+1.81014144e-07j,\n",
       "       3.23999999e+02+1.50116914e-07j, 3.25999998e+02-4.41502607e-07j,\n",
       "       3.27999999e+02-3.94067150e-07j, 3.30000000e+02-5.60787406e-07j,\n",
       "       3.32000001e+02+1.00462179e-06j, 3.34000001e+02-4.14856017e-06j,\n",
       "       3.36000001e+02+7.79638683e-07j, 3.38000000e+02-1.55938658e-06j,\n",
       "       3.39999999e+02-1.79734677e-07j, 3.42000001e+02+3.04302134e-07j,\n",
       "       3.44000000e+02+1.41678352e-06j, 3.46000000e+02+8.04941322e-08j,\n",
       "       3.48000000e+02+9.29940342e-07j, 3.50000000e+02+7.90384135e-07j,\n",
       "       3.52000000e+02-9.81331219e-07j, 3.54000001e+02-3.18095245e-06j,\n",
       "       3.56000001e+02+1.76213035e-07j, 3.58000000e+02-2.29752132e-07j,\n",
       "       3.59999999e+02+3.07189637e-07j, 3.62000001e+02-9.23582860e-07j,\n",
       "       3.64000000e+02+1.06558112e-07j, 3.66000000e+02+1.02923664e-06j,\n",
       "       3.68000000e+02-6.50743196e-07j, 3.70000000e+02+3.55036335e-07j,\n",
       "       3.72000002e+02-6.26230765e-07j, 3.74000000e+02+1.13534996e-06j,\n",
       "       3.75999999e+02+1.38256785e-06j, 3.78000000e+02+6.34401266e-06j,\n",
       "       3.79999999e+02+5.34706317e-07j, 3.81999999e+02-8.79209644e-07j,\n",
       "       3.84000001e+02-2.40641178e-06j, 3.86000000e+02-2.42426239e-08j,\n",
       "       3.87999996e+02+1.68764646e-06j, 3.90000002e+02+4.66230176e-07j,\n",
       "       3.92000001e+02-2.61174520e-06j, 3.94000000e+02-2.21501378e-06j,\n",
       "       3.95999999e+02-7.58257528e-08j, 3.98000001e+02-3.77354752e-08j,\n",
       "       4.00000001e+02-2.49744829e-08j, 4.02000002e+02-4.49176582e-07j,\n",
       "       4.04000002e+02-2.54310413e-06j, 4.05999999e+02-2.05652753e-07j,\n",
       "       4.07999999e+02-1.13666033e-07j, 4.09999999e+02+3.27410295e-06j,\n",
       "       4.12000000e+02+2.27928925e-06j, 4.14000002e+02-2.02364278e-06j,\n",
       "       4.16000001e+02+4.69157986e-06j, 4.18000001e+02+6.12243596e-07j,\n",
       "       4.20000000e+02+6.56252013e-07j, 4.21999997e+02-2.50714919e-07j,\n",
       "       4.24000001e+02+1.94580439e-06j, 4.26000001e+02-1.58560186e-06j,\n",
       "       4.27999999e+02+2.13005080e-08j, 4.30000002e+02-5.85212618e-07j,\n",
       "       4.32000004e+02+1.06021226e-06j, 4.34000001e+02+1.30888250e-06j,\n",
       "       4.36000001e+02+3.59226050e-07j, 4.38000001e+02+2.14210999e-07j,\n",
       "       4.40000000e+02-7.97170102e-07j, 4.41999998e+02-2.10093684e-06j,\n",
       "       4.44000000e+02-2.93894971e-08j, 4.45999999e+02+7.33660755e-07j,\n",
       "       4.47999999e+02-5.34525952e-07j, 4.50000001e+02+1.23683373e-06j,\n",
       "       4.51999999e+02+2.79675434e-06j, 4.53999999e+02-1.00790459e-06j,\n",
       "       4.55999998e+02-1.45096381e-06j, 4.57999999e+02+4.16290135e-07j,\n",
       "       4.60000002e+02+1.46151617e-06j, 4.62000000e+02+1.96901249e-06j,\n",
       "       4.64000001e+02+6.95566271e-08j, 4.66000000e+02-3.15893839e-06j,\n",
       "       4.68000000e+02-1.74675300e-06j, 4.70000000e+02+1.12683474e-06j,\n",
       "       4.71999998e+02+1.02098787e-06j, 4.74000000e+02+1.49027812e-08j,\n",
       "       4.76000001e+02-1.14539831e-06j, 4.78000003e+02+2.77514975e-06j,\n",
       "       4.80000001e+02-2.24256546e-07j, 4.82000000e+02-2.48803978e-07j,\n",
       "       4.84000000e+02+1.75557517e-07j, 4.86000000e+02-3.45456679e-06j,\n",
       "       4.88000000e+02-1.04043407e-06j, 4.90000001e+02+9.60397056e-07j,\n",
       "       4.92000001e+02+1.29917411e-06j, 4.94000000e+02+1.42556125e-06j,\n",
       "       4.96000002e+02+3.24003640e-07j, 4.98000003e+02-1.23396133e-06j,\n",
       "       5.00000001e+02-3.39711730e-06j, 5.02000000e+02+5.32159000e-07j,\n",
       "       5.04000001e+02+8.00032744e-07j, 5.05999996e+02+1.19324947e-06j,\n",
       "       5.07999999e+02-5.94363293e-06j, 5.10000002e+02+2.65359555e-06j])"
      ]
     },
     "execution_count": 74,
     "metadata": {},
     "output_type": "execute_result"
    }
   ],
   "source": [
    "ct_add = (ctx[0] + ctx[0], ctx[1] + ctx[1])\n",
    "ptx = decryptor.decrypt(ct_add)\n",
    "encoder.decode(ptx)"
   ]
  },
  {
   "cell_type": "code",
   "execution_count": 75,
   "metadata": {
    "ExecuteTime": {
     "end_time": "2020-05-26T06:37:46.817214Z",
     "start_time": "2020-05-26T06:37:46.810804Z"
    }
   },
   "outputs": [],
   "source": [
    "a = np.ones(encoder.slot_count)\n",
    "b = np.ones(encoder.slot_count) * 5"
   ]
  },
  {
   "cell_type": "code",
   "execution_count": 76,
   "metadata": {
    "ExecuteTime": {
     "end_time": "2020-05-26T06:37:48.048664Z",
     "start_time": "2020-05-26T06:37:47.188491Z"
    }
   },
   "outputs": [],
   "source": [
    "ptx1 = encoder.encode(a)\n",
    "ptx2 = encoder.encode(b)"
   ]
  },
  {
   "cell_type": "code",
   "execution_count": 77,
   "metadata": {
    "ExecuteTime": {
     "end_time": "2020-05-26T06:37:48.180354Z",
     "start_time": "2020-05-26T06:37:48.051609Z"
    }
   },
   "outputs": [],
   "source": [
    "ctx1 = encryptor.encrypt(ptx1)\n",
    "ctx2 = encryptor.encrypt(ptx2)"
   ]
  },
  {
   "cell_type": "code",
   "execution_count": 78,
   "metadata": {
    "ExecuteTime": {
     "end_time": "2020-05-26T06:37:48.204372Z",
     "start_time": "2020-05-26T06:37:48.184482Z"
    }
   },
   "outputs": [],
   "source": [
    "ct_mul = (ctx1[0] * ctx2[0], ctx1[1] * ctx2[0] + ctx1[0] * ctx2[1], ctx1[1] * ctx2[1])"
   ]
  },
  {
   "cell_type": "code",
   "execution_count": 93,
   "metadata": {
    "ExecuteTime": {
     "end_time": "2020-05-26T06:43:37.215547Z",
     "start_time": "2020-05-26T06:43:37.189838Z"
    }
   },
   "outputs": [],
   "source": [
    "d = (ct_mul[2] * relin_key[0] / context.special_prime, ct_mul[2] * relin_key[1] / context.special_prime)"
   ]
  },
  {
   "cell_type": "code",
   "execution_count": 94,
   "metadata": {
    "ExecuteTime": {
     "end_time": "2020-05-26T06:43:37.561365Z",
     "start_time": "2020-05-26T06:43:37.449056Z"
    }
   },
   "outputs": [],
   "source": [
    "d = (context.QPolynomial(coordinate_wise_random_rounding(d[0].coef)), \n",
    "     context.QPolynomial(coordinate_wise_random_rounding(d[1].coef)))"
   ]
  },
  {
   "cell_type": "code",
   "execution_count": 95,
   "metadata": {
    "ExecuteTime": {
     "end_time": "2020-05-26T06:43:38.525297Z",
     "start_time": "2020-05-26T06:43:38.512406Z"
    }
   },
   "outputs": [],
   "source": [
    "ct_relin = (ct_mul[0] + d[0], ct_mul[1] + d[1])"
   ]
  },
  {
   "cell_type": "code",
   "execution_count": 97,
   "metadata": {
    "ExecuteTime": {
     "end_time": "2020-05-26T06:44:03.817944Z",
     "start_time": "2020-05-26T06:44:03.467777Z"
    }
   },
   "outputs": [
    {
     "data": {
      "text/plain": [
       "array([5.03750131-3.31889031e-01j, 5.00749586+4.65599258e-01j,\n",
       "       5.19769979-1.40269111e-01j, 5.01486511+4.97945796e-01j,\n",
       "       5.06654593-1.07228585e-01j, 4.91182808-5.28833979e-01j,\n",
       "       4.73969924-3.50959178e-01j, 5.10322369-2.15165387e-02j,\n",
       "       4.95393491-2.92524571e-02j, 4.77256184+1.65123046e-01j,\n",
       "       4.82863266+5.03841968e-01j, 5.4827891 -1.82881831e-01j,\n",
       "       5.17102362+2.35680454e-01j, 4.80463359-4.08136147e-02j,\n",
       "       5.02366343+1.22010441e-01j, 4.59527279-4.85108985e-01j,\n",
       "       4.73414342-3.08973132e-01j, 4.81276417+4.08715148e-01j,\n",
       "       4.94518062-5.60241467e-01j, 5.51095687+2.50942039e-01j,\n",
       "       4.87954653+2.36569864e-01j, 4.95533197-1.76754156e-01j,\n",
       "       4.6041859 +1.20881519e-01j, 4.57801498+6.20952891e-02j,\n",
       "       5.19599657-2.87952326e-01j, 4.97654409-2.07463838e-01j,\n",
       "       5.09982764-3.65451652e-01j, 4.94642676+3.52133627e-02j,\n",
       "       4.84414665-2.70589883e-01j, 5.21072802-2.34105938e-02j,\n",
       "       4.89485056+1.96965659e-02j, 4.99616835+4.46717238e-01j,\n",
       "       4.81278751-4.46326322e-02j, 5.22478567+1.09877616e-01j,\n",
       "       4.82935742+2.30188891e-01j, 5.58937286+2.49230708e-01j,\n",
       "       4.75397739-2.88493625e-01j, 4.7128883 +2.39505033e-01j,\n",
       "       4.93263746-1.36596766e-01j, 5.05738001-6.67110960e-01j,\n",
       "       4.99038255+8.51653629e-03j, 5.23042282+3.15743377e-01j,\n",
       "       5.04654823-3.03936309e-01j, 5.25093102-7.44115832e-02j,\n",
       "       4.81049197+6.46259493e-01j, 5.63580675-2.68420890e-02j,\n",
       "       5.16371379+4.74590131e-01j, 5.10007926+2.10136999e-01j,\n",
       "       4.87881788+9.09825896e-03j, 5.28388201-3.70208783e-01j,\n",
       "       4.99334489-5.34521138e-01j, 4.96952692-1.67397175e-01j,\n",
       "       5.59448048+3.51385670e-01j, 4.89152599+6.05342111e-02j,\n",
       "       5.03819671+9.69365192e-02j, 4.78903541-1.73650599e-01j,\n",
       "       4.96833572+1.33487044e-01j, 5.70379038-2.95072535e-01j,\n",
       "       4.91178297+4.29972928e-02j, 4.73208199+8.11911684e-02j,\n",
       "       5.1944269 -5.88259802e-02j, 4.81393623+1.07340351e-01j,\n",
       "       5.03314763-2.52470914e-01j, 5.14880529+3.17958560e-01j,\n",
       "       5.246555  +4.63451223e-02j, 4.97284004+1.33913701e-01j,\n",
       "       4.75185251+1.47098458e-01j, 4.97350063+2.07537332e-01j,\n",
       "       4.85016637-1.46019366e-01j, 4.83295995+1.59101240e-01j,\n",
       "       4.61166019-3.22197112e-01j, 5.71605605-2.84829539e-01j,\n",
       "       5.13776863+1.51042727e-01j, 5.36128402-5.80463657e-01j,\n",
       "       4.79197555+3.96124641e-01j, 5.30293605+2.82400047e-01j,\n",
       "       4.74147126+7.40877341e-01j, 5.00238381-1.19720223e-01j,\n",
       "       4.6403802 -1.68261743e-02j, 5.19925665+1.15561109e-01j,\n",
       "       5.04688081-2.10549702e-01j, 4.87990229-8.86682569e-02j,\n",
       "       4.74638763+1.77783921e-01j, 4.91822411-1.33534169e-01j,\n",
       "       5.97115241-8.08029343e-01j, 5.44658643+1.49285309e-01j,\n",
       "       5.01613137+9.19229604e-03j, 5.04296606-9.32981038e-03j,\n",
       "       4.6279549 +1.27868248e-01j, 4.97607774-4.40310392e-02j,\n",
       "       4.82060192+6.45236421e-01j, 4.84052795-1.45046605e-01j,\n",
       "       5.28544174-2.35350431e-01j, 5.1421309 -7.48242249e-02j,\n",
       "       5.62337462-2.74356372e-02j, 5.09085064+8.94276021e-03j,\n",
       "       5.23324948+4.84290299e-03j, 5.48502362-2.25816222e-01j,\n",
       "       4.93671007+2.31968722e-01j, 4.84543634-1.48894904e-01j,\n",
       "       4.46448092-3.41587156e-01j, 4.87400043+4.33698049e-01j,\n",
       "       4.79357076-7.92815683e-02j, 5.26612883+1.46216601e-02j,\n",
       "       4.87456383+1.87868065e-01j, 4.31181185+4.51186004e-01j,\n",
       "       5.04201802+1.01930997e-01j, 5.19569941-2.24865550e-01j,\n",
       "       4.81159331+2.78182524e-01j, 4.75756286+1.70349757e-01j,\n",
       "       4.92050321+3.46041608e-01j, 5.09423203-1.84429454e-01j,\n",
       "       5.1153444 -3.52061614e-01j, 4.74160706-3.54979233e-02j,\n",
       "       5.10261944-1.64479097e-01j, 4.70688152-1.39514122e-01j,\n",
       "       4.98142467+3.92122440e-01j, 4.87025473+9.26466487e-02j,\n",
       "       4.88835234+3.76559284e-04j, 5.06886939+6.28025322e-01j,\n",
       "       4.97681563+7.10173593e-02j, 5.17030152+1.57293776e-01j,\n",
       "       5.05036493+1.24085090e-01j, 5.03615141+6.93282987e-02j,\n",
       "       4.9755778 +1.22292849e-01j, 4.60305548+1.74921786e-01j,\n",
       "       4.29336635+1.25584037e-01j, 5.19832185-3.29673530e-01j,\n",
       "       4.32583915+5.77125937e-01j, 5.38329748+1.52204093e-01j,\n",
       "       4.92158047-3.81167020e-01j, 4.92133421-7.93242892e-02j,\n",
       "       4.79156972+2.74844025e-02j, 4.60873335-3.43759464e-02j,\n",
       "       4.78406102+5.28553630e-01j, 5.11506355-6.98821911e-02j,\n",
       "       4.71838241+5.58242690e-01j, 5.00391544-2.10100629e-01j,\n",
       "       5.16125919-2.64290060e-02j, 5.15327615+4.43488332e-04j,\n",
       "       4.950138  +5.51350831e-01j, 5.27364976-1.35939138e-01j,\n",
       "       5.19378706+1.92807029e-01j, 5.30235794-2.35864646e-01j,\n",
       "       5.16809949-2.38204347e-01j, 4.82796919-4.21240110e-01j,\n",
       "       5.21275302+5.23553024e-01j, 4.7665705 -1.34264261e-01j,\n",
       "       5.39664856+5.80009656e-02j, 5.17484739+1.45256890e-01j,\n",
       "       4.68037406+1.09944096e-01j, 5.36527159+2.92240338e-01j,\n",
       "       5.05198074+3.20261444e-01j, 5.41016433+3.74497458e-01j,\n",
       "       5.46503907+3.59818891e-01j, 4.92303512-1.33098116e-01j,\n",
       "       5.06179117+4.16820682e-01j, 5.24322052+7.13073583e-01j,\n",
       "       5.0669259 -7.32218706e-02j, 4.6971639 +2.29409539e-02j,\n",
       "       4.38919734-2.89877039e-01j, 5.33432153+9.44867612e-02j,\n",
       "       4.80764651-5.89306912e-01j, 5.12647879-1.54615799e-01j,\n",
       "       5.21728398+3.13266389e-01j, 5.03688989-1.24348612e-01j,\n",
       "       4.57562334-3.65586763e-03j, 5.23081664+6.56527399e-02j,\n",
       "       4.95319168+1.60656379e-01j, 5.14637346-8.32267242e-01j,\n",
       "       4.8584462 -1.27824717e-01j, 5.16225064-1.98048817e-01j,\n",
       "       5.6025807 +8.11475410e-01j, 5.189791  -6.07680162e-02j,\n",
       "       4.91048795+2.45790675e-01j, 4.79478114+7.76783532e-02j,\n",
       "       4.86400968-3.48670192e-01j, 4.50141374+1.59130471e-01j,\n",
       "       4.99023694-1.94032696e-01j, 5.43616237-1.09415564e-02j,\n",
       "       4.61112293+2.91117887e-01j, 4.75071365-4.27786050e-01j,\n",
       "       5.25188225+4.32767750e-01j, 5.36922553-3.06605754e-01j,\n",
       "       4.89009426+5.22735896e-01j, 4.96438705-1.60113087e-01j,\n",
       "       5.26603497+3.42278604e-01j, 5.01561341+1.92389478e-01j,\n",
       "       5.0976164 -1.55466229e-01j, 4.75385177+3.83951601e-01j,\n",
       "       5.06448384+1.13641690e-01j, 4.9528176 -4.04042439e-01j,\n",
       "       4.89688894-1.43333390e-01j, 4.64192637+4.35202682e-01j,\n",
       "       5.28138127-2.06521664e-01j, 5.30400596-2.10525234e-01j,\n",
       "       5.41063204+3.54656914e-02j, 4.70733998-2.09265955e-01j,\n",
       "       5.4897036 -2.40454555e-01j, 5.00079251+1.65544861e-01j,\n",
       "       5.41386334+1.89201349e-01j, 5.13968712+3.57163125e-01j,\n",
       "       5.140251  +2.01141600e-01j, 5.10684195+9.94316145e-02j,\n",
       "       5.6411762 +4.30839462e-01j, 4.69643448+2.19929355e-02j,\n",
       "       5.04260862+1.05149128e-01j, 5.01750231+1.40245052e-01j,\n",
       "       5.05560231-2.19612552e-01j, 4.8430559 +2.77826392e-01j,\n",
       "       4.80121484-4.08681346e-01j, 5.0999215 +1.04205144e-01j,\n",
       "       4.12209993+8.85786496e-01j, 5.93980422-2.32057994e-01j,\n",
       "       4.76291131-1.88682388e-01j, 4.75287625-1.45687173e-01j,\n",
       "       4.84823287+3.47360260e-01j, 4.91336753-2.86061852e-01j,\n",
       "       4.94897828+2.19332483e-01j, 4.9267727 +2.11985468e-01j,\n",
       "       4.66847282+1.81521043e-01j, 4.84961093+1.01480644e-01j,\n",
       "       4.90498337-4.20695503e-01j, 5.27190073-2.29080834e-01j,\n",
       "       5.33760343-5.74574914e-01j, 4.7370449 -2.37719507e-02j,\n",
       "       5.36394484-3.59789645e-02j, 5.16727015-2.22082139e-02j,\n",
       "       4.76843646-2.20450052e-01j, 4.61178744+2.34722889e-01j,\n",
       "       5.07507952+3.03473488e-01j, 5.52502513-5.45024747e-01j,\n",
       "       4.89268549-8.00969593e-02j, 5.11134389-3.84262665e-01j,\n",
       "       5.1868923 +2.63220293e-01j, 5.76502095-2.48080376e-01j,\n",
       "       5.35993291+3.11498952e-01j, 4.74013147-2.66614960e-01j,\n",
       "       5.09792027+2.94042622e-01j, 4.58268245-2.12058565e-01j,\n",
       "       5.12824792+2.86090178e-01j, 5.64554276+2.11884767e-02j,\n",
       "       5.0151958 -6.72200060e-02j, 4.72371167-2.74855564e-03j,\n",
       "       4.90619107+2.73121689e-01j, 5.20435731-2.93937352e-01j,\n",
       "       5.11513489-6.70606609e-01j, 5.10890909-1.08352613e-01j,\n",
       "       5.55626683+2.77239281e-02j, 4.56863395+2.17861342e-01j,\n",
       "       4.61464738+1.07560784e-01j, 4.71429221-2.11026006e-01j,\n",
       "       5.36086741-2.40546812e-01j, 5.32068881-1.03990965e-02j,\n",
       "       5.15676067+8.42181188e-02j, 4.38398647+5.92980348e-01j])"
      ]
     },
     "execution_count": 97,
     "metadata": {},
     "output_type": "execute_result"
    }
   ],
   "source": [
    "ptx = decryptor.decrypt(ct_relin)\n",
    "encoder.decode(ptx) / scale"
   ]
  },
  {
   "cell_type": "code",
   "execution_count": 79,
   "metadata": {
    "ExecuteTime": {
     "end_time": "2020-05-26T06:37:48.636979Z",
     "start_time": "2020-05-26T06:37:48.611384Z"
    }
   },
   "outputs": [],
   "source": [
    "pt_mul = ct_mul[0] + ct_mul[1] * s + ct_mul[2] * s * s"
   ]
  },
  {
   "cell_type": "code",
   "execution_count": 80,
   "metadata": {
    "ExecuteTime": {
     "end_time": "2020-05-26T06:37:51.238979Z",
     "start_time": "2020-05-26T06:37:49.828855Z"
    }
   },
   "outputs": [
    {
     "data": {
      "text/plain": [
       "array([5.00000212+3.99724677e-07j, 4.99999959-2.54464347e-06j,\n",
       "       5.00000148-2.33034100e-06j, 4.99999618-4.11619193e-06j,\n",
       "       5.00000638+1.65983180e-06j, 5.00000166-2.57470953e-06j,\n",
       "       5.00000196-5.02832331e-06j, 4.99999627+7.64515826e-06j,\n",
       "       4.99999948-5.62028747e-06j, 5.00000209+4.84288463e-06j,\n",
       "       4.99999704-2.86492502e-06j, 5.00000273-9.99231079e-07j,\n",
       "       4.99999245+8.80343933e-06j, 5.00000083-5.32245286e-06j,\n",
       "       5.00001025+5.77940802e-06j, 4.99999473+5.36343441e-07j,\n",
       "       4.99999249+4.37800987e-06j, 4.99999415-1.23396844e-06j,\n",
       "       4.99999154-7.14831125e-06j, 5.00000169-2.03000445e-06j,\n",
       "       4.99999464-2.12081633e-06j, 5.00000102-4.04948779e-07j,\n",
       "       4.99999222+4.67891247e-06j, 5.00000351+2.66693471e-08j,\n",
       "       4.99999898+2.10269179e-06j, 5.00000019+1.01514947e-07j,\n",
       "       4.99998908-1.57141625e-06j, 5.00000087-4.07140915e-06j,\n",
       "       4.99999881+1.29367334e-06j, 4.99999127+4.03209139e-06j,\n",
       "       4.99999187-1.08489180e-06j, 5.00000613-3.80329749e-06j,\n",
       "       4.99999823+3.40358368e-06j, 4.99999908+4.30491750e-07j,\n",
       "       4.99999951-6.32412243e-06j, 4.99999952+4.43445841e-06j,\n",
       "       5.00000046+1.68246576e-06j, 5.00000135+2.99415181e-06j,\n",
       "       5.00000322-1.78554963e-06j, 5.00000056+1.45446297e-06j,\n",
       "       4.99999898+1.67886409e-06j, 4.99999733-3.91872906e-06j,\n",
       "       5.00000034-1.98436981e-07j, 4.99999748+2.61026699e-06j,\n",
       "       4.99999498+5.65292176e-06j, 5.00000091+2.16689919e-06j,\n",
       "       5.00000101-3.35153527e-07j, 5.00000607-1.38096893e-06j,\n",
       "       5.00000375-2.97674539e-06j, 5.00000015-1.52229006e-06j,\n",
       "       5.00000389-8.79478657e-06j, 4.99999903+2.74898603e-06j,\n",
       "       5.00000499-7.01250886e-06j, 4.99999331-1.45573127e-06j,\n",
       "       4.99999911-5.80532515e-08j, 4.99999706+5.89165973e-07j,\n",
       "       4.9999982 -3.76308955e-06j, 5.00000335-2.29218552e-06j,\n",
       "       4.99999704-1.43852179e-06j, 4.99999847-1.25636100e-06j,\n",
       "       5.00000033-3.96876863e-06j, 4.99999754+1.18907828e-06j,\n",
       "       5.00000124+5.64389003e-06j, 5.00000089+7.39610397e-06j,\n",
       "       5.00000229-2.12094387e-06j, 4.99999247+3.45037050e-07j,\n",
       "       4.99999694+9.49624292e-07j, 4.99999849-2.43094516e-06j,\n",
       "       4.99999964-2.75939477e-06j, 5.00000972+9.67425983e-07j,\n",
       "       4.99999445-1.43957499e-06j, 4.99999658-7.05967317e-06j,\n",
       "       4.99999998-3.91117746e-06j, 5.00000135-7.69918568e-06j,\n",
       "       4.99999715+4.41221657e-06j, 5.00000321+6.47954480e-06j,\n",
       "       5.00000371-3.67106031e-06j, 4.99999956-9.44417918e-06j,\n",
       "       4.99999908-1.45791360e-07j, 5.00000263+3.91496392e-06j,\n",
       "       5.00000615-2.39730608e-06j, 4.99999966-4.89864090e-06j,\n",
       "       5.00000073+4.34982559e-07j, 4.99999977+1.97845708e-06j,\n",
       "       4.99999472+4.70321203e-06j, 4.99999308-3.97030260e-06j,\n",
       "       5.00000196-1.81698890e-06j, 4.99999976+1.25462564e-06j,\n",
       "       4.99999751+2.05044213e-06j, 4.99999771+7.45908152e-07j,\n",
       "       5.000003  +7.56540741e-06j, 5.00000261-6.48947231e-08j,\n",
       "       5.00000237-2.15860634e-07j, 5.00000477+3.35612314e-06j,\n",
       "       5.00000492-5.31553797e-07j, 5.00000161+3.96807244e-06j,\n",
       "       4.99999759+1.33708038e-06j, 5.00000125-3.81248073e-06j,\n",
       "       5.00000253+4.66723392e-06j, 5.00000391-2.48982730e-06j,\n",
       "       5.00000047-1.06805690e-06j, 4.99999267+7.82075910e-07j,\n",
       "       4.99999441-3.13205806e-06j, 5.0000004 -2.29616375e-07j,\n",
       "       5.00000673-1.41370415e-07j, 5.00000169-2.80481044e-06j,\n",
       "       5.0000012 -3.01415378e-07j, 4.99999869+3.13826462e-06j,\n",
       "       4.99999784-1.17525826e-07j, 4.99999825+3.79512976e-06j,\n",
       "       4.99999692+1.44088876e-06j, 5.00000633+2.30139575e-06j,\n",
       "       5.00000015-6.25736041e-07j, 5.00000407+1.34322178e-06j,\n",
       "       4.99999686-2.45904205e-07j, 5.00000391+1.05299134e-06j,\n",
       "       4.99999804+3.92147571e-06j, 4.99999623-7.81286284e-06j,\n",
       "       4.99999754+2.47359124e-07j, 5.0000035 -4.12176840e-07j,\n",
       "       4.99999944-1.07588511e-06j, 5.00000083+1.17654976e-05j,\n",
       "       4.99999867-8.38674311e-07j, 4.99999809-2.57630559e-06j,\n",
       "       5.00000282-8.04499332e-06j, 5.00000115+6.00693334e-07j,\n",
       "       4.99999436+4.65031201e-06j, 4.99999864+1.35301003e-06j,\n",
       "       4.99999948-9.89067831e-06j, 4.99999628+3.84277350e-06j,\n",
       "       4.99999729+5.73802505e-06j, 5.00000068+1.85624212e-06j,\n",
       "       4.9999991 +1.63914875e-07j, 4.99999645-2.09263196e-06j,\n",
       "       5.00000062+3.22757106e-06j, 4.9999959 +1.45184064e-06j,\n",
       "       5.00000515-2.76997575e-06j, 5.0000023 +1.42055558e-06j,\n",
       "       5.00000029+8.02581094e-06j, 5.00000021+6.89832949e-06j,\n",
       "       4.9999996 +1.02322040e-06j, 4.99999738-2.35600339e-06j,\n",
       "       5.00000225-2.22838581e-06j, 4.999998  -1.64968910e-06j,\n",
       "       5.00000388-7.19003309e-07j, 4.99999897+1.88278633e-07j,\n",
       "       4.99999886-6.64420723e-06j, 4.99999999-8.84593133e-06j,\n",
       "       5.00000599+1.61837648e-05j, 4.99999715-1.93633841e-06j,\n",
       "       4.999997  +2.80571261e-06j, 5.00000277-1.60163099e-06j,\n",
       "       5.00000202+4.81810782e-06j, 4.99999779-2.69135069e-06j,\n",
       "       5.00000676+9.24198193e-07j, 5.00000754-2.13145192e-06j,\n",
       "       4.99999586-2.70598477e-06j, 4.99999498-4.48424402e-06j,\n",
       "       5.0000001 -2.16294766e-08j, 5.00000403+9.06071460e-09j,\n",
       "       4.9999987 -5.17834558e-07j, 5.00000071+6.25768913e-07j,\n",
       "       4.99999741+1.56899959e-06j, 4.9999978 +3.64214217e-06j,\n",
       "       4.99999603+1.76681322e-06j, 4.99999624-5.33560553e-06j,\n",
       "       5.00000071+3.63316492e-06j, 5.00000289+2.37034290e-06j,\n",
       "       4.99999802+1.21681925e-06j, 5.00000077-9.94928337e-06j,\n",
       "       5.00000099-1.39076391e-06j, 4.99999613-3.42065861e-07j,\n",
       "       5.00000265-1.63844441e-06j, 5.00000064+4.82198825e-06j,\n",
       "       5.00000012+1.18989530e-06j, 4.9999975 +4.62417315e-07j,\n",
       "       5.00000272+6.58327394e-06j, 5.00000524+6.81032553e-06j,\n",
       "       4.99999874-7.17684844e-07j, 4.99999997-1.95559161e-06j,\n",
       "       5.00000276+3.57040513e-06j, 5.00000083+4.57495713e-06j,\n",
       "       5.00000056-1.56476440e-07j, 4.99999415+5.90213909e-06j,\n",
       "       5.00000064+1.66026773e-06j, 5.00000131+3.08792967e-07j,\n",
       "       4.99999955+3.48764547e-06j, 4.99999987+1.93445432e-06j,\n",
       "       4.99999835+3.27202769e-06j, 4.99999648-4.90630466e-06j,\n",
       "       4.99999886-1.64656217e-06j, 4.99999912-6.94567707e-07j,\n",
       "       5.00000109-4.31640781e-06j, 4.99999549-2.41694368e-06j,\n",
       "       5.00000106-5.97753223e-06j, 5.00000008-2.40426635e-06j,\n",
       "       4.99999797-2.76508913e-07j, 4.99999233+1.14233244e-06j,\n",
       "       5.00000349+5.13196038e-07j, 5.00000079-4.40174457e-07j,\n",
       "       4.99999871+3.44241441e-06j, 4.9999999 -2.62863382e-06j,\n",
       "       4.99999579+1.60250350e-06j, 4.99999702+9.24000944e-07j,\n",
       "       5.00000185-7.17156285e-08j, 4.99999709-4.37480538e-07j,\n",
       "       5.00000061+1.40796053e-06j, 5.0000013 -2.70347752e-06j,\n",
       "       5.00000106-1.03130053e-06j, 5.00000362-3.24969063e-06j,\n",
       "       4.99999542-4.50741610e-06j, 4.99999377-1.46511367e-06j,\n",
       "       4.99999298-2.08709925e-06j, 5.00000976+3.11503750e-06j,\n",
       "       4.99999634+1.54258615e-07j, 5.0000024 -1.02477377e-06j,\n",
       "       4.99999897+1.13453509e-06j, 4.99999951-3.88681454e-06j,\n",
       "       5.00000488-1.00216749e-06j, 4.99999831+3.09759309e-06j,\n",
       "       5.0000021 +6.46129203e-06j, 4.99999781-1.65478209e-06j,\n",
       "       4.9999946 +3.68688970e-06j, 5.00000237+9.92297036e-07j,\n",
       "       4.99999244-7.80637046e-07j, 5.00000024-5.29863406e-06j,\n",
       "       5.00000148+1.90028079e-06j, 4.99999976-7.23150748e-07j,\n",
       "       5.00000578+3.70033620e-06j, 5.00000036-7.55225230e-06j,\n",
       "       4.9999944 +5.80748276e-06j, 5.00000138-1.62201906e-06j,\n",
       "       4.99999964+4.81137118e-06j, 5.00000005-1.16078390e-06j,\n",
       "       5.00000076-8.64568458e-07j, 4.99999986+2.82830331e-06j,\n",
       "       4.9999995 -6.28180688e-07j, 5.00000507-2.24095871e-06j,\n",
       "       5.00000466+5.11921746e-07j, 5.00000572+9.55789880e-08j,\n",
       "       5.00000354-8.48430104e-07j, 5.00000224-5.27533009e-06j,\n",
       "       4.99999939-3.94495632e-07j, 5.00000218-5.35623382e-06j,\n",
       "       5.00000002+1.22626372e-06j, 4.99999899+2.57133374e-06j,\n",
       "       5.00000324+3.32501793e-09j, 4.99999401+1.39649133e-06j,\n",
       "       5.00000078+2.09646492e-06j, 5.00000667+1.31117233e-06j,\n",
       "       5.00000372-3.68441230e-06j, 4.99999552-1.60235754e-06j,\n",
       "       5.00000002+2.38169278e-06j, 4.99999925+3.61700022e-06j,\n",
       "       5.00000352+3.07176897e-07j, 5.000004  +4.70082749e-06j])"
      ]
     },
     "execution_count": 80,
     "metadata": {},
     "output_type": "execute_result"
    }
   ],
   "source": [
    "encoder.decode(pt_mul) / scale"
   ]
  },
  {
   "cell_type": "code",
   "execution_count": null,
   "metadata": {},
   "outputs": [],
   "source": []
  }
 ],
 "metadata": {
  "kernelspec": {
   "display_name": "Python 3",
   "language": "python",
   "name": "python3"
  },
  "language_info": {
   "codemirror_mode": {
    "name": "ipython",
    "version": 3
   },
   "file_extension": ".py",
   "mimetype": "text/x-python",
   "name": "python",
   "nbconvert_exporter": "python",
   "pygments_lexer": "ipython3",
   "version": "3.8.2"
  },
  "toc": {
   "base_numbering": 1,
   "nav_menu": {},
   "number_sections": true,
   "sideBar": true,
   "skip_h1_title": false,
   "title_cell": "Table of Contents",
   "title_sidebar": "Contents",
   "toc_cell": false,
   "toc_position": {},
   "toc_section_display": true,
   "toc_window_display": false
  }
 },
 "nbformat": 4,
 "nbformat_minor": 4
}
