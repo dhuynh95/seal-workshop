{
 "cells": [
  {
   "cell_type": "markdown",
   "metadata": {},
   "source": [
    "# Encryption in CKKS"
   ]
  },
  {
   "cell_type": "code",
   "execution_count": 212,
   "metadata": {
    "ExecuteTime": {
     "end_time": "2020-05-25T07:26:40.144963Z",
     "start_time": "2020-05-25T07:26:40.093067Z"
    }
   },
   "outputs": [],
   "source": [
    "from numpy.polynomial import Polynomial\n",
    "import numpy as np\n",
    "\n",
    "def round_coordinates(coordinates):\n",
    "    \"\"\"Gives the integral rest.\"\"\"\n",
    "    coordinates = coordinates - np.floor(coordinates)\n",
    "    return coordinates\n",
    "\n",
    "def coordinate_wise_random_rounding(coordinates):\n",
    "    \"\"\"Rounds coordinates randonmly.\"\"\"\n",
    "    r = round_coordinates(coordinates)\n",
    "    f = np.array([np.random.choice([c, c-1], 1, p=[1-c, c]) for c in r]).reshape(-1)\n",
    "    \n",
    "    rounded_coordinates = coordinates - f\n",
    "    rounded_coordinates = [int(coeff) for coeff in rounded_coordinates]\n",
    "    return rounded_coordinates\n",
    "\n",
    "class CKKSEncoder:\n",
    "    \"\"\"Basic CKKS encoder to encode complex vectors into polynomials.\"\"\"\n",
    "    \n",
    "    def __init__(self, context, scale:float):\n",
    "        \"\"\"Initializes with scale.\"\"\"\n",
    "        \n",
    "        M = context.M\n",
    "        self.context = context\n",
    "        self.xi = np.exp(2 * np.pi * 1j / M)\n",
    "        self.M = M\n",
    "        self.create_sigma_R_basis()\n",
    "        self.scale = scale\n",
    "        \n",
    "        self.slot_count = M // 4\n",
    "        \n",
    "    @staticmethod\n",
    "    def vandermonde(xi: np.complex128, M: int) -> np.array:\n",
    "        \"\"\"Computes the Vandermonde matrix from a m-th root of unity.\"\"\"\n",
    "        \n",
    "        N = M //2\n",
    "        matrix = []\n",
    "        # We will generate each row of the matrix\n",
    "        for i in range(N):\n",
    "            # For each row we select a different root\n",
    "            root = xi ** (2 * i + 1)\n",
    "            row = []\n",
    "\n",
    "            # Then we store its powers\n",
    "            for j in range(N):\n",
    "                row.append(root ** j)\n",
    "            matrix.append(row)\n",
    "        return matrix\n",
    "    \n",
    "    def sigma_inverse(self, b: np.array) -> Polynomial:\n",
    "        \"\"\"Encodes the vector b in a polynomial using an M-th root of unity.\"\"\"\n",
    "\n",
    "        # First we create the Vandermonde matrix\n",
    "        A = CKKSEncoder.vandermonde(self.xi, M)\n",
    "\n",
    "        # Then we solve the system\n",
    "        coeffs = np.linalg.solve(A, b)\n",
    "\n",
    "        # Finally we output the polynomial\n",
    "        p = Polynomial(coeffs)\n",
    "        return p\n",
    "\n",
    "    def sigma(self, p: Polynomial) -> np.array:\n",
    "        \"\"\"Decodes a polynomial by applying it to the M-th roots of unity.\"\"\"\n",
    "\n",
    "        outputs = []\n",
    "        N = self.M //2\n",
    "\n",
    "        # We simply apply the polynomial on the roots\n",
    "        for i in range(N):\n",
    "            root = self.xi ** (2 * i + 1)\n",
    "            output = p(root)\n",
    "            outputs.append(output)\n",
    "        return np.array(outputs)\n",
    "    \n",
    "\n",
    "    def pi(self, z: np.array) -> np.array:\n",
    "        \"\"\"Projects a vector of H into C^{N/2}.\"\"\"\n",
    "\n",
    "        N = self.M // 4\n",
    "        return z[:N]\n",
    "\n",
    "\n",
    "    def pi_inverse(self, z: np.array) -> np.array:\n",
    "        \"\"\"Expands a vector of C^{N/2} by expanding it with its\n",
    "        complex conjugate.\"\"\"\n",
    "\n",
    "        z_conjugate = z[::-1]\n",
    "        z_conjugate = [np.conjugate(x) for x in z_conjugate]\n",
    "        return np.concatenate([z, z_conjugate])\n",
    "    \n",
    "    def create_sigma_R_basis(self):\n",
    "        \"\"\"Creates the basis (sigma(1), sigma(X), ..., sigma(X** N-1)).\"\"\"\n",
    "\n",
    "        self.sigma_R_basis = np.array(self.vandermonde(self.xi, self.M)).T\n",
    "    \n",
    "\n",
    "    def compute_basis_coordinates(self, z):\n",
    "        \"\"\"Computes the coordinates of a vector with respect to the orthogonal lattice basis.\"\"\"\n",
    "        output = np.array([np.real(np.vdot(z, b) / np.vdot(b,b)) for b in self.sigma_R_basis])\n",
    "        return output\n",
    "\n",
    "    def sigma_R_discretization(self, z):\n",
    "        \"\"\"Projects a vector on the lattice using coordinate wise random rounding.\"\"\"\n",
    "        coordinates = self.compute_basis_coordinates(z)\n",
    "\n",
    "        rounded_coordinates = coordinate_wise_random_rounding(coordinates)\n",
    "        y = np.matmul(self.sigma_R_basis.T, rounded_coordinates)\n",
    "        return y\n",
    "\n",
    "\n",
    "    def encode(self, z: np.array) -> Polynomial:\n",
    "        \"\"\"Encodes a vector by expanding it first to H,\n",
    "        scale it, project it on the lattice of sigma(R), and performs\n",
    "        sigma inverse.\n",
    "        \"\"\"\n",
    "        pi_z = self.pi_inverse(z)\n",
    "        scaled_pi_z = self.scale * pi_z\n",
    "        rounded_scale_pi_zi = self.sigma_R_discretization(scaled_pi_z)\n",
    "        p = self.sigma_inverse(rounded_scale_pi_zi)\n",
    "\n",
    "        # We round it afterwards due to numerical imprecision\n",
    "        coef = np.round(np.real(p.coef)).astype(int)\n",
    "        p = self.context.QPolynomial(coef)\n",
    "        \n",
    "        return p\n",
    "\n",
    "\n",
    "    def decode(self, p: Polynomial) -> np.array:\n",
    "        \"\"\"Decodes a polynomial by removing the scale, \n",
    "        evaluating on the roots, and project it on C^(N/2)\"\"\"\n",
    "        rescaled_p = p / self.scale\n",
    "        z = self.sigma(rescaled_p)\n",
    "        pi_z = self.pi(z)\n",
    "        return pi_z"
   ]
  },
  {
   "cell_type": "code",
   "execution_count": 213,
   "metadata": {
    "ExecuteTime": {
     "end_time": "2020-05-25T07:26:41.836298Z",
     "start_time": "2020-05-25T07:26:41.828957Z"
    }
   },
   "outputs": [],
   "source": [
    "from numpy.polynomial import polynomial as poly\n",
    "from numpy.polynomial import Polynomial\n",
    "\n",
    "def mod_q(coeffs, q):\n",
    "    r = coeffs % q\n",
    "    to_cycle = r > (q/2)\n",
    "    r[to_cycle] = r[to_cycle] - q\n",
    "    return r\n",
    "\n",
    "def mod_q_polynomial(p, q):\n",
    "    coeffs = p.coef\n",
    "    coeffs_mod_q = mod_q(coeffs, q)\n",
    "    p = Polynomial(coeffs_mod_q)\n",
    "    return p"
   ]
  },
  {
   "cell_type": "code",
   "execution_count": 214,
   "metadata": {
    "ExecuteTime": {
     "end_time": "2020-05-25T07:26:42.005951Z",
     "start_time": "2020-05-25T07:26:41.998452Z"
    }
   },
   "outputs": [],
   "source": [
    "class PolynomialSampler:\n",
    "    def __init__(self, context):\n",
    "        self.context = context\n",
    "        \n",
    "    def __getattr__(self,k):\n",
    "        return getattr(self.context, k)\n",
    "        \n",
    "    def polynomial(self, coeffs):\n",
    "        p = self.context.QPolynomial(coeffs)\n",
    "        return p"
   ]
  },
  {
   "cell_type": "code",
   "execution_count": 215,
   "metadata": {
    "ExecuteTime": {
     "end_time": "2020-05-25T07:26:42.150543Z",
     "start_time": "2020-05-25T07:26:42.143243Z"
    }
   },
   "outputs": [],
   "source": [
    "class UniformPolynomial(PolynomialSampler):\n",
    "    def sample(self) -> QPolynomial:\n",
    "            \n",
    "        coeffs = np.random.choice(self.q, size=self.N)\n",
    "        coeffs = mod_q(coeffs, self.q)\n",
    "        \n",
    "        p = self.polynomial(coeffs)\n",
    "        return p"
   ]
  },
  {
   "cell_type": "code",
   "execution_count": 216,
   "metadata": {
    "ExecuteTime": {
     "end_time": "2020-05-25T07:26:42.283203Z",
     "start_time": "2020-05-25T07:26:42.276031Z"
    }
   },
   "outputs": [],
   "source": [
    "class ZO(PolynomialSampler):\n",
    "    def sample(self):\n",
    "        coeffs = np.random.choice([0,1,-1], size=self.N, p=[1-self.p, self.p /2, self.p/2])\n",
    "        \n",
    "        p = self.polynomial(coeffs)\n",
    "        return p"
   ]
  },
  {
   "cell_type": "code",
   "execution_count": 217,
   "metadata": {
    "ExecuteTime": {
     "end_time": "2020-05-25T07:26:42.410442Z",
     "start_time": "2020-05-25T07:26:42.403009Z"
    }
   },
   "outputs": [],
   "source": [
    "class HWT(PolynomialSampler):\n",
    "    def sample(self):\n",
    "        coeffs = np.random.choice([-1,1], size=self.N)\n",
    "        \n",
    "        slots = np.random.choice(range(self.N), self.N - self.h, replace=False)\n",
    "        \n",
    "        coeffs[slots] = 0\n",
    "            \n",
    "        p = self.polynomial(coeffs)\n",
    "        return p"
   ]
  },
  {
   "cell_type": "code",
   "execution_count": 218,
   "metadata": {
    "ExecuteTime": {
     "end_time": "2020-05-25T07:26:42.540668Z",
     "start_time": "2020-05-25T07:26:42.532088Z"
    }
   },
   "outputs": [],
   "source": [
    "class DG(PolynomialSampler):\n",
    "    def sample(self):\n",
    "        coeffs = np.random.normal(np.zeros(self.N), self.sigma)\n",
    "        \n",
    "        coeffs = np.array(coordinate_wise_random_rounding(coeffs))\n",
    "        coeffs = mod_q(coeffs, self.q)\n",
    "        \n",
    "        p = self.polynomial(coeffs)\n",
    "        return p"
   ]
  },
  {
   "cell_type": "code",
   "execution_count": 219,
   "metadata": {
    "ExecuteTime": {
     "end_time": "2020-05-25T07:26:42.666186Z",
     "start_time": "2020-05-25T07:26:42.657592Z"
    }
   },
   "outputs": [],
   "source": [
    "class Context:\n",
    "    def __init__(self, N, q):\n",
    "        self.N = N\n",
    "        self.M = N * 2\n",
    "        self.q = q\n",
    "        \n",
    "        self.QPolynomial = QPolynomialGenerator(N, q)\n",
    "        \n",
    "        self.setup_parameters()\n",
    "        \n",
    "        self.hwt = HWT(self)\n",
    "        self.dg = DG(self)\n",
    "        self.uniform = UniformPolynomial(self)\n",
    "        self.zo = ZO(self)\n",
    "        \n",
    "    def setup_parameters(self):\n",
    "        self.h = 64\n",
    "        self.sigma = 3\n",
    "        self.p = 0.5"
   ]
  },
  {
   "cell_type": "code",
   "execution_count": 220,
   "metadata": {
    "ExecuteTime": {
     "end_time": "2020-05-25T07:26:42.820079Z",
     "start_time": "2020-05-25T07:26:42.794232Z"
    }
   },
   "outputs": [],
   "source": [
    "from numpy.polynomial import polynomial as poly\n",
    "from numpy.polynomial import Polynomial\n",
    "from __future__ import annotations\n",
    "        \n",
    "class QPolynomialGenerator:\n",
    "    \n",
    "    def __init__(self, N, q):\n",
    "        self.q = q\n",
    "        \n",
    "        coeffs = np.zeros(N + 1)\n",
    "        coeffs[0] = 1\n",
    "        coeffs[-1] = 1\n",
    "        \n",
    "        self.poly_modulus = Polynomial(coeffs)\n",
    "    \n",
    "    def __call__(self, coef):\n",
    "        return QPolynomialGenerator.QPolynomial(coef, self.q, self.poly_modulus, self)\n",
    "    \n",
    "    class QPolynomial:\n",
    "        def __init__(self, coef, q, poly_modulus, generator):\n",
    "            self.p = Polynomial(coef)\n",
    "            self.q = q\n",
    "            self.poly_modulus = poly_modulus\n",
    "            self.generator = generator\n",
    "\n",
    "        def __getattr__(self,k):\n",
    "            if k in self.__dict__.keys():\n",
    "                return getattr(self, k)\n",
    "            else:\n",
    "                try:\n",
    "                    return getattr(self.p, k)\n",
    "                except AttributeError as e:\n",
    "                    print(e)\n",
    "\n",
    "        def __mul__(self, qpoly: QPolynomial) -> QPolynomial:\n",
    "            p_mul = self.p * qpoly.p % self.poly_modulus\n",
    "            p_mul = self.generator(p_mul.coef)\n",
    "            return p_mul\n",
    "\n",
    "        def __rmul__(self, qpoly: QPolynomial) -> QPolynomial:\n",
    "            return self.__mul__(p)\n",
    "\n",
    "        def __add__(self, qpoly: QPolynomial) -> QPolynomial:\n",
    "            p_add = (self.p + qpoly.p) % self.poly_modulus\n",
    "            p_add = self.generator(p_add.coef)\n",
    "            return p_add\n",
    "\n",
    "        def __radd__(self, qpoly: QPolynomial) -> QPolynomial:\n",
    "            return self.__add__(qpoly)\n",
    "\n",
    "        def __sub__(self, qpoly: QPolynomial) -> QPolynomial:\n",
    "            p_sub = (self.p - qpoly.p) % self.poly_modulus\n",
    "            p_sub = self.generator(p_sub.coef)\n",
    "            return p_sub\n",
    "\n",
    "        def __rsub__(self, qpoly: QPolynomial) -> QPolynomial:\n",
    "            p_sub = (qpoly.p - self.p) % self.poly_modulus\n",
    "            p_sub = self.generator(p_sub.coef)\n",
    "            return p_sub\n",
    "        \n",
    "        def __neg__(self):\n",
    "            p_neg = - self.p %self.poly_modulus\n",
    "            p_neg = self.generator(p_neg.coef)\n",
    "            return p_neg\n",
    "        \n",
    "        def __pos__(self):\n",
    "            p_pos = self.p %self.poly_modulus\n",
    "            p_pos = self.generator(p_pos.coef)\n",
    "            return p_pos\n",
    "        \n",
    "        def __truediv__ (self, scale):\n",
    "            p_div = self.p / scale\n",
    "            p_div = self.generator(p_div.coef)\n",
    "            return p_div\n",
    "        \n",
    "        def __call__(self, x):\n",
    "            return self.p(x)\n",
    "        \n",
    "        def __repr__(self):\n",
    "            return self.p.__repr__()"
   ]
  },
  {
   "cell_type": "code",
   "execution_count": 221,
   "metadata": {
    "ExecuteTime": {
     "end_time": "2020-05-25T07:26:42.927431Z",
     "start_time": "2020-05-25T07:26:42.923147Z"
    }
   },
   "outputs": [],
   "source": [
    "QPolynomial = QPolynomialGenerator(N, q)"
   ]
  },
  {
   "cell_type": "code",
   "execution_count": 222,
   "metadata": {
    "ExecuteTime": {
     "end_time": "2020-05-25T07:26:43.055675Z",
     "start_time": "2020-05-25T07:26:43.049126Z"
    }
   },
   "outputs": [],
   "source": [
    "coef = np.random.choice([0,1], N)\n",
    "poly = QPolynomial(coef)"
   ]
  },
  {
   "cell_type": "code",
   "execution_count": 223,
   "metadata": {
    "ExecuteTime": {
     "end_time": "2020-05-25T07:26:43.191598Z",
     "start_time": "2020-05-25T07:26:43.177956Z"
    }
   },
   "outputs": [],
   "source": [
    "a = poly * poly "
   ]
  },
  {
   "cell_type": "code",
   "execution_count": 224,
   "metadata": {
    "ExecuteTime": {
     "end_time": "2020-05-25T07:26:43.331081Z",
     "start_time": "2020-05-25T07:26:43.315322Z"
    }
   },
   "outputs": [],
   "source": [
    "a = poly.p * poly.p % poly.poly_modulus"
   ]
  },
  {
   "cell_type": "code",
   "execution_count": 225,
   "metadata": {
    "ExecuteTime": {
     "end_time": "2020-05-25T07:26:43.457711Z",
     "start_time": "2020-05-25T07:26:43.442002Z"
    }
   },
   "outputs": [],
   "source": [
    "b = poly * poly"
   ]
  },
  {
   "cell_type": "code",
   "execution_count": 226,
   "metadata": {
    "ExecuteTime": {
     "end_time": "2020-05-25T07:26:43.584375Z",
     "start_time": "2020-05-25T07:26:43.576464Z"
    }
   },
   "outputs": [],
   "source": [
    "class Keygen:\n",
    "    def __init__(self, context):\n",
    "        self.context = context\n",
    "        \n",
    "    def generate_secret_key(self):\n",
    "        s = self.context.hwt.sample()\n",
    "        return s\n",
    "    \n",
    "    def generate_public_key(self, s):\n",
    "        a = self.context.uniform.sample()\n",
    "        e = self.context.dg.sample()\n",
    "        \n",
    "        b = -(a * s) + e\n",
    "\n",
    "        pk = (b, a)\n",
    "        return pk"
   ]
  },
  {
   "cell_type": "code",
   "execution_count": 227,
   "metadata": {
    "ExecuteTime": {
     "end_time": "2020-05-25T07:26:43.717056Z",
     "start_time": "2020-05-25T07:26:43.701981Z"
    }
   },
   "outputs": [],
   "source": [
    "class Encryptor:\n",
    "    def __init__(self, context, pk):\n",
    "        self.pk = pk\n",
    "        self.context = context\n",
    "        \n",
    "    def encrypt(self, ptx):\n",
    "        v = self.context.zo.sample()\n",
    "        e0 = self.context.dg.sample()\n",
    "        e1 = self.context.dg.sample()\n",
    "\n",
    "        v_pk = (self.pk[0] * v, self.pk[1] * v)\n",
    "        ctx = (v_pk[0] + e0 + ptx, v_pk[1] + e1)\n",
    "        \n",
    "        return ctx"
   ]
  },
  {
   "cell_type": "code",
   "execution_count": 228,
   "metadata": {
    "ExecuteTime": {
     "end_time": "2020-05-25T07:26:43.846932Z",
     "start_time": "2020-05-25T07:26:43.840306Z"
    }
   },
   "outputs": [],
   "source": [
    "class Decryptor:\n",
    "    def __init__(self, context, s):\n",
    "        self.s = s\n",
    "        self.context = context\n",
    "        \n",
    "    def decrypt(self, ctx):\n",
    "        ptx = ctx[0] + self.s * ctx[1]\n",
    "        return ptx"
   ]
  },
  {
   "cell_type": "code",
   "execution_count": 229,
   "metadata": {
    "ExecuteTime": {
     "end_time": "2020-05-25T07:26:46.340767Z",
     "start_time": "2020-05-25T07:26:46.335148Z"
    }
   },
   "outputs": [],
   "source": [
    "N = 512\n",
    "M = N * 2\n",
    "scale = pow(2,30)\n",
    "q = scale"
   ]
  },
  {
   "cell_type": "code",
   "execution_count": 230,
   "metadata": {
    "ExecuteTime": {
     "end_time": "2020-05-25T07:26:46.518937Z",
     "start_time": "2020-05-25T07:26:46.514066Z"
    }
   },
   "outputs": [],
   "source": [
    "context = Context(N, q)\n",
    "keygen = Keygen(context)"
   ]
  },
  {
   "cell_type": "code",
   "execution_count": 231,
   "metadata": {
    "ExecuteTime": {
     "end_time": "2020-05-25T07:26:46.723411Z",
     "start_time": "2020-05-25T07:26:46.648702Z"
    }
   },
   "outputs": [],
   "source": [
    "s = keygen.generate_secret_key()\n",
    "pk = keygen.generate_public_key(s)"
   ]
  },
  {
   "cell_type": "code",
   "execution_count": 232,
   "metadata": {
    "ExecuteTime": {
     "end_time": "2020-05-25T07:26:47.257463Z",
     "start_time": "2020-05-25T07:26:46.788329Z"
    }
   },
   "outputs": [],
   "source": [
    "encoder = CKKSEncoder(context, scale)"
   ]
  },
  {
   "cell_type": "code",
   "execution_count": 233,
   "metadata": {
    "ExecuteTime": {
     "end_time": "2020-05-25T07:26:47.265005Z",
     "start_time": "2020-05-25T07:26:47.261356Z"
    }
   },
   "outputs": [],
   "source": [
    "encryptor = Encryptor(context, pk)\n",
    "decryptor = Decryptor(context, s)"
   ]
  },
  {
   "cell_type": "code",
   "execution_count": 234,
   "metadata": {
    "ExecuteTime": {
     "end_time": "2020-05-25T07:26:47.288187Z",
     "start_time": "2020-05-25T07:26:47.268569Z"
    }
   },
   "outputs": [],
   "source": [
    "z = np.arange(N//2)"
   ]
  },
  {
   "cell_type": "code",
   "execution_count": 235,
   "metadata": {
    "ExecuteTime": {
     "end_time": "2020-05-25T07:26:48.607394Z",
     "start_time": "2020-05-25T07:26:48.155513Z"
    }
   },
   "outputs": [],
   "source": [
    "ptx = encoder.encode(z)"
   ]
  },
  {
   "cell_type": "code",
   "execution_count": 236,
   "metadata": {
    "ExecuteTime": {
     "end_time": "2020-05-25T07:26:49.996522Z",
     "start_time": "2020-05-25T07:26:48.609952Z"
    }
   },
   "outputs": [
    {
     "data": {
      "text/plain": [
       "array([-7.57317054e-08-7.05216714e-07j,  9.99999757e-01+2.01132499e-07j,\n",
       "        1.99999991e+00+6.40854466e-07j,  2.99999992e+00+4.13944560e-07j,\n",
       "        4.00000106e+00+5.02470143e-07j,  4.99999940e+00+1.76148262e-07j,\n",
       "        6.00000042e+00+1.14551535e-06j,  6.99999944e+00-5.80426544e-07j,\n",
       "        8.00000028e+00+9.35107806e-07j,  8.99999782e+00+3.82756054e-07j,\n",
       "        1.00000003e+01+6.41280078e-08j,  1.09999996e+01+1.08810639e-06j,\n",
       "        1.19999993e+01-8.42371300e-07j,  1.29999994e+01+7.32190774e-07j,\n",
       "        1.40000004e+01-3.30819255e-07j,  1.49999996e+01-1.07693328e-06j,\n",
       "        1.60000010e+01-6.00029754e-07j,  1.69999996e+01+4.11432733e-07j,\n",
       "        1.80000001e+01+3.91897366e-07j,  1.89999996e+01-2.32060199e-07j,\n",
       "        2.00000010e+01-2.98118231e-07j,  2.10000005e+01+1.00157820e-08j,\n",
       "        2.20000006e+01-8.16639467e-07j,  2.29999997e+01-7.14923978e-08j,\n",
       "        2.39999999e+01-1.03322524e-07j,  2.49999993e+01-6.76689559e-07j,\n",
       "        2.59999998e+01-4.36773497e-08j,  2.70000003e+01-6.62813768e-07j,\n",
       "        2.80000003e+01+1.51424963e-07j,  2.89999986e+01+4.36412819e-07j,\n",
       "        2.99999999e+01+8.05901493e-07j,  3.09999998e+01-2.41250518e-07j,\n",
       "        3.20000001e+01+5.60669378e-08j,  3.30000000e+01-3.88900169e-07j,\n",
       "        3.39999987e+01-4.28373177e-07j,  3.50000006e+01-6.93350884e-07j,\n",
       "        3.60000012e+01+9.81814239e-08j,  3.69999987e+01-2.24054130e-06j,\n",
       "        3.79999975e+01+5.35198659e-07j,  3.89999996e+01+7.27774818e-08j,\n",
       "        4.00000005e+01+1.99090607e-07j,  4.10000001e+01+6.22071347e-07j,\n",
       "        4.20000007e+01+1.75063173e-06j,  4.29999989e+01-1.04673809e-07j,\n",
       "        4.39999989e+01-8.21146358e-07j,  4.49999992e+01+3.53067193e-08j,\n",
       "        4.60000001e+01-3.50537448e-08j,  4.70000005e+01+1.31133119e-06j,\n",
       "        4.79999995e+01+7.65748531e-07j,  4.90000001e+01-4.23896836e-07j,\n",
       "        4.99999999e+01+2.17341224e-07j,  5.10000003e+01-2.13611507e-07j,\n",
       "        5.20000008e+01+8.51052526e-07j,  5.30000001e+01-2.82493446e-07j,\n",
       "        5.39999993e+01-8.95604515e-08j,  5.49999993e+01+1.21111123e-06j,\n",
       "        5.59999998e+01+8.16208257e-08j,  5.70000002e+01+4.73530783e-07j,\n",
       "        5.79999997e+01+1.07070819e-06j,  5.90000010e+01+1.19074267e-06j,\n",
       "        6.00000003e+01+1.09816638e-06j,  6.09999999e+01+3.47544116e-07j,\n",
       "        6.20000002e+01-1.01609760e-06j,  6.29999994e+01+6.30597370e-08j,\n",
       "        6.39999981e+01+1.03243507e-06j,  6.50000013e+01+5.95867117e-07j,\n",
       "        6.59999992e+01+8.43970771e-07j,  6.70000002e+01-1.97181414e-07j,\n",
       "        6.79999990e+01-6.00124267e-07j,  6.90000003e+01-4.51189223e-07j,\n",
       "        7.00000001e+01-8.38610170e-07j,  7.10000013e+01-2.75387741e-07j,\n",
       "        7.20000002e+01+3.22677671e-07j,  7.30000000e+01+1.87189005e-06j,\n",
       "        7.40000003e+01-4.61637445e-07j,  7.50000008e+01-7.32547139e-07j,\n",
       "        7.59999996e+01-2.93532885e-07j,  7.70000015e+01+9.98777878e-08j,\n",
       "        7.80000022e+01-9.41098694e-07j,  7.90000002e+01-5.12736396e-07j,\n",
       "        8.00000009e+01-1.05988553e-06j,  8.09999995e+01+2.59515463e-07j,\n",
       "        8.19999995e+01+1.12723604e-06j,  8.29999990e+01-6.28196329e-07j,\n",
       "        8.40000007e+01-1.54992321e-08j,  8.49999996e+01-6.00642089e-07j,\n",
       "        8.60000008e+01+1.30359756e-06j,  8.70000002e+01-1.06129314e-06j,\n",
       "        8.80000022e+01+4.65546677e-08j,  8.90000011e+01-1.78735274e-06j,\n",
       "        9.00000005e+01+4.96574771e-07j,  9.09999999e+01+2.16090079e-09j,\n",
       "        9.19999987e+01+1.24648375e-07j,  9.29999997e+01+9.53991124e-07j,\n",
       "        9.39999997e+01+1.97039798e-07j,  9.50000000e+01-5.12477207e-08j,\n",
       "        9.60000008e+01-9.97582937e-07j,  9.70000000e+01+3.57844439e-08j,\n",
       "        9.79999997e+01+5.72317603e-07j,  9.90000006e+01-9.99109794e-07j,\n",
       "        1.00000001e+02+8.25466943e-07j,  1.01000001e+02-1.65798213e-06j,\n",
       "        1.02000001e+02+1.35347148e-06j,  1.02999999e+02+5.59687694e-07j,\n",
       "        1.04000000e+02-2.56809324e-07j,  1.05000000e+02-4.21355844e-07j,\n",
       "        1.06000000e+02-1.32222114e-06j,  1.07000001e+02+6.48165948e-08j,\n",
       "        1.07999999e+02-3.66391589e-07j,  1.09000001e+02+1.39319626e-06j,\n",
       "        1.10000002e+02-2.02240529e-06j,  1.11000000e+02+6.55820334e-07j,\n",
       "        1.12000000e+02+2.98196488e-07j,  1.13000000e+02+6.23921927e-08j,\n",
       "        1.14000000e+02-4.94456486e-07j,  1.15000003e+02-7.64872498e-07j,\n",
       "        1.16000001e+02+2.30064529e-07j,  1.16999999e+02+7.65908922e-07j,\n",
       "        1.18000000e+02-4.92090904e-08j,  1.19000000e+02+1.44686551e-06j,\n",
       "        1.19999999e+02-5.53911111e-07j,  1.21000000e+02-3.95237886e-07j,\n",
       "        1.22000000e+02+1.82952808e-07j,  1.23000000e+02-5.77660674e-07j,\n",
       "        1.23999999e+02-2.09157179e-07j,  1.25000000e+02-5.46452433e-07j,\n",
       "        1.25999999e+02+2.30108207e-07j,  1.27000001e+02-1.27780230e-06j,\n",
       "        1.27999999e+02+6.44959621e-07j,  1.28999999e+02+4.22957141e-07j,\n",
       "        1.30000000e+02+2.76421426e-07j,  1.30999999e+02-1.66584928e-06j,\n",
       "        1.32000000e+02-3.86910592e-07j,  1.33000000e+02+2.44105097e-07j,\n",
       "        1.34000000e+02+2.96278003e-07j,  1.34999998e+02+2.44179525e-07j,\n",
       "        1.36000000e+02-1.99784473e-06j,  1.37000000e+02+1.66439357e-06j,\n",
       "        1.37999999e+02+3.22320437e-07j,  1.39000000e+02-1.07874974e-06j,\n",
       "        1.40000000e+02-8.29452979e-07j,  1.41000000e+02+5.67624308e-08j,\n",
       "        1.41999999e+02-5.72454492e-07j,  1.42999999e+02-8.80159218e-07j,\n",
       "        1.43999999e+02-3.57511585e-08j,  1.44999999e+02+5.15226744e-07j,\n",
       "        1.46000001e+02-1.23382521e-06j,  1.46999999e+02+6.47635225e-07j,\n",
       "        1.48000000e+02+6.81448095e-07j,  1.49000000e+02+3.12535144e-07j,\n",
       "        1.50000000e+02+6.75742690e-07j,  1.51000000e+02+7.02290163e-07j,\n",
       "        1.52000000e+02-2.69347059e-07j,  1.53000000e+02-7.94273370e-07j,\n",
       "        1.54000000e+02-4.08359229e-07j,  1.55000002e+02-6.56998687e-07j,\n",
       "        1.55999999e+02-1.22539449e-07j,  1.57000000e+02+1.22974564e-07j,\n",
       "        1.58000001e+02-1.31731509e-07j,  1.59000000e+02+1.11619545e-06j,\n",
       "        1.59999998e+02+3.12588089e-08j,  1.61000000e+02+1.43400710e-07j,\n",
       "        1.62000001e+02+1.25603909e-07j,  1.63000001e+02+5.71580822e-07j,\n",
       "        1.64000001e+02+1.06151789e-06j,  1.64999997e+02+1.64096405e-06j,\n",
       "        1.66000000e+02+1.02349638e-07j,  1.67000001e+02+1.75448986e-06j,\n",
       "        1.67999999e+02+4.66683506e-07j,  1.68999999e+02-1.08092451e-06j,\n",
       "        1.70000000e+02-6.68734863e-08j,  1.71000000e+02+8.24940855e-07j,\n",
       "        1.72000000e+02+4.87141790e-07j,  1.73000000e+02-1.10787695e-07j,\n",
       "        1.73999998e+02+4.46252713e-07j,  1.75000000e+02-1.12995830e-06j,\n",
       "        1.76000001e+02-1.48972752e-06j,  1.77000000e+02-1.12444704e-06j,\n",
       "        1.78000000e+02-3.83815795e-07j,  1.79000000e+02+1.92005203e-08j,\n",
       "        1.79999998e+02-3.77624509e-08j,  1.81000001e+02+1.43080257e-06j,\n",
       "        1.82000000e+02-5.10166505e-07j,  1.83000000e+02-5.14388745e-08j,\n",
       "        1.83999999e+02+1.48735257e-07j,  1.85000000e+02+1.97963843e-07j,\n",
       "        1.86000001e+02+2.75167828e-07j,  1.87000000e+02+3.19779989e-07j,\n",
       "        1.88000000e+02+3.20143769e-07j,  1.88999999e+02-2.39822546e-06j,\n",
       "        1.90000000e+02-4.86425655e-08j,  1.90999999e+02+4.33110703e-07j,\n",
       "        1.92000000e+02+1.01223536e-06j,  1.92999999e+02-4.74939334e-07j,\n",
       "        1.93999999e+02+6.17601899e-07j,  1.94999999e+02-9.04269747e-07j,\n",
       "        1.96000000e+02-2.03018786e-07j,  1.97000000e+02-1.00554737e-06j,\n",
       "        1.98000000e+02-1.86941342e-07j,  1.99000000e+02+2.58556923e-07j,\n",
       "        1.99999999e+02-4.88746821e-08j,  2.00999999e+02+2.21557883e-07j,\n",
       "        2.02000000e+02-5.66660887e-08j,  2.03000000e+02-4.31163777e-07j,\n",
       "        2.04000001e+02-2.05315516e-07j,  2.05000001e+02+1.07591065e-06j,\n",
       "        2.06000000e+02-3.55704181e-07j,  2.07000001e+02+1.12383307e-06j,\n",
       "        2.08000001e+02-7.51436083e-07j,  2.09000000e+02-8.97100811e-07j,\n",
       "        2.10000000e+02-7.18544861e-07j,  2.11000002e+02+3.12081347e-07j,\n",
       "        2.12000000e+02+2.86212369e-07j,  2.13000000e+02+2.72820195e-07j,\n",
       "        2.14000000e+02+7.90868881e-08j,  2.15000000e+02+1.09618540e-07j,\n",
       "        2.16000000e+02-1.10893583e-06j,  2.16999999e+02-1.66131569e-06j,\n",
       "        2.18000000e+02-7.95884986e-07j,  2.19000000e+02-3.32867160e-07j,\n",
       "        2.20000000e+02-4.41625971e-07j,  2.20999999e+02-2.56305822e-06j,\n",
       "        2.22000000e+02+1.46243970e-07j,  2.22999996e+02+3.86047653e-07j,\n",
       "        2.24000001e+02-5.71733409e-07j,  2.25000000e+02+1.79211952e-08j,\n",
       "        2.25999999e+02+3.01700652e-07j,  2.27000000e+02+2.04088131e-07j,\n",
       "        2.27999999e+02-4.27274799e-07j,  2.28999999e+02+8.89690266e-07j,\n",
       "        2.30000001e+02-3.29981951e-07j,  2.30999999e+02+4.90058678e-07j,\n",
       "        2.32000000e+02-3.18295776e-07j,  2.33000000e+02+1.75958272e-06j,\n",
       "        2.34000001e+02+1.17146783e-06j,  2.35000000e+02+3.13871876e-07j,\n",
       "        2.36000000e+02-1.94232946e-07j,  2.37000000e+02-3.22801288e-07j,\n",
       "        2.38000000e+02-6.43318288e-09j,  2.39000001e+02+1.92859411e-06j,\n",
       "        2.39999999e+02+7.56008873e-07j,  2.41000001e+02-9.74763861e-07j,\n",
       "        2.42000000e+02+4.20408458e-07j,  2.42999999e+02+3.20030349e-07j,\n",
       "        2.44000000e+02-7.28386080e-07j,  2.44999999e+02+7.05690931e-07j,\n",
       "        2.46000000e+02-5.13445059e-07j,  2.47000000e+02+5.91194929e-07j,\n",
       "        2.48000000e+02+3.68616231e-07j,  2.49000000e+02+1.23302128e-07j,\n",
       "        2.50000000e+02-6.66260442e-07j,  2.51000000e+02+3.24988735e-07j,\n",
       "        2.52000001e+02+1.42600743e-06j,  2.53000000e+02-8.57907061e-07j,\n",
       "        2.54000000e+02-4.70791804e-07j,  2.54999999e+02-8.72321717e-08j])"
      ]
     },
     "execution_count": 236,
     "metadata": {},
     "output_type": "execute_result"
    }
   ],
   "source": [
    "ctx = encryptor.encrypt(ptx)\n",
    "ptx = decryptor.decrypt(ctx)\n",
    "encoder.decode(ptx)"
   ]
  },
  {
   "cell_type": "code",
   "execution_count": 237,
   "metadata": {
    "ExecuteTime": {
     "end_time": "2020-05-25T07:26:53.178351Z",
     "start_time": "2020-05-25T07:26:51.927687Z"
    }
   },
   "outputs": [
    {
     "data": {
      "text/plain": [
       "array([-1.51463411e-07-1.41043343e-06j,  1.99999951e+00+4.02264998e-07j,\n",
       "        3.99999982e+00+1.28170893e-06j,  5.99999984e+00+8.27889121e-07j,\n",
       "        8.00000211e+00+1.00494029e-06j,  9.99999880e+00+3.52296524e-07j,\n",
       "        1.20000008e+01+2.29103069e-06j,  1.39999989e+01-1.16085309e-06j,\n",
       "        1.60000006e+01+1.87021561e-06j,  1.79999956e+01+7.65512109e-07j,\n",
       "        2.00000006e+01+1.28256016e-07j,  2.19999992e+01+2.17621277e-06j,\n",
       "        2.39999986e+01-1.68474260e-06j,  2.59999988e+01+1.46438155e-06j,\n",
       "        2.80000008e+01-6.61638509e-07j,  2.99999993e+01-2.15386656e-06j,\n",
       "        3.20000020e+01-1.20005951e-06j,  3.39999992e+01+8.22865466e-07j,\n",
       "        3.60000002e+01+7.83794732e-07j,  3.79999993e+01-4.64120397e-07j,\n",
       "        4.00000021e+01-5.96236461e-07j,  4.20000009e+01+2.00315640e-08j,\n",
       "        4.40000012e+01-1.63327893e-06j,  4.59999993e+01-1.42984796e-07j,\n",
       "        4.79999997e+01-2.06645048e-07j,  4.99999986e+01-1.35337912e-06j,\n",
       "        5.19999996e+01-8.73546995e-08j,  5.40000006e+01-1.32562754e-06j,\n",
       "        5.60000007e+01+3.02849926e-07j,  5.79999973e+01+8.72825638e-07j,\n",
       "        5.99999998e+01+1.61180299e-06j,  6.19999996e+01-4.82501036e-07j,\n",
       "        6.40000001e+01+1.12133876e-07j,  6.60000001e+01-7.77800338e-07j,\n",
       "        6.79999975e+01-8.56746354e-07j,  7.00000012e+01-1.38670177e-06j,\n",
       "        7.20000024e+01+1.96362848e-07j,  7.39999975e+01-4.48108260e-06j,\n",
       "        7.59999950e+01+1.07039732e-06j,  7.79999991e+01+1.45554964e-07j,\n",
       "        8.00000009e+01+3.98181214e-07j,  8.20000003e+01+1.24414269e-06j,\n",
       "        8.40000014e+01+3.50126346e-06j,  8.59999978e+01-2.09347618e-07j,\n",
       "        8.79999978e+01-1.64229272e-06j,  8.99999985e+01+7.06134387e-08j,\n",
       "        9.20000002e+01-7.01074896e-08j,  9.40000010e+01+2.62266238e-06j,\n",
       "        9.59999990e+01+1.53149706e-06j,  9.80000002e+01-8.47793672e-07j,\n",
       "        9.99999999e+01+4.34682448e-07j,  1.02000001e+02-4.27223014e-07j,\n",
       "        1.04000002e+02+1.70210505e-06j,  1.06000000e+02-5.64986891e-07j,\n",
       "        1.07999999e+02-1.79120903e-07j,  1.09999999e+02+2.42222247e-06j,\n",
       "        1.12000000e+02+1.63241651e-07j,  1.14000000e+02+9.47061565e-07j,\n",
       "        1.15999999e+02+2.14141637e-06j,  1.18000002e+02+2.38148533e-06j,\n",
       "        1.20000001e+02+2.19633276e-06j,  1.22000000e+02+6.95088232e-07j,\n",
       "        1.24000000e+02-2.03219520e-06j,  1.25999999e+02+1.26119474e-07j,\n",
       "        1.27999996e+02+2.06487013e-06j,  1.30000003e+02+1.19173423e-06j,\n",
       "        1.31999998e+02+1.68794154e-06j,  1.34000000e+02-3.94362829e-07j,\n",
       "        1.35999998e+02-1.20024853e-06j,  1.38000001e+02-9.02378446e-07j,\n",
       "        1.40000000e+02-1.67722034e-06j,  1.42000003e+02-5.50775482e-07j,\n",
       "        1.44000000e+02+6.45355342e-07j,  1.46000000e+02+3.74378009e-06j,\n",
       "        1.48000001e+02-9.23274889e-07j,  1.50000002e+02-1.46509428e-06j,\n",
       "        1.51999999e+02-5.87065770e-07j,  1.54000003e+02+1.99755576e-07j,\n",
       "        1.56000004e+02-1.88219739e-06j,  1.58000000e+02-1.02547279e-06j,\n",
       "        1.60000002e+02-2.11977107e-06j,  1.61999999e+02+5.19030927e-07j,\n",
       "        1.63999999e+02+2.25447208e-06j,  1.65999998e+02-1.25639266e-06j,\n",
       "        1.68000001e+02-3.09984642e-08j,  1.69999999e+02-1.20128418e-06j,\n",
       "        1.72000002e+02+2.60719513e-06j,  1.74000000e+02-2.12258628e-06j,\n",
       "        1.76000004e+02+9.31093354e-08j,  1.78000002e+02-3.57470549e-06j,\n",
       "        1.80000001e+02+9.93149541e-07j,  1.82000000e+02+4.32180158e-09j,\n",
       "        1.83999997e+02+2.49296750e-07j,  1.85999999e+02+1.90798225e-06j,\n",
       "        1.87999999e+02+3.94079596e-07j,  1.90000000e+02-1.02495441e-07j,\n",
       "        1.92000002e+02-1.99516587e-06j,  1.94000000e+02+7.15688877e-08j,\n",
       "        1.95999999e+02+1.14463521e-06j,  1.98000001e+02-1.99821959e-06j,\n",
       "        2.00000002e+02+1.65093389e-06j,  2.02000002e+02-3.31596426e-06j,\n",
       "        2.04000002e+02+2.70694295e-06j,  2.05999998e+02+1.11937539e-06j,\n",
       "        2.08000000e+02-5.13618648e-07j,  2.10000000e+02-8.42711687e-07j,\n",
       "        2.12000001e+02-2.64444228e-06j,  2.14000001e+02+1.29633190e-07j,\n",
       "        2.15999998e+02-7.32783178e-07j,  2.18000002e+02+2.78639251e-06j,\n",
       "        2.20000004e+02-4.04481059e-06j,  2.21999999e+02+1.31164067e-06j,\n",
       "        2.24000000e+02+5.96392975e-07j,  2.26000000e+02+1.24784385e-07j,\n",
       "        2.28000000e+02-9.88912972e-07j,  2.30000005e+02-1.52974500e-06j,\n",
       "        2.32000002e+02+4.60129058e-07j,  2.33999998e+02+1.53181784e-06j,\n",
       "        2.36000000e+02-9.84181807e-08j,  2.38000000e+02+2.89373101e-06j,\n",
       "        2.39999998e+02-1.10782222e-06j,  2.42000000e+02-7.90475771e-07j,\n",
       "        2.44000001e+02+3.65905616e-07j,  2.46000000e+02-1.15532135e-06j,\n",
       "        2.47999999e+02-4.18314359e-07j,  2.50000000e+02-1.09290487e-06j,\n",
       "        2.51999999e+02+4.60216414e-07j,  2.54000003e+02-2.55560460e-06j,\n",
       "        2.55999998e+02+1.28991924e-06j,  2.57999998e+02+8.45914282e-07j,\n",
       "        2.59999999e+02+5.52842851e-07j,  2.61999998e+02-3.33169856e-06j,\n",
       "        2.64000001e+02-7.73821183e-07j,  2.66000001e+02+4.88210194e-07j,\n",
       "        2.68000000e+02+5.92556006e-07j,  2.69999995e+02+4.88359049e-07j,\n",
       "        2.72000000e+02-3.99568947e-06j,  2.74000001e+02+3.32878713e-06j,\n",
       "        2.75999998e+02+6.44640874e-07j,  2.78000000e+02-2.15749947e-06j,\n",
       "        2.79999999e+02-1.65890596e-06j,  2.82000000e+02+1.13524862e-07j,\n",
       "        2.83999998e+02-1.14490898e-06j,  2.85999998e+02-1.76031844e-06j,\n",
       "        2.87999999e+02-7.15023170e-08j,  2.89999998e+02+1.03045349e-06j,\n",
       "        2.92000002e+02-2.46765041e-06j,  2.93999998e+02+1.29527045e-06j,\n",
       "        2.95999999e+02+1.36289619e-06j,  2.98000000e+02+6.25070287e-07j,\n",
       "        3.00000000e+02+1.35148538e-06j,  3.02000000e+02+1.40458033e-06j,\n",
       "        3.03999999e+02-5.38694119e-07j,  3.06000001e+02-1.58854674e-06j,\n",
       "        3.08000000e+02-8.16718458e-07j,  3.10000003e+02-1.31399737e-06j,\n",
       "        3.11999999e+02-2.45078898e-07j,  3.14000000e+02+2.45949128e-07j,\n",
       "        3.16000001e+02-2.63463019e-07j,  3.17999999e+02+2.23239089e-06j,\n",
       "        3.19999996e+02+6.25176177e-08j,  3.22000001e+02+2.86801420e-07j,\n",
       "        3.24000001e+02+2.51207819e-07j,  3.26000002e+02+1.14316164e-06j,\n",
       "        3.28000002e+02+2.12303579e-06j,  3.29999995e+02+3.28192810e-06j,\n",
       "        3.32000000e+02+2.04699276e-07j,  3.34000002e+02+3.50897972e-06j,\n",
       "        3.35999998e+02+9.33367012e-07j,  3.37999998e+02-2.16184902e-06j,\n",
       "        3.39999999e+02-1.33746973e-07j,  3.41999999e+02+1.64988171e-06j,\n",
       "        3.44000001e+02+9.74283580e-07j,  3.46000000e+02-2.21575391e-07j,\n",
       "        3.47999996e+02+8.92505426e-07j,  3.50000001e+02-2.25991661e-06j,\n",
       "        3.52000001e+02-2.97945503e-06j,  3.54000000e+02-2.24889408e-06j,\n",
       "        3.56000000e+02-7.67631590e-07j,  3.58000000e+02+3.84010406e-08j,\n",
       "        3.59999996e+02-7.55249019e-08j,  3.62000002e+02+2.86160513e-06j,\n",
       "        3.64000000e+02-1.02033301e-06j,  3.65999999e+02-1.02877749e-07j,\n",
       "        3.67999999e+02+2.97470514e-07j,  3.70000000e+02+3.95927685e-07j,\n",
       "        3.72000001e+02+5.50335656e-07j,  3.74000000e+02+6.39559978e-07j,\n",
       "        3.76000001e+02+6.40287539e-07j,  3.77999998e+02-4.79645092e-06j,\n",
       "        3.80000000e+02-9.72851311e-08j,  3.81999997e+02+8.66221406e-07j,\n",
       "        3.84000000e+02+2.02447072e-06j,  3.85999999e+02-9.49878668e-07j,\n",
       "        3.87999999e+02+1.23520380e-06j,  3.89999999e+02-1.80853949e-06j,\n",
       "        3.92000000e+02-4.06037572e-07j,  3.94000000e+02-2.01109474e-06j,\n",
       "        3.96000000e+02-3.73882685e-07j,  3.98000000e+02+5.17113847e-07j,\n",
       "        3.99999998e+02-9.77493642e-08j,  4.01999997e+02+4.43115766e-07j,\n",
       "        4.04000000e+02-1.13332177e-07j,  4.06000000e+02-8.62327553e-07j,\n",
       "        4.08000002e+02-4.10631031e-07j,  4.10000002e+02+2.15182131e-06j,\n",
       "        4.12000000e+02-7.11408362e-07j,  4.14000001e+02+2.24766615e-06j,\n",
       "        4.16000002e+02-1.50287217e-06j,  4.17999999e+02-1.79420162e-06j,\n",
       "        4.20000001e+02-1.43708972e-06j,  4.22000003e+02+6.24162695e-07j,\n",
       "        4.24000000e+02+5.72424739e-07j,  4.26000001e+02+5.45640390e-07j,\n",
       "        4.27999999e+02+1.58173776e-07j,  4.29999999e+02+2.19237080e-07j,\n",
       "        4.32000000e+02-2.21787167e-06j,  4.33999998e+02-3.32263137e-06j,\n",
       "        4.36000000e+02-1.59176997e-06j,  4.38000001e+02-6.65734319e-07j,\n",
       "        4.40000000e+02-8.83251943e-07j,  4.41999998e+02-5.12611645e-06j,\n",
       "        4.44000000e+02+2.92487940e-07j,  4.45999992e+02+7.72095305e-07j,\n",
       "        4.48000001e+02-1.14346682e-06j,  4.50000000e+02+3.58423904e-08j,\n",
       "        4.51999999e+02+6.03401304e-07j,  4.54000000e+02+4.08176263e-07j,\n",
       "        4.55999999e+02-8.54549597e-07j,  4.57999999e+02+1.77938053e-06j,\n",
       "        4.60000002e+02-6.59963902e-07j,  4.61999999e+02+9.80117356e-07j,\n",
       "        4.64000000e+02-6.36591551e-07j,  4.66000000e+02+3.51916545e-06j,\n",
       "        4.68000001e+02+2.34293566e-06j,  4.70000000e+02+6.27743752e-07j,\n",
       "        4.72000000e+02-3.88465892e-07j,  4.73999999e+02-6.45602576e-07j,\n",
       "        4.75999999e+02-1.28663658e-08j,  4.78000002e+02+3.85718823e-06j,\n",
       "        4.79999999e+02+1.51201775e-06j,  4.82000003e+02-1.94952772e-06j,\n",
       "        4.84000001e+02+8.40816917e-07j,  4.85999997e+02+6.40060698e-07j,\n",
       "        4.87999999e+02-1.45677216e-06j,  4.89999999e+02+1.41138186e-06j,\n",
       "        4.92000000e+02-1.02689012e-06j,  4.93999999e+02+1.18238986e-06j,\n",
       "        4.96000000e+02+7.37232462e-07j,  4.98000000e+02+2.46604255e-07j,\n",
       "        4.99999999e+02-1.33252088e-06j,  5.02000001e+02+6.49977469e-07j,\n",
       "        5.04000002e+02+2.85201487e-06j,  5.06000000e+02-1.71581412e-06j,\n",
       "        5.08000001e+02-9.41583608e-07j,  5.09999998e+02-1.74464343e-07j])"
      ]
     },
     "execution_count": 237,
     "metadata": {},
     "output_type": "execute_result"
    }
   ],
   "source": [
    "ct_add = (ctx[0] + ctx[0], ctx[1] + ctx[1])\n",
    "ptx = decryptor.decrypt(ct_add)\n",
    "encoder.decode(ptx)"
   ]
  },
  {
   "cell_type": "code",
   "execution_count": 245,
   "metadata": {
    "ExecuteTime": {
     "end_time": "2020-05-25T07:30:40.109191Z",
     "start_time": "2020-05-25T07:30:40.103196Z"
    }
   },
   "outputs": [],
   "source": [
    "a = np.ones(encoder.slot_count)\n",
    "b = np.ones(encoder.slot_count) * 2"
   ]
  },
  {
   "cell_type": "code",
   "execution_count": 246,
   "metadata": {
    "ExecuteTime": {
     "end_time": "2020-05-25T07:30:41.147916Z",
     "start_time": "2020-05-25T07:30:40.320874Z"
    }
   },
   "outputs": [],
   "source": [
    "ptx1 = encoder.encode(a)\n",
    "ptx2 = encoder.encode(b)"
   ]
  },
  {
   "cell_type": "code",
   "execution_count": 247,
   "metadata": {
    "ExecuteTime": {
     "end_time": "2020-05-25T07:30:41.288356Z",
     "start_time": "2020-05-25T07:30:41.151073Z"
    }
   },
   "outputs": [],
   "source": [
    "ctx1 = encryptor.encrypt(ptx1)\n",
    "ctx2 = encryptor.encrypt(ptx2)"
   ]
  },
  {
   "cell_type": "code",
   "execution_count": 248,
   "metadata": {
    "ExecuteTime": {
     "end_time": "2020-05-25T07:30:41.312648Z",
     "start_time": "2020-05-25T07:30:41.290680Z"
    }
   },
   "outputs": [],
   "source": [
    "ct_mul = (ctx1[0] * ctx2[0], ctx1[1] * ctx2[0] + ctx1[0] * ctx2[1], ctx1[1] * ctx2[1])"
   ]
  },
  {
   "cell_type": "code",
   "execution_count": 249,
   "metadata": {
    "ExecuteTime": {
     "end_time": "2020-05-25T07:30:41.330552Z",
     "start_time": "2020-05-25T07:30:41.315766Z"
    }
   },
   "outputs": [],
   "source": [
    "pt_mul = ct_mul[0] + ct_mul[1] * s + ct_mul[2] * s * s"
   ]
  },
  {
   "cell_type": "code",
   "execution_count": 250,
   "metadata": {
    "ExecuteTime": {
     "end_time": "2020-05-25T07:30:42.818589Z",
     "start_time": "2020-05-25T07:30:41.553846Z"
    }
   },
   "outputs": [
    {
     "data": {
      "text/plain": [
       "array([2.14748462e+09+1.10114562e+03j, 2.14748428e+09+8.79125044e+02j,\n",
       "       2.14748333e+09-5.69100079e+02j, 2.14748259e+09-2.33486692e+03j,\n",
       "       2.14748453e+09-5.26272181e+02j, 2.14748310e+09+1.38128896e+03j,\n",
       "       2.14748442e+09+1.17802594e+03j, 2.14748599e+09+1.31097597e+03j,\n",
       "       2.14748499e+09+1.56802720e+03j, 2.14748173e+09+1.50104918e+03j,\n",
       "       2.14748511e+09-2.53062561e+03j, 2.14748222e+09+3.91550865e+03j,\n",
       "       2.14748173e+09-5.64535559e+02j, 2.14747828e+09-1.11709513e+03j,\n",
       "       2.14748361e+09+1.13839707e+03j, 2.14748318e+09-3.21219608e+03j,\n",
       "       2.14748541e+09+2.67056186e+02j, 2.14747977e+09-1.91322897e+03j,\n",
       "       2.14748408e+09+2.77829937e+03j, 2.14748361e+09-1.88514873e+03j,\n",
       "       2.14748915e+09-2.66335163e+03j, 2.14748166e+09+1.67899730e+03j,\n",
       "       2.14748509e+09-3.75610880e+03j, 2.14748335e+09+4.00332586e+02j,\n",
       "       2.14748344e+09+1.88017542e+02j, 2.14748326e+09-4.30222182e+02j,\n",
       "       2.14748568e+09+1.42552256e+03j, 2.14748442e+09+9.79316152e+02j,\n",
       "       2.14748441e+09-7.00807133e+02j, 2.14749254e+09-1.38155113e+03j,\n",
       "       2.14748319e+09-6.67726598e+02j, 2.14748621e+09-1.32749443e+03j,\n",
       "       2.14748252e+09+8.70785846e+02j, 2.14748509e+09+1.03437189e+03j,\n",
       "       2.14748669e+09-4.64552633e+03j, 2.14748246e+09-2.93725382e+03j,\n",
       "       2.14748261e+09-6.51626463e+02j, 2.14748284e+09-2.63793179e+02j,\n",
       "       2.14748346e+09+1.32700772e+03j, 2.14748623e+09-1.53455773e+03j,\n",
       "       2.14748483e+09-2.22388910e+03j, 2.14748508e+09+9.35352120e+02j,\n",
       "       2.14748458e+09-1.45988943e+03j, 2.14748201e+09+2.93713636e+03j,\n",
       "       2.14748596e+09-8.52930391e+02j, 2.14748364e+09+1.10092591e+03j,\n",
       "       2.14748355e+09-2.44515813e+02j, 2.14748358e+09-3.65183120e+02j,\n",
       "       2.14748390e+09-1.87999512e+02j, 2.14748377e+09-4.81544751e+02j,\n",
       "       2.14748395e+09-1.15568469e+03j, 2.14748689e+09-8.32603278e+02j,\n",
       "       2.14748453e+09+2.65496724e+03j, 2.14748460e+09-2.93059527e+02j,\n",
       "       2.14748701e+09-1.17891864e+03j, 2.14748290e+09+1.71500680e+02j,\n",
       "       2.14748574e+09-5.73762702e+02j, 2.14748322e+09-1.62212569e+02j,\n",
       "       2.14748370e+09+5.99486820e+03j, 2.14748418e+09-2.10348216e+03j,\n",
       "       2.14748344e+09+1.66606234e+03j, 2.14748361e+09-1.16508799e+03j,\n",
       "       2.14748327e+09-1.09766782e+03j, 2.14748513e+09-2.10645561e+03j,\n",
       "       2.14749028e+09+1.91937541e+02j, 2.14748313e+09+2.41884289e+03j,\n",
       "       2.14748802e+09+4.23542925e+03j, 2.14748397e+09-5.96534592e+02j,\n",
       "       2.14748230e+09-1.62621864e+03j, 2.14748340e+09+8.09326253e+02j,\n",
       "       2.14748204e+09+3.35325878e+02j, 2.14748635e+09+2.95778214e+03j,\n",
       "       2.14748445e+09-7.83423671e+02j, 2.14748525e+09+1.25616803e+03j,\n",
       "       2.14748631e+09-1.36355326e+03j, 2.14748189e+09-6.23329878e+02j,\n",
       "       2.14748336e+09+2.33608662e+02j, 2.14748443e+09-3.69705613e+03j,\n",
       "       2.14748488e+09+2.17127486e+03j, 2.14748360e+09-1.96117059e+03j,\n",
       "       2.14748163e+09-6.04390643e+02j, 2.14747874e+09-2.96701815e+02j,\n",
       "       2.14748418e+09-6.70094994e+02j, 2.14748734e+09-1.41053547e+03j,\n",
       "       2.14748615e+09-1.78912663e+03j, 2.14748342e+09+2.11174888e+02j,\n",
       "       2.14748311e+09-1.01722672e+03j, 2.14748102e+09-2.71936509e+03j,\n",
       "       2.14748765e+09-1.90900841e+03j, 2.14748405e+09-2.91571220e+03j,\n",
       "       2.14748188e+09+2.69990654e+03j, 2.14748469e+09+1.24050787e+03j,\n",
       "       2.14748220e+09+1.24826899e+02j, 2.14748565e+09-1.06750736e+03j,\n",
       "       2.14748316e+09-6.03885330e+02j, 2.14748351e+09-3.79915884e+02j,\n",
       "       2.14748212e+09+2.20018213e+03j, 2.14748451e+09+1.46858908e+03j,\n",
       "       2.14748492e+09-2.08693991e+03j, 2.14748765e+09-1.54613924e+03j,\n",
       "       2.14748271e+09-1.46468715e+03j, 2.14748338e+09-2.25622001e+02j,\n",
       "       2.14748595e+09+2.74314393e+03j, 2.14748334e+09+7.54665390e+02j,\n",
       "       2.14748363e+09-2.02075900e+02j, 2.14748341e+09+3.99787867e+02j,\n",
       "       2.14748252e+09-2.15736098e+03j, 2.14748298e+09-5.65206410e+02j,\n",
       "       2.14748293e+09+1.37740161e+03j, 2.14748318e+09+3.58805113e+02j,\n",
       "       2.14748285e+09-3.09410131e+03j, 2.14748448e+09+4.10677077e+02j,\n",
       "       2.14748389e+09-8.33385191e+02j, 2.14748461e+09-4.05580938e+03j,\n",
       "       2.14748243e+09-1.43385746e+02j, 2.14747986e+09-4.38752642e+03j,\n",
       "       2.14748558e+09-4.04357896e+02j, 2.14748264e+09-1.39010530e+03j,\n",
       "       2.14748264e+09-4.22622933e+02j, 2.14748279e+09-1.05389117e+03j,\n",
       "       2.14748400e+09+1.93019706e+03j, 2.14747917e+09+3.30665883e+03j,\n",
       "       2.14748245e+09-1.02790296e+03j, 2.14748407e+09+3.11435771e+03j,\n",
       "       2.14748175e+09-1.31366498e+03j, 2.14748072e+09+6.52001139e+02j,\n",
       "       2.14748263e+09+2.17094837e+03j, 2.14748590e+09+6.59028233e+02j,\n",
       "       2.14748279e+09-2.79747735e+03j, 2.14748325e+09-1.23511184e+03j,\n",
       "       2.14748283e+09-5.90581782e+02j, 2.14748196e+09+1.28537134e+03j,\n",
       "       2.14748325e+09+1.10947548e+03j, 2.14748316e+09+5.13091944e+02j,\n",
       "       2.14748372e+09-1.27960670e+03j, 2.14748365e+09+9.07174775e+02j,\n",
       "       2.14748562e+09-3.99349477e+03j, 2.14748551e+09+3.42416430e+03j,\n",
       "       2.14748286e+09-7.01481285e+02j, 2.14748536e+09+1.13802459e+03j,\n",
       "       2.14748415e+09-4.33418085e+02j, 2.14748366e+09+2.61770541e+02j,\n",
       "       2.14748537e+09-5.29595727e+02j, 2.14748442e+09+1.75943531e+03j,\n",
       "       2.14748529e+09+1.22791265e+03j, 2.14748228e+09-6.14132498e+02j,\n",
       "       2.14748391e+09+7.94958803e+02j, 2.14748052e+09+2.73753400e+03j,\n",
       "       2.14747822e+09-3.83551525e+03j, 2.14748443e+09+2.80265605e+01j,\n",
       "       2.14748102e+09+7.70155004e+02j, 2.14748392e+09-3.85261253e+02j,\n",
       "       2.14748604e+09-2.48498409e+03j, 2.14748375e+09-5.22554914e+02j,\n",
       "       2.14748595e+09+1.30061450e+03j, 2.14748239e+09-1.32554831e+03j,\n",
       "       2.14748516e+09-7.70722405e+02j, 2.14748327e+09-9.36863369e+02j,\n",
       "       2.14748560e+09+4.03976662e+03j, 2.14748292e+09-7.04662792e+02j,\n",
       "       2.14748289e+09+2.29026353e+01j, 2.14748345e+09-7.48219753e+02j,\n",
       "       2.14748130e+09-9.97593638e+02j, 2.14748493e+09-1.35444130e+03j,\n",
       "       2.14748439e+09-1.29479330e+03j, 2.14748047e+09+1.78728004e+03j,\n",
       "       2.14748406e+09-5.14502606e+02j, 2.14748519e+09+4.94268279e+02j,\n",
       "       2.14748464e+09-1.01368820e+03j, 2.14748165e+09-1.17924053e+03j,\n",
       "       2.14748290e+09-2.07442642e+02j, 2.14748089e+09-3.15857837e+03j,\n",
       "       2.14748348e+09-2.05542036e+03j, 2.14748438e+09+4.76872892e+02j,\n",
       "       2.14748521e+09+1.69319704e+03j, 2.14748463e+09+3.74492792e+03j,\n",
       "       2.14748690e+09-3.32619089e+01j, 2.14748055e+09+1.34888505e+03j,\n",
       "       2.14748220e+09-7.84023535e+02j, 2.14748404e+09+1.12783429e+01j,\n",
       "       2.14748329e+09+3.94953921e+03j, 2.14748409e+09-9.37753117e+02j,\n",
       "       2.14748211e+09+3.24977014e+03j, 2.14748240e+09-2.87190193e+02j,\n",
       "       2.14748546e+09-3.21813980e+02j, 2.14748315e+09+2.17258981e+02j,\n",
       "       2.14748452e+09-4.01540219e+02j, 2.14748525e+09-7.42542104e+02j,\n",
       "       2.14748365e+09+2.58821109e+03j, 2.14748556e+09+1.95331747e+03j,\n",
       "       2.14748398e+09-1.43327768e+03j, 2.14748564e+09+7.32691355e+02j,\n",
       "       2.14748329e+09-3.05430575e+02j, 2.14748568e+09-3.00566078e+03j,\n",
       "       2.14748478e+09+1.23558378e+03j, 2.14748406e+09+7.09944522e+02j,\n",
       "       2.14748331e+09+8.41924489e+01j, 2.14748658e+09-5.17452145e+03j,\n",
       "       2.14748503e+09+5.53219082e+02j, 2.14748448e+09+7.54692693e+02j,\n",
       "       2.14748140e+09+3.11509565e+00j, 2.14748658e+09-3.00132175e+03j,\n",
       "       2.14748275e+09-3.16781517e+02j, 2.14748351e+09-3.61251529e+02j,\n",
       "       2.14748386e+09-2.53480166e+03j, 2.14748418e+09+6.05618454e+02j,\n",
       "       2.14748276e+09+7.52002784e+02j, 2.14748272e+09-8.30438445e+02j,\n",
       "       2.14748269e+09-2.27121272e+02j, 2.14748338e+09-8.72599601e+02j,\n",
       "       2.14748351e+09+1.26844473e+03j, 2.14748275e+09+9.33495073e+03j,\n",
       "       2.14748356e+09-5.22461167e+02j, 2.14748079e+09+3.94115697e+02j,\n",
       "       2.14748343e+09+2.75762455e+02j, 2.14748667e+09+7.42246846e+02j,\n",
       "       2.14748065e+09-2.31879629e+03j, 2.14748616e+09-1.16357947e+03j,\n",
       "       2.14748601e+09+6.25313977e+02j, 2.14748226e+09+4.87169252e+02j,\n",
       "       2.14748247e+09-1.46718002e+03j, 2.14748440e+09-1.46198084e+03j,\n",
       "       2.14748357e+09-1.17541234e+03j, 2.14748097e+09-1.25941970e+03j,\n",
       "       2.14748339e+09-6.40386096e+02j, 2.14748527e+09-1.10856431e+03j,\n",
       "       2.14748273e+09-1.27447010e+03j, 2.14748410e+09-1.01316547e+03j,\n",
       "       2.14748541e+09-9.32343011e+02j, 2.14748194e+09+1.73526499e+03j,\n",
       "       2.14748131e+09-1.05521464e+03j, 2.14747761e+09+1.91458154e+03j,\n",
       "       2.14748345e+09+7.62789702e+02j, 2.14748190e+09+5.89109398e+03j,\n",
       "       2.14748352e+09+2.61136032e+03j, 2.14748416e+09-2.52494048e+03j,\n",
       "       2.14748347e+09+3.40798340e+02j, 2.14748253e+09-1.26129907e+03j,\n",
       "       2.14748485e+09+1.39832988e+03j, 2.14748334e+09-2.38059975e+03j,\n",
       "       2.14748262e+09-2.05879775e+03j, 2.14748550e+09-2.16064822e+03j,\n",
       "       2.14748141e+09+6.39847927e+02j, 2.14748395e+09+2.74806522e+02j,\n",
       "       2.14748429e+09-1.71975997e+03j, 2.14748472e+09+2.82076022e+02j,\n",
       "       2.14748550e+09-5.64389682e+01j, 2.14747986e+09-1.05748486e+03j,\n",
       "       2.14748542e+09+4.10181551e+02j, 2.14748381e+09-1.62021235e+03j,\n",
       "       2.14748383e+09+1.05637120e+03j, 2.14748463e+09+5.96127654e+02j,\n",
       "       2.14748171e+09-1.10513778e+03j, 2.14748118e+09+1.84005989e+03j,\n",
       "       2.14748458e+09+8.52513202e+02j, 2.14748232e+09+1.64815367e+03j])"
      ]
     },
     "execution_count": 250,
     "metadata": {},
     "output_type": "execute_result"
    }
   ],
   "source": [
    "encoder.decode(pt_mul)"
   ]
  }
 ],
 "metadata": {
  "kernelspec": {
   "display_name": "Python 3",
   "language": "python",
   "name": "python3"
  },
  "language_info": {
   "codemirror_mode": {
    "name": "ipython",
    "version": 3
   },
   "file_extension": ".py",
   "mimetype": "text/x-python",
   "name": "python",
   "nbconvert_exporter": "python",
   "pygments_lexer": "ipython3",
   "version": "3.8.2"
  },
  "toc": {
   "base_numbering": 1,
   "nav_menu": {},
   "number_sections": true,
   "sideBar": true,
   "skip_h1_title": false,
   "title_cell": "Table of Contents",
   "title_sidebar": "Contents",
   "toc_cell": false,
   "toc_position": {},
   "toc_section_display": true,
   "toc_window_display": false
  }
 },
 "nbformat": 4,
 "nbformat_minor": 4
}
