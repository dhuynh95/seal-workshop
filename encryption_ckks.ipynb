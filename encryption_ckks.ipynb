{
 "cells": [
  {
   "cell_type": "markdown",
   "metadata": {},
   "source": [
    "# Encryption in CKKS"
   ]
  },
  {
   "cell_type": "code",
   "execution_count": 61,
   "metadata": {
    "ExecuteTime": {
     "end_time": "2020-05-26T11:54:14.277221Z",
     "start_time": "2020-05-26T11:54:14.232754Z"
    }
   },
   "outputs": [],
   "source": [
    "from numpy.polynomial import Polynomial\n",
    "import numpy as np\n",
    "\n",
    "def round_coordinates(coordinates):\n",
    "    \"\"\"Gives the integral rest.\"\"\"\n",
    "    coordinates = coordinates - np.floor(coordinates)\n",
    "    return coordinates\n",
    "\n",
    "def coordinate_wise_random_rounding(coordinates):\n",
    "    \"\"\"Rounds coordinates randonmly.\"\"\"\n",
    "    r = round_coordinates(coordinates)\n",
    "    f = np.array([np.random.choice([c, c-1], 1, p=[1-c, c]) for c in r]).reshape(-1)\n",
    "    \n",
    "    rounded_coordinates = coordinates - f\n",
    "    rounded_coordinates = [int(coeff) for coeff in rounded_coordinates]\n",
    "    return rounded_coordinates\n",
    "\n",
    "class CKKSEncoder:\n",
    "    \"\"\"Basic CKKS encoder to encode complex vectors into polynomials.\"\"\"\n",
    "    \n",
    "    def __init__(self, context, scale:float):\n",
    "        \"\"\"Initializes with scale.\"\"\"\n",
    "        \n",
    "        M = context.M\n",
    "        self.context = context\n",
    "        self.xi = np.exp(2 * np.pi * 1j / M)\n",
    "        self.M = M\n",
    "        self.create_sigma_R_basis()\n",
    "        self.scale = scale\n",
    "        \n",
    "        self.slot_count = M // 4\n",
    "        \n",
    "    @staticmethod\n",
    "    def vandermonde(xi: np.complex128, M: int) -> np.array:\n",
    "        \"\"\"Computes the Vandermonde matrix from a m-th root of unity.\"\"\"\n",
    "        \n",
    "        N = M //2\n",
    "        matrix = []\n",
    "        # We will generate each row of the matrix\n",
    "        for i in range(N):\n",
    "            # For each row we select a different root\n",
    "            root = xi ** (2 * i + 1)\n",
    "            row = []\n",
    "\n",
    "            # Then we store its powers\n",
    "            for j in range(N):\n",
    "                row.append(root ** j)\n",
    "            matrix.append(row)\n",
    "        return matrix\n",
    "    \n",
    "    def sigma_inverse(self, b: np.array) -> Polynomial:\n",
    "        \"\"\"Encodes the vector b in a polynomial using an M-th root of unity.\"\"\"\n",
    "\n",
    "        # First we create the Vandermonde matrix\n",
    "        A = CKKSEncoder.vandermonde(self.xi, M)\n",
    "\n",
    "        # Then we solve the system\n",
    "        coeffs = np.linalg.solve(A, b)\n",
    "\n",
    "        # Finally we output the polynomial\n",
    "        p = Polynomial(coeffs)\n",
    "        return p\n",
    "\n",
    "    def sigma(self, p: Polynomial) -> np.array:\n",
    "        \"\"\"Decodes a polynomial by applying it to the M-th roots of unity.\"\"\"\n",
    "\n",
    "        outputs = []\n",
    "        N = self.M //2\n",
    "\n",
    "        # We simply apply the polynomial on the roots\n",
    "        for i in range(N):\n",
    "            root = self.xi ** (2 * i + 1)\n",
    "            output = p(root)\n",
    "            outputs.append(output)\n",
    "        return np.array(outputs)\n",
    "    \n",
    "\n",
    "    def pi(self, z: np.array) -> np.array:\n",
    "        \"\"\"Projects a vector of H into C^{N/2}.\"\"\"\n",
    "\n",
    "        N = self.M // 4\n",
    "        return z[:N]\n",
    "\n",
    "\n",
    "    def pi_inverse(self, z: np.array) -> np.array:\n",
    "        \"\"\"Expands a vector of C^{N/2} by expanding it with its\n",
    "        complex conjugate.\"\"\"\n",
    "\n",
    "        z_conjugate = z[::-1]\n",
    "        z_conjugate = [np.conjugate(x) for x in z_conjugate]\n",
    "        return np.concatenate([z, z_conjugate])\n",
    "    \n",
    "    def create_sigma_R_basis(self):\n",
    "        \"\"\"Creates the basis (sigma(1), sigma(X), ..., sigma(X** N-1)).\"\"\"\n",
    "\n",
    "        self.sigma_R_basis = np.array(self.vandermonde(self.xi, self.M)).T\n",
    "    \n",
    "\n",
    "    def compute_basis_coordinates(self, z):\n",
    "        \"\"\"Computes the coordinates of a vector with respect to the orthogonal lattice basis.\"\"\"\n",
    "        output = np.array([np.real(np.vdot(z, b) / np.vdot(b,b)) for b in self.sigma_R_basis])\n",
    "        return output\n",
    "\n",
    "    def sigma_R_discretization(self, z):\n",
    "        \"\"\"Projects a vector on the lattice using coordinate wise random rounding.\"\"\"\n",
    "        coordinates = self.compute_basis_coordinates(z)\n",
    "\n",
    "        rounded_coordinates = coordinate_wise_random_rounding(coordinates)\n",
    "        y = np.matmul(self.sigma_R_basis.T, rounded_coordinates)\n",
    "        return y\n",
    "\n",
    "\n",
    "    def encode(self, z: np.array) -> Polynomial:\n",
    "        \"\"\"Encodes a vector by expanding it first to H,\n",
    "        scale it, project it on the lattice of sigma(R), and performs\n",
    "        sigma inverse.\n",
    "        \"\"\"\n",
    "        pi_z = self.pi_inverse(z)\n",
    "        scaled_pi_z = self.scale * pi_z\n",
    "        rounded_scale_pi_zi = self.sigma_R_discretization(scaled_pi_z)\n",
    "        p = self.sigma_inverse(rounded_scale_pi_zi)\n",
    "\n",
    "        # We round it afterwards due to numerical imprecision\n",
    "        coef = np.round(np.real(p.coef)).astype(int)\n",
    "        p = self.context.QPolynomial(coef)\n",
    "        \n",
    "        return p\n",
    "\n",
    "\n",
    "    def decode(self, p: Polynomial) -> np.array:\n",
    "        \"\"\"Decodes a polynomial by removing the scale, \n",
    "        evaluating on the roots, and project it on C^(N/2)\"\"\"\n",
    "        rescaled_p = p / self.scale\n",
    "        z = self.sigma(rescaled_p)\n",
    "        pi_z = self.pi(z)\n",
    "        return pi_z\n",
    "        \n",
    "    def decode_float(self, p:Polynomial) -> np.array:\n",
    "        pi_z = self.decode(p)\n",
    "        pi_z = np.real(pi_z)\n",
    "        return pi_z"
   ]
  },
  {
   "cell_type": "code",
   "execution_count": 62,
   "metadata": {
    "ExecuteTime": {
     "end_time": "2020-05-26T11:54:14.504926Z",
     "start_time": "2020-05-26T11:54:14.494221Z"
    }
   },
   "outputs": [],
   "source": [
    "from numpy.polynomial import Polynomial\n",
    "\n",
    "def mod_q(coeffs: np.ndarray, q: int) -> np.ndarray:\n",
    "    \"\"\"Reduce modulo q to (-q/2,q/2]\"\"\"\n",
    "    \n",
    "    r = coeffs % q\n",
    "    # Coefficients larger than q/2 are sent to (-q/2,0]\n",
    "    to_cycle = r > (q/2)\n",
    "    r[to_cycle] = r[to_cycle] - q\n",
    "    return r\n",
    "\n",
    "def mod_q_polynomial(p: Polynomial, q: int) -> Polynomial:\n",
    "    \"\"\"Reduces modulo q the coefficients of a polynomial\"\"\"\n",
    "    coeffs = p.coef\n",
    "    coeffs_mod_q = mod_q(coeffs, q)\n",
    "    p = Polynomial(coeffs_mod_q)\n",
    "    return p"
   ]
  },
  {
   "cell_type": "code",
   "execution_count": 63,
   "metadata": {
    "ExecuteTime": {
     "end_time": "2020-05-26T11:54:14.698061Z",
     "start_time": "2020-05-26T11:54:14.661590Z"
    }
   },
   "outputs": [],
   "source": [
    "from numpy.polynomial import polynomial as poly\n",
    "from numpy.polynomial import Polynomial\n",
    "from __future__ import annotations\n",
    "        \n",
    "class QPolynomialGenerator:\n",
    "    \"\"\"Polynomial generator for polynomials in Z_q[X]/(X^N + 1)\"\"\"\n",
    "    \n",
    "    def __init__(self, N: int, q: int):\n",
    "        self.q = q\n",
    "        \n",
    "        coeffs = np.zeros(N + 1)\n",
    "        coeffs[0] = 1\n",
    "        coeffs[-1] = 1\n",
    "        \n",
    "        self.poly_modulus = Polynomial(coeffs)\n",
    "    \n",
    "    def __call__(self, coef) -> QPolynomial:\n",
    "        \"\"\"Creates a polynomial from coefficients.\"\"\"\n",
    "        return QPolynomial(coef, self.q, self.poly_modulus, self)\n",
    "    \n",
    "class QPolynomial:\n",
    "    \"\"\"Polynomial in Z_q[X]/(X^N + 1). \n",
    "\n",
    "    Addition, substraction, multiplication and division are overload with\n",
    "    the correct operations inZ_q[X]/(X^N + 1).\"\"\"\n",
    "\n",
    "    def __init__(self, coef, q, poly_modulus, generator):\n",
    "        self.p = Polynomial(coef)\n",
    "        self.q = q\n",
    "        self.poly_modulus = poly_modulus\n",
    "        self.generator = generator\n",
    "\n",
    "    def __getattr__(self,k):\n",
    "        if k in self.__dict__.keys():\n",
    "            return getattr(self, k)\n",
    "        else:\n",
    "            try:\n",
    "                return getattr(self.p, k)\n",
    "            except AttributeError as e:\n",
    "                print(e)\n",
    "\n",
    "    def __mul__(self, right) -> QPolynomial:\n",
    "        if isinstance(right, QPolynomial):\n",
    "            right = right.p\n",
    "        p_mul = self.p * right % self.poly_modulus\n",
    "        p_mul = self.generator(p_mul.coef)\n",
    "        return p_mul\n",
    "\n",
    "    def __rmul__(self, left) -> QPolynomial:\n",
    "        return self.__mul__(left)\n",
    "\n",
    "    def __add__(self, right) -> QPolynomial:\n",
    "        if isinstance(right, QPolynomial):\n",
    "            right = right.p\n",
    "        p_add = (self.p + right) % self.poly_modulus\n",
    "        p_add = self.generator(p_add.coef)\n",
    "        return p_add\n",
    "\n",
    "    def __radd__(self, left) -> QPolynomial:\n",
    "        return self.__add__(left)\n",
    "\n",
    "    def __sub__(self, qpoly: QPolynomial) -> QPolynomial:\n",
    "        p_sub = (self.p - qpoly.p) % self.poly_modulus\n",
    "        p_sub = self.generator(p_sub.coef)\n",
    "        return p_sub\n",
    "\n",
    "    def __rsub__(self, qpoly: QPolynomial) -> QPolynomial:\n",
    "        p_sub = (qpoly.p - self.p) % self.poly_modulus\n",
    "        p_sub = self.generator(p_sub.coef)\n",
    "        return p_sub\n",
    "\n",
    "    def __neg__(self):\n",
    "        p_neg = - self.p %self.poly_modulus\n",
    "        p_neg = self.generator(p_neg.coef)\n",
    "        return p_neg\n",
    "\n",
    "    def __pos__(self):\n",
    "        p_pos = self.p %self.poly_modulus\n",
    "        p_pos = self.generator(p_pos.coef)\n",
    "        return p_pos\n",
    "\n",
    "    def __truediv__ (self, scale):\n",
    "        p_div = self.p / scale\n",
    "        p_div = self.generator(p_div.coef)\n",
    "        return p_div\n",
    "\n",
    "    def __call__(self, x):\n",
    "        return self.p(x)\n",
    "\n",
    "    def __repr__(self):\n",
    "        return self.p.__repr__()"
   ]
  },
  {
   "cell_type": "code",
   "execution_count": 64,
   "metadata": {
    "ExecuteTime": {
     "end_time": "2020-05-26T11:54:14.802923Z",
     "start_time": "2020-05-26T11:54:14.794192Z"
    }
   },
   "outputs": [],
   "source": [
    "class PolynomialSampler:\n",
    "    \"\"\"Base class to sample polynomials.\"\"\"\n",
    "    def __init__(self, context):\n",
    "        self.context = context\n",
    "        \n",
    "    def __getattr__(self,k):\n",
    "        \"\"\"Context variables are directly linked to the instance.\"\"\"\n",
    "        return getattr(self.context, k)\n",
    "        \n",
    "    def polynomial(self, coeffs):\n",
    "        p = self.context.QPolynomial(coeffs)\n",
    "        return p"
   ]
  },
  {
   "cell_type": "code",
   "execution_count": 65,
   "metadata": {
    "ExecuteTime": {
     "end_time": "2020-05-26T11:54:14.939322Z",
     "start_time": "2020-05-26T11:54:14.928208Z"
    }
   },
   "outputs": [],
   "source": [
    "class UniformPolynomial(PolynomialSampler):\n",
    "    def sample(self) -> QPolynomial:\n",
    "            \n",
    "        coeffs = np.random.choice(self.q, size=self.N)\n",
    "        coeffs = mod_q(coeffs, self.q)\n",
    "        \n",
    "        p = self.polynomial(coeffs)\n",
    "        return p\n",
    "    \n",
    "    def sample_manually(self, q) -> QPolynomial:\n",
    "        coeffs = np.random.choice(q, size=self.N)\n",
    "        coeffs = mod_q(coeffs, q)\n",
    "        \n",
    "        p = self.polynomial(coeffs)\n",
    "        return p"
   ]
  },
  {
   "cell_type": "code",
   "execution_count": 66,
   "metadata": {
    "ExecuteTime": {
     "end_time": "2020-05-26T11:54:15.069991Z",
     "start_time": "2020-05-26T11:54:15.062435Z"
    }
   },
   "outputs": [],
   "source": [
    "class ZO(PolynomialSampler):\n",
    "    def sample(self):\n",
    "        coeffs = np.random.choice([0,1,-1], size=self.N, p=[1-self.p, self.p /2, self.p/2])\n",
    "        \n",
    "        p = self.polynomial(coeffs)\n",
    "        return p"
   ]
  },
  {
   "cell_type": "code",
   "execution_count": 67,
   "metadata": {
    "ExecuteTime": {
     "end_time": "2020-05-26T11:54:15.205897Z",
     "start_time": "2020-05-26T11:54:15.195488Z"
    }
   },
   "outputs": [],
   "source": [
    "class HWT(PolynomialSampler):\n",
    "    def sample(self):\n",
    "        coeffs = np.random.choice([-1,1], size=self.N)\n",
    "        \n",
    "        slots = np.random.choice(range(self.N), self.N - self.h, replace=False)\n",
    "        \n",
    "        coeffs[slots] = 0\n",
    "            \n",
    "        p = self.polynomial(coeffs)\n",
    "        return p"
   ]
  },
  {
   "cell_type": "code",
   "execution_count": 68,
   "metadata": {
    "ExecuteTime": {
     "end_time": "2020-05-26T11:54:15.328273Z",
     "start_time": "2020-05-26T11:54:15.321170Z"
    }
   },
   "outputs": [],
   "source": [
    "class DG(PolynomialSampler):\n",
    "    def sample(self):\n",
    "        coeffs = np.random.normal(np.zeros(self.N), self.sigma)\n",
    "        \n",
    "        coeffs = np.array(coordinate_wise_random_rounding(coeffs))\n",
    "        coeffs = mod_q(coeffs, self.q)\n",
    "        \n",
    "        p = self.polynomial(coeffs)\n",
    "        return p"
   ]
  },
  {
   "cell_type": "code",
   "execution_count": 69,
   "metadata": {
    "ExecuteTime": {
     "end_time": "2020-05-26T11:54:15.476783Z",
     "start_time": "2020-05-26T11:54:15.464332Z"
    }
   },
   "outputs": [],
   "source": [
    "class Context:\n",
    "    def __init__(self, N, moduli):\n",
    "        self.N = N\n",
    "        self.M = N * 2\n",
    "        \n",
    "        self.q = np.cumprod(moduli[:-1])[-1]\n",
    "        self.special_prime = moduli[-1]\n",
    "        \n",
    "        self.QPolynomial = QPolynomialGenerator(N, q)\n",
    "        \n",
    "        self.setup_parameters()\n",
    "        \n",
    "        self.hwt = HWT(self)\n",
    "        self.dg = DG(self)\n",
    "        self.uniform = UniformPolynomial(self)\n",
    "        self.zo = ZO(self)\n",
    "        \n",
    "    def setup_parameters(self):\n",
    "        self.h = 64\n",
    "        self.sigma = 3\n",
    "        self.p = 0.5"
   ]
  },
  {
   "cell_type": "code",
   "execution_count": 70,
   "metadata": {
    "ExecuteTime": {
     "end_time": "2020-05-26T11:54:15.592494Z",
     "start_time": "2020-05-26T11:54:15.584019Z"
    }
   },
   "outputs": [],
   "source": [
    "class Keygen:\n",
    "    def __init__(self, context):\n",
    "        self.context = context\n",
    "        \n",
    "    def generate_secret_key(self):\n",
    "        s = self.context.hwt.sample()\n",
    "        return s\n",
    "    \n",
    "    def generate_public_key(self, s):\n",
    "        a = self.context.uniform.sample()\n",
    "        e = self.context.dg.sample()\n",
    "        \n",
    "        b = -(a * s) + e\n",
    "\n",
    "        pk = (b, a)\n",
    "        return pk\n",
    "    \n",
    "    def generate_relin_key(self, s):\n",
    "        a = self.context.uniform.sample_manually(self.context.q * self.context.special_prime)\n",
    "        e = self.context.dg.sample()\n",
    "        \n",
    "        b = -(a * s) + e + self.context.special_prime * s * s\n",
    "        relin_key = (b,a)\n",
    "        return relin_key"
   ]
  },
  {
   "cell_type": "code",
   "execution_count": 71,
   "metadata": {
    "ExecuteTime": {
     "end_time": "2020-05-26T11:54:15.741804Z",
     "start_time": "2020-05-26T11:54:15.729077Z"
    }
   },
   "outputs": [],
   "source": [
    "class Encryptor:\n",
    "    def __init__(self, context, pk):\n",
    "        self.pk = pk\n",
    "        self.context = context\n",
    "        \n",
    "    def encrypt(self, ptx):\n",
    "        v = self.context.zo.sample()\n",
    "        e0 = self.context.dg.sample()\n",
    "        e1 = self.context.dg.sample()\n",
    "\n",
    "        v_pk = (self.pk[0] * v, self.pk[1] * v)\n",
    "        ctx = (v_pk[0] + e0 + ptx, v_pk[1] + e1)\n",
    "        \n",
    "        return ctx"
   ]
  },
  {
   "cell_type": "code",
   "execution_count": 72,
   "metadata": {
    "ExecuteTime": {
     "end_time": "2020-05-26T11:54:15.864026Z",
     "start_time": "2020-05-26T11:54:15.856975Z"
    }
   },
   "outputs": [],
   "source": [
    "class Decryptor:\n",
    "    def __init__(self, context, s):\n",
    "        self.s = s\n",
    "        self.context = context\n",
    "        \n",
    "    def decrypt(self, ctx):\n",
    "        ptx = ctx[0] + self.s * ctx[1]\n",
    "        return ptx"
   ]
  },
  {
   "cell_type": "code",
   "execution_count": 73,
   "metadata": {
    "ExecuteTime": {
     "end_time": "2020-05-26T11:54:15.986761Z",
     "start_time": "2020-05-26T11:54:15.978620Z"
    }
   },
   "outputs": [],
   "source": [
    "N = 512\n",
    "M = N * 2\n",
    "scale = pow(2,15)\n",
    "\n",
    "moduli = [scale * pow(2,5), scale, scale * pow(2,5)]"
   ]
  },
  {
   "cell_type": "code",
   "execution_count": 74,
   "metadata": {
    "ExecuteTime": {
     "end_time": "2020-05-26T11:54:16.127119Z",
     "start_time": "2020-05-26T11:54:16.122798Z"
    }
   },
   "outputs": [],
   "source": [
    "context = Context(N, moduli)\n",
    "keygen = Keygen(context)"
   ]
  },
  {
   "cell_type": "code",
   "execution_count": 94,
   "metadata": {
    "ExecuteTime": {
     "end_time": "2020-05-26T11:55:31.799838Z",
     "start_time": "2020-05-26T11:55:31.696311Z"
    }
   },
   "outputs": [],
   "source": [
    "s = keygen.generate_secret_key()\n",
    "pk = keygen.generate_public_key(s)\n",
    "relin_key = keygen.generate_relin_key(s)"
   ]
  },
  {
   "cell_type": "code",
   "execution_count": 95,
   "metadata": {
    "ExecuteTime": {
     "end_time": "2020-05-26T11:55:32.312069Z",
     "start_time": "2020-05-26T11:55:31.876117Z"
    }
   },
   "outputs": [],
   "source": [
    "encoder = CKKSEncoder(context, scale)"
   ]
  },
  {
   "cell_type": "code",
   "execution_count": 96,
   "metadata": {
    "ExecuteTime": {
     "end_time": "2020-05-26T11:55:32.320662Z",
     "start_time": "2020-05-26T11:55:32.315947Z"
    }
   },
   "outputs": [],
   "source": [
    "encryptor = Encryptor(context, pk)\n",
    "decryptor = Decryptor(context, s)"
   ]
  },
  {
   "cell_type": "code",
   "execution_count": 97,
   "metadata": {
    "ExecuteTime": {
     "end_time": "2020-05-26T11:55:32.336838Z",
     "start_time": "2020-05-26T11:55:32.326880Z"
    }
   },
   "outputs": [],
   "source": [
    "z = np.arange(N//2)"
   ]
  },
  {
   "cell_type": "code",
   "execution_count": 98,
   "metadata": {
    "ExecuteTime": {
     "end_time": "2020-05-26T11:55:32.774563Z",
     "start_time": "2020-05-26T11:55:32.341402Z"
    }
   },
   "outputs": [],
   "source": [
    "ptx = encoder.encode(z)"
   ]
  },
  {
   "cell_type": "code",
   "execution_count": 99,
   "metadata": {
    "ExecuteTime": {
     "end_time": "2020-05-26T11:55:35.179935Z",
     "start_time": "2020-05-26T11:55:33.752116Z"
    }
   },
   "outputs": [
    {
     "data": {
      "text/plain": [
       "array([1.95242507e-02+0.02307015j, 9.87522660e-01+0.01956589j,\n",
       "       1.95971907e+00-0.01554842j, 2.99916504e+00-0.03097077j,\n",
       "       4.00722961e+00-0.01257957j, 4.97797569e+00-0.01011068j,\n",
       "       6.01533298e+00+0.05620058j, 7.00060952e+00-0.01955817j,\n",
       "       8.02398273e+00-0.00705084j, 9.04106358e+00+0.01193944j,\n",
       "       9.98658761e+00+0.01726699j, 1.10093786e+01+0.02025468j,\n",
       "       1.20172724e+01-0.01604947j, 1.30048634e+01-0.0051589j ,\n",
       "       1.40093209e+01+0.02733144j, 1.49969724e+01+0.00509166j,\n",
       "       1.60075420e+01-0.02975023j, 1.70627424e+01+0.03032853j,\n",
       "       1.79742599e+01+0.0270433j , 1.89917879e+01-0.01220565j,\n",
       "       2.00036910e+01-0.04791913j, 2.10056464e+01-0.03520789j,\n",
       "       2.20004967e+01-0.0195347j , 2.29967046e+01+0.01381751j,\n",
       "       2.40184623e+01-0.04258035j, 2.50199947e+01-0.01132079j,\n",
       "       2.59529199e+01+0.06636023j, 2.70008553e+01+0.00230454j,\n",
       "       2.79954756e+01+0.0482255j , 2.90534245e+01+0.02586398j,\n",
       "       3.00078917e+01-0.02711116j, 3.10229399e+01+0.01075976j,\n",
       "       3.20563603e+01-0.07926752j, 3.29904845e+01+0.02273803j,\n",
       "       3.40384340e+01+0.00638736j, 3.49941981e+01+0.02132524j,\n",
       "       3.60023620e+01+0.01917574j, 3.69864485e+01+0.05395311j,\n",
       "       3.80091636e+01+0.04388882j, 3.89797528e+01-0.0395031j ,\n",
       "       4.00249748e+01-0.00908623j, 4.10244656e+01-0.01907666j,\n",
       "       4.19742959e+01+0.00674841j, 4.30281687e+01+0.0028649j ,\n",
       "       4.40419147e+01-0.00560985j, 4.50040018e+01-0.00270295j,\n",
       "       4.59686067e+01+0.01202968j, 4.69615031e+01-0.03442979j,\n",
       "       4.79850893e+01+0.01867205j, 4.89995410e+01+0.01364606j,\n",
       "       4.99973991e+01+0.00452428j, 5.09959080e+01-0.02345422j,\n",
       "       5.19668316e+01-0.06935696j, 5.29660715e+01-0.06443576j,\n",
       "       5.39849236e+01+0.02389788j, 5.49849680e+01+0.03735552j,\n",
       "       5.60356846e+01+0.04338468j, 5.69995651e+01+0.00535172j,\n",
       "       5.79938256e+01+0.03439004j, 5.90385437e+01-0.03945145j,\n",
       "       6.00159983e+01-0.05514731j, 6.09490636e+01-0.03641252j,\n",
       "       6.20084948e+01+0.00039752j, 6.29810125e+01+0.04794655j,\n",
       "       6.39769017e+01-0.03406831j, 6.49964335e+01-0.00692791j,\n",
       "       6.59967839e+01-0.03154924j, 6.70069138e+01-0.01228319j,\n",
       "       6.79965479e+01-0.0021823j , 6.90047591e+01+0.00349223j,\n",
       "       7.00372826e+01+0.04922257j, 7.10148612e+01-0.00612268j,\n",
       "       7.19769699e+01+0.0010082j , 7.29575961e+01+0.04880075j,\n",
       "       7.40268312e+01+0.01612153j, 7.50068620e+01+0.00616904j,\n",
       "       7.60253654e+01-0.02745439j, 7.70258336e+01-0.0059744j ,\n",
       "       7.80285442e+01+0.01570524j, 7.90240868e+01+0.02772861j,\n",
       "       8.00159037e+01-0.03125098j, 8.09715705e+01-0.03371956j,\n",
       "       8.20454979e+01+0.0054586j , 8.30112230e+01-0.00084867j,\n",
       "       8.39968702e+01+0.0457608j , 8.50788968e+01-0.00219231j,\n",
       "       8.59929383e+01+0.03140545j, 8.70942598e+01-0.09552087j,\n",
       "       8.79829438e+01-0.01357724j, 8.89807639e+01-0.0083887j ,\n",
       "       9.00008523e+01-0.00694429j, 9.10028641e+01-0.00567074j,\n",
       "       9.19988354e+01+0.02849249j, 9.30060644e+01-0.03565291j,\n",
       "       9.40236486e+01+0.0118668j , 9.50347481e+01-0.00369468j,\n",
       "       9.60343917e+01-0.02969854j, 9.70001376e+01-0.00416692j,\n",
       "       9.79939815e+01-0.0116195j , 9.89791762e+01+0.00871012j,\n",
       "       1.00030143e+02+0.00678248j, 1.01018276e+02+0.00086977j,\n",
       "       1.02027489e+02+0.00937179j, 1.03005617e+02-0.04129141j,\n",
       "       1.04014996e+02-0.01180592j, 1.05015866e+02-0.01616843j,\n",
       "       1.06019206e+02+0.00771163j, 1.06968891e+02-0.00161799j,\n",
       "       1.08023944e+02-0.03504016j, 1.09009663e+02+0.01255338j,\n",
       "       1.09978761e+02-0.00686658j, 1.11023916e+02-0.00759367j,\n",
       "       1.12015378e+02-0.03070541j, 1.13026024e+02+0.03356584j,\n",
       "       1.14021816e+02+0.00688371j, 1.15003954e+02-0.01274481j,\n",
       "       1.15980548e+02+0.0506868j , 1.16974079e+02+0.00848536j,\n",
       "       1.18061425e+02-0.0023628j , 1.19030569e+02-0.004503j  ,\n",
       "       1.20016983e+02+0.03365108j, 1.21001277e+02+0.0525915j ,\n",
       "       1.22021208e+02+0.00911745j, 1.23010761e+02-0.04219379j,\n",
       "       1.24015077e+02-0.00944456j, 1.24981575e+02-0.04737031j,\n",
       "       1.25996417e+02-0.03291353j, 1.27027216e+02+0.01672913j,\n",
       "       1.28009882e+02+0.02479375j, 1.28938081e+02+0.03594187j,\n",
       "       1.29970201e+02+0.00744302j, 1.31004964e+02+0.00534052j,\n",
       "       1.32032348e+02-0.02472059j, 1.32979031e+02-0.01112778j,\n",
       "       1.33984484e+02-0.03446676j, 1.34999577e+02+0.00850129j,\n",
       "       1.35993086e+02-0.00960866j, 1.36982443e+02-0.00063161j,\n",
       "       1.38027481e+02-0.00771242j, 1.38990203e+02+0.01173127j,\n",
       "       1.39993391e+02+0.01427291j, 1.41028949e+02-0.02069776j,\n",
       "       1.42000879e+02-0.00468593j, 1.42987728e+02+0.06906347j,\n",
       "       1.44002585e+02+0.00817875j, 1.45003204e+02-0.00390633j,\n",
       "       1.46004767e+02-0.0568771j , 1.47007203e+02+0.02004496j,\n",
       "       1.48002136e+02-0.00030246j, 1.48978887e+02-0.01207216j,\n",
       "       1.49998314e+02-0.01669359j, 1.51017999e+02+0.00983319j,\n",
       "       1.52043857e+02-0.03132209j, 1.52983128e+02-0.05422629j,\n",
       "       1.53974363e+02+0.00034853j, 1.54974947e+02+0.01582549j,\n",
       "       1.56013812e+02+0.01509185j, 1.57024828e+02-0.0529149j ,\n",
       "       1.57985588e+02-0.0309947j , 1.59028243e+02+0.00632648j,\n",
       "       1.60033952e+02+0.01814704j, 1.61006443e+02-0.02657109j,\n",
       "       1.61958547e+02-0.03152534j, 1.62964397e+02-0.04256055j,\n",
       "       1.63954836e+02-0.04918294j, 1.65002082e+02-0.00096368j,\n",
       "       1.65984801e+02+0.01687003j, 1.66976684e+02+0.02101546j,\n",
       "       1.68053837e+02-0.01752892j, 1.68988963e+02+0.01306051j,\n",
       "       1.69989549e+02+0.03512444j, 1.71005329e+02+0.08923106j,\n",
       "       1.71978463e+02+0.03408416j, 1.72998722e+02-0.00203028j,\n",
       "       1.74004338e+02+0.00120618j, 1.75017211e+02-0.00800623j,\n",
       "       1.76015363e+02+0.00881503j, 1.77010893e+02-0.00870334j,\n",
       "       1.78038110e+02-0.00357699j, 1.78957026e+02-0.05903365j,\n",
       "       1.79987285e+02-0.03634577j, 1.80999104e+02-0.01339171j,\n",
       "       1.82010705e+02+0.00798587j, 1.82995887e+02-0.02845585j,\n",
       "       1.83997666e+02+0.00599874j, 1.85019784e+02-0.02058362j,\n",
       "       1.86028157e+02+0.00030025j, 1.87004616e+02+0.00666306j,\n",
       "       1.87917991e+02-0.00058204j, 1.89028423e+02+0.00834381j,\n",
       "       1.90000409e+02+0.01143923j, 1.91005611e+02+0.00080689j,\n",
       "       1.91996450e+02-0.03222497j, 1.92998482e+02-0.02576405j,\n",
       "       1.94040578e+02+0.07515684j, 1.95000710e+02-0.05444199j,\n",
       "       1.96000841e+02+0.00245342j, 1.96995939e+02+0.00098711j,\n",
       "       1.98035911e+02+0.01551394j, 1.98966732e+02-0.03432766j,\n",
       "       1.99963956e+02-0.01385587j, 2.00998496e+02+0.04252852j,\n",
       "       2.01973514e+02+0.00039056j, 2.03002821e+02-0.01771757j,\n",
       "       2.03992293e+02-0.02126343j, 2.05029745e+02-0.0039533j ,\n",
       "       2.05984349e+02-0.0202611j , 2.06991383e+02+0.01554085j,\n",
       "       2.07987516e+02+0.02013323j, 2.08999759e+02-0.00291925j,\n",
       "       2.09994830e+02-0.00471683j, 2.11005754e+02+0.00541274j,\n",
       "       2.11991991e+02+0.04337425j, 2.13074670e+02+0.03139863j,\n",
       "       2.14009198e+02+0.00317838j, 2.14994391e+02-0.02529231j,\n",
       "       2.16033301e+02+0.00204764j, 2.17012344e+02+0.00754757j,\n",
       "       2.18006996e+02+0.04130234j, 2.19010883e+02-0.0188843j ,\n",
       "       2.19945619e+02-0.0692462j , 2.20973964e+02+0.00733048j,\n",
       "       2.21968782e+02+0.01060686j, 2.22977162e+02+0.02986628j,\n",
       "       2.23992459e+02+0.0150594j , 2.25016663e+02-0.02363787j,\n",
       "       2.25989891e+02-0.04162807j, 2.26988027e+02+0.01403926j,\n",
       "       2.27984433e+02-0.00861405j, 2.28961581e+02-0.00090986j,\n",
       "       2.30001200e+02-0.01586269j, 2.31035935e+02-0.03679633j,\n",
       "       2.32011637e+02-0.00241108j, 2.33017876e+02-0.00040481j,\n",
       "       2.34020168e+02+0.06386983j, 2.35004489e+02-0.00322156j,\n",
       "       2.36002587e+02+0.03339805j, 2.37010327e+02+0.01125434j,\n",
       "       2.38069735e+02+0.04774296j, 2.39010580e+02-0.00421541j,\n",
       "       2.40012411e+02-0.00501069j, 2.41012623e+02-0.00945489j,\n",
       "       2.41971242e+02+0.0359978j , 2.43019020e+02-0.05443657j,\n",
       "       2.44005082e+02-0.02336674j, 2.44963443e+02-0.00874424j,\n",
       "       2.46027791e+02-0.0322444j , 2.46946625e+02+0.02679385j,\n",
       "       2.47936643e+02+0.08362663j, 2.48978486e+02+0.03897065j,\n",
       "       2.49989894e+02+0.0163376j , 2.51002109e+02-0.0297926j ,\n",
       "       2.52000044e+02-0.00253038j, 2.53021391e+02+0.02268211j,\n",
       "       2.53967683e+02-0.05962976j, 2.54931910e+02-0.00567169j])"
      ]
     },
     "execution_count": 99,
     "metadata": {},
     "output_type": "execute_result"
    }
   ],
   "source": [
    "ctx = encryptor.encrypt(ptx)\n",
    "ptx = decryptor.decrypt(ctx)\n",
    "encoder.decode(ptx)"
   ]
  },
  {
   "cell_type": "code",
   "execution_count": 100,
   "metadata": {
    "ExecuteTime": {
     "end_time": "2020-05-26T11:55:36.775282Z",
     "start_time": "2020-05-26T11:55:35.185664Z"
    }
   },
   "outputs": [
    {
     "data": {
      "text/plain": [
       "array([3.90485014e-02+0.04614029j, 1.97504532e+00+0.03913179j,\n",
       "       3.91943814e+00-0.03109683j, 5.99833008e+00-0.06194153j,\n",
       "       8.01445923e+00-0.02515915j, 9.95595138e+00-0.02022136j,\n",
       "       1.20306660e+01+0.11240117j, 1.40012190e+01-0.03911633j,\n",
       "       1.60479655e+01-0.01410167j, 1.80821272e+01+0.02387888j,\n",
       "       1.99731752e+01+0.03453397j, 2.20187572e+01+0.04050935j,\n",
       "       2.40345448e+01-0.03209894j, 2.60097268e+01-0.0103178j ,\n",
       "       2.80186418e+01+0.05466287j, 2.99939448e+01+0.01018333j,\n",
       "       3.20150839e+01-0.05950045j, 3.41254849e+01+0.06065706j,\n",
       "       3.59485198e+01+0.0540866j , 3.79835759e+01-0.0244113j ,\n",
       "       4.00073820e+01-0.09583825j, 4.20112928e+01-0.07041578j,\n",
       "       4.40009934e+01-0.0390694j , 4.59934091e+01+0.02763503j,\n",
       "       4.80369246e+01-0.08516069j, 5.00399895e+01-0.02264158j,\n",
       "       5.19058397e+01+0.13272046j, 5.40017107e+01+0.00460908j,\n",
       "       5.59909511e+01+0.096451j  , 5.81068491e+01+0.05172796j,\n",
       "       6.00157834e+01-0.05422233j, 6.20458799e+01+0.02151952j,\n",
       "       6.41127207e+01-0.15853505j, 6.59809690e+01+0.04547607j,\n",
       "       6.80768681e+01+0.01277472j, 6.99883962e+01+0.04265048j,\n",
       "       7.20047240e+01+0.03835147j, 7.39728970e+01+0.10790622j,\n",
       "       7.60183272e+01+0.08777764j, 7.79595056e+01-0.0790062j ,\n",
       "       8.00499497e+01-0.01817247j, 8.20489311e+01-0.03815331j,\n",
       "       8.39485918e+01+0.01349681j, 8.60563374e+01+0.00572979j,\n",
       "       8.80838295e+01-0.0112197j , 9.00080036e+01-0.0054059j ,\n",
       "       9.19372135e+01+0.02405937j, 9.39230063e+01-0.06885959j,\n",
       "       9.59701785e+01+0.03734411j, 9.79990821e+01+0.02729212j,\n",
       "       9.99947982e+01+0.00904855j, 1.01991816e+02-0.04690844j,\n",
       "       1.03933663e+02-0.13871391j, 1.05932143e+02-0.12887153j,\n",
       "       1.07969847e+02+0.04779576j, 1.09969936e+02+0.07471104j,\n",
       "       1.12071369e+02+0.08676936j, 1.13999130e+02+0.01070344j,\n",
       "       1.15987651e+02+0.06878008j, 1.18077087e+02-0.0789029j ,\n",
       "       1.20031997e+02-0.11029463j, 1.21898127e+02-0.07282503j,\n",
       "       1.24016990e+02+0.00079504j, 1.25962025e+02+0.09589311j,\n",
       "       1.27953803e+02-0.06813662j, 1.29992867e+02-0.01385583j,\n",
       "       1.31993568e+02-0.06309848j, 1.34013828e+02-0.02456639j,\n",
       "       1.35993096e+02-0.0043646j , 1.38009518e+02+0.00698447j,\n",
       "       1.40074565e+02+0.09844513j, 1.42029722e+02-0.01224537j,\n",
       "       1.43953940e+02+0.0020164j , 1.45915192e+02+0.09760151j,\n",
       "       1.48053662e+02+0.03224306j, 1.50013724e+02+0.01233807j,\n",
       "       1.52050731e+02-0.05490878j, 1.54051667e+02-0.0119488j ,\n",
       "       1.56057088e+02+0.03141048j, 1.58048174e+02+0.05545722j,\n",
       "       1.60031807e+02-0.06250195j, 1.61943141e+02-0.06743912j,\n",
       "       1.64090996e+02+0.01091721j, 1.66022446e+02-0.00169734j,\n",
       "       1.67993740e+02+0.09152161j, 1.70157794e+02-0.00438462j,\n",
       "       1.71985877e+02+0.0628109j , 1.74188520e+02-0.19104174j,\n",
       "       1.75965888e+02-0.02715449j, 1.77961528e+02-0.01677741j,\n",
       "       1.80001705e+02-0.01388857j, 1.82005728e+02-0.01134148j,\n",
       "       1.83997671e+02+0.05698497j, 1.86012129e+02-0.07130583j,\n",
       "       1.88047297e+02+0.02373359j, 1.90069496e+02-0.00738936j,\n",
       "       1.92068783e+02-0.05939708j, 1.94000275e+02-0.00833384j,\n",
       "       1.95987963e+02-0.023239j  , 1.97958352e+02+0.01742024j,\n",
       "       2.00060285e+02+0.01356496j, 2.02036552e+02+0.00173955j,\n",
       "       2.04054978e+02+0.01874358j, 2.06011233e+02-0.08258281j,\n",
       "       2.08029991e+02-0.02361184j, 2.10031731e+02-0.03233686j,\n",
       "       2.12038413e+02+0.01542326j, 2.13937783e+02-0.00323598j,\n",
       "       2.16047888e+02-0.07008032j, 2.18019326e+02+0.02510675j,\n",
       "       2.19957522e+02-0.01373316j, 2.22047831e+02-0.01518734j,\n",
       "       2.24030757e+02-0.06141083j, 2.26052049e+02+0.06713168j,\n",
       "       2.28043632e+02+0.01376742j, 2.30007909e+02-0.02548962j,\n",
       "       2.31961095e+02+0.10137359j, 2.33948158e+02+0.01697073j,\n",
       "       2.36122850e+02-0.00472561j, 2.38061138e+02-0.009006j  ,\n",
       "       2.40033967e+02+0.06730217j, 2.42002554e+02+0.10518299j,\n",
       "       2.44042416e+02+0.0182349j , 2.46021523e+02-0.08438758j,\n",
       "       2.48030154e+02-0.01888912j, 2.49963150e+02-0.09474063j,\n",
       "       2.51992834e+02-0.06582706j, 2.54054432e+02+0.03345826j,\n",
       "       2.56019764e+02+0.04958751j, 2.57876162e+02+0.07188374j,\n",
       "       2.59940401e+02+0.01488604j, 2.62009928e+02+0.01068104j,\n",
       "       2.64064696e+02-0.04944119j, 2.65958062e+02-0.02225556j,\n",
       "       2.67968967e+02-0.06893351j, 2.69999155e+02+0.01700257j,\n",
       "       2.71986173e+02-0.01921733j, 2.73964885e+02-0.00126322j,\n",
       "       2.76054962e+02-0.01542484j, 2.77980406e+02+0.02346253j,\n",
       "       2.79986781e+02+0.02854582j, 2.82057898e+02-0.04139551j,\n",
       "       2.84001759e+02-0.00937186j, 2.85975456e+02+0.13812693j,\n",
       "       2.88005171e+02+0.01635749j, 2.90006408e+02-0.00781266j,\n",
       "       2.92009535e+02-0.1137542j , 2.94014406e+02+0.04008993j,\n",
       "       2.96004272e+02-0.00060492j, 2.97957774e+02-0.02414432j,\n",
       "       2.99996629e+02-0.03338717j, 3.02035997e+02+0.01966639j,\n",
       "       3.04087714e+02-0.06264419j, 3.05966255e+02-0.10845258j,\n",
       "       3.07948726e+02+0.00069706j, 3.09949895e+02+0.03165097j,\n",
       "       3.12027625e+02+0.0301837j , 3.14049656e+02-0.1058298j ,\n",
       "       3.15971176e+02-0.06198941j, 3.18056485e+02+0.01265296j,\n",
       "       3.20067904e+02+0.03629407j, 3.22012886e+02-0.05314218j,\n",
       "       3.23917095e+02-0.06305068j, 3.25928794e+02-0.0851211j ,\n",
       "       3.27909673e+02-0.09836589j, 3.30004163e+02-0.00192735j,\n",
       "       3.31969603e+02+0.03374007j, 3.33953368e+02+0.04203091j,\n",
       "       3.36107674e+02-0.03505783j, 3.37977926e+02+0.02612103j,\n",
       "       3.39979099e+02+0.07024888j, 3.42010657e+02+0.17846212j,\n",
       "       3.43956926e+02+0.06816831j, 3.45997444e+02-0.00406056j,\n",
       "       3.48008676e+02+0.00241236j, 3.50034422e+02-0.01601246j,\n",
       "       3.52030727e+02+0.01763006j, 3.54021786e+02-0.01740668j,\n",
       "       3.56076220e+02-0.00715397j, 3.57914052e+02-0.11806731j,\n",
       "       3.59974571e+02-0.07269153j, 3.61998207e+02-0.02678341j,\n",
       "       3.64021411e+02+0.01597175j, 3.65991774e+02-0.05691171j,\n",
       "       3.67995332e+02+0.01199749j, 3.70039568e+02-0.04116724j,\n",
       "       3.72056315e+02+0.00060051j, 3.74009233e+02+0.01332613j,\n",
       "       3.75835981e+02-0.00116409j, 3.78056847e+02+0.01668762j,\n",
       "       3.80000818e+02+0.02287847j, 3.82011221e+02+0.00161379j,\n",
       "       3.83992899e+02-0.06444994j, 3.85996964e+02-0.0515281j ,\n",
       "       3.88081156e+02+0.15031367j, 3.90001420e+02-0.10888399j,\n",
       "       3.92001683e+02+0.00490684j, 3.93991879e+02+0.00197423j,\n",
       "       3.96071823e+02+0.03102787j, 3.97933465e+02-0.06865531j,\n",
       "       3.99927912e+02-0.02771174j, 4.01996992e+02+0.08505704j,\n",
       "       4.03947029e+02+0.00078112j, 4.06005642e+02-0.03543514j,\n",
       "       4.07984587e+02-0.04252686j, 4.10059489e+02-0.00790659j,\n",
       "       4.11968698e+02-0.04052219j, 4.13982765e+02+0.03108169j,\n",
       "       4.15975033e+02+0.04026647j, 4.17999519e+02-0.00583851j,\n",
       "       4.19989661e+02-0.00943366j, 4.22011507e+02+0.01082548j,\n",
       "       4.23983982e+02+0.08674849j, 4.26149341e+02+0.06279727j,\n",
       "       4.28018397e+02+0.00635676j, 4.29988781e+02-0.05058462j,\n",
       "       4.32066601e+02+0.00409528j, 4.34024688e+02+0.01509513j,\n",
       "       4.36013992e+02+0.08260467j, 4.38021765e+02-0.03776861j,\n",
       "       4.39891238e+02-0.1384924j , 4.41947929e+02+0.01466096j,\n",
       "       4.43937564e+02+0.02121373j, 4.45954324e+02+0.05973257j,\n",
       "       4.47984917e+02+0.0301188j , 4.50033327e+02-0.04727575j,\n",
       "       4.51979782e+02-0.08325614j, 4.53976054e+02+0.02807852j,\n",
       "       4.55968866e+02-0.0172281j , 4.57923162e+02-0.00181972j,\n",
       "       4.60002399e+02-0.03172538j, 4.62071870e+02-0.07359266j,\n",
       "       4.64023273e+02-0.00482216j, 4.66035751e+02-0.00080963j,\n",
       "       4.68040335e+02+0.12773965j, 4.70008977e+02-0.00644313j,\n",
       "       4.72005175e+02+0.0667961j , 4.74020655e+02+0.02250869j,\n",
       "       4.76139470e+02+0.09548591j, 4.78021159e+02-0.00843081j,\n",
       "       4.80024822e+02-0.01002139j, 4.82025245e+02-0.01890978j,\n",
       "       4.83942484e+02+0.0719956j , 4.86038040e+02-0.10887314j,\n",
       "       4.88010165e+02-0.04673348j, 4.89926885e+02-0.01748848j,\n",
       "       4.92055582e+02-0.06448879j, 4.93893249e+02+0.05358769j,\n",
       "       4.95873286e+02+0.16725326j, 4.97956971e+02+0.0779413j ,\n",
       "       4.99979787e+02+0.03267519j, 5.02004218e+02-0.05958519j,\n",
       "       5.04000089e+02-0.00506075j, 5.06042783e+02+0.04536422j,\n",
       "       5.07935367e+02-0.11925952j, 5.09863820e+02-0.01134337j])"
      ]
     },
     "execution_count": 100,
     "metadata": {},
     "output_type": "execute_result"
    }
   ],
   "source": [
    "ct_add = (ctx[0] + ctx[0], ctx[1] + ctx[1])\n",
    "ptx = decryptor.decrypt(ct_add)\n",
    "encoder.decode(ptx)"
   ]
  },
  {
   "cell_type": "code",
   "execution_count": 101,
   "metadata": {
    "ExecuteTime": {
     "end_time": "2020-05-26T11:55:36.834566Z",
     "start_time": "2020-05-26T11:55:36.828002Z"
    }
   },
   "outputs": [],
   "source": [
    "a = np.ones(encoder.slot_count)\n",
    "b = np.ones(encoder.slot_count) * 5"
   ]
  },
  {
   "cell_type": "code",
   "execution_count": 102,
   "metadata": {
    "ExecuteTime": {
     "end_time": "2020-05-26T11:55:39.280539Z",
     "start_time": "2020-05-26T11:55:38.372459Z"
    }
   },
   "outputs": [],
   "source": [
    "ptx1 = encoder.encode(a)\n",
    "ptx2 = encoder.encode(b)"
   ]
  },
  {
   "cell_type": "code",
   "execution_count": 103,
   "metadata": {
    "ExecuteTime": {
     "end_time": "2020-05-26T11:55:39.450845Z",
     "start_time": "2020-05-26T11:55:39.285315Z"
    }
   },
   "outputs": [],
   "source": [
    "ctx1 = encryptor.encrypt(ptx1)\n",
    "ctx2 = encryptor.encrypt(ptx2)"
   ]
  },
  {
   "cell_type": "code",
   "execution_count": 104,
   "metadata": {
    "ExecuteTime": {
     "end_time": "2020-05-26T11:55:42.027946Z",
     "start_time": "2020-05-26T11:55:41.997242Z"
    }
   },
   "outputs": [],
   "source": [
    "ct_mul = (ctx1[0] * ctx2[0], ctx1[1] * ctx2[0] + ctx1[0] * ctx2[1], ctx1[1] * ctx2[1])"
   ]
  },
  {
   "cell_type": "code",
   "execution_count": 105,
   "metadata": {
    "ExecuteTime": {
     "end_time": "2020-05-26T11:55:42.253877Z",
     "start_time": "2020-05-26T11:55:42.230566Z"
    }
   },
   "outputs": [],
   "source": [
    "d = (ct_mul[2] * relin_key[0] / context.special_prime, ct_mul[2] * relin_key[1] / context.special_prime)"
   ]
  },
  {
   "cell_type": "code",
   "execution_count": 106,
   "metadata": {
    "ExecuteTime": {
     "end_time": "2020-05-26T11:55:42.502923Z",
     "start_time": "2020-05-26T11:55:42.421179Z"
    }
   },
   "outputs": [],
   "source": [
    "d = (context.QPolynomial(coordinate_wise_random_rounding(d[0].coef)), \n",
    "     context.QPolynomial(coordinate_wise_random_rounding(d[1].coef)))"
   ]
  },
  {
   "cell_type": "code",
   "execution_count": 107,
   "metadata": {
    "ExecuteTime": {
     "end_time": "2020-05-26T11:55:42.602830Z",
     "start_time": "2020-05-26T11:55:42.596396Z"
    }
   },
   "outputs": [],
   "source": [
    "ct_relin = (ct_mul[0] + d[0], ct_mul[1] + d[1])"
   ]
  },
  {
   "cell_type": "code",
   "execution_count": 108,
   "metadata": {
    "ExecuteTime": {
     "end_time": "2020-05-26T11:55:44.060339Z",
     "start_time": "2020-05-26T11:55:43.722431Z"
    }
   },
   "outputs": [
    {
     "data": {
      "text/plain": [
       "array([ 3.67942309e+12+1.44222254e+13j,  1.72190318e+12-6.71147807e+12j,\n",
       "       -9.63824524e+12+3.09514183e+12j, -1.53583301e+13+2.48433341e+12j,\n",
       "       -5.84136476e+12-9.41468967e+12j,  5.79015404e+12+7.93774668e+12j,\n",
       "        4.15217958e+12-7.77578484e+12j,  1.22094194e+12+6.65815750e+12j,\n",
       "        5.03807402e+12+5.44352568e+12j,  4.33078783e+12-8.32285611e+12j,\n",
       "       -5.09398186e+12-1.81276414e+13j,  1.31595816e+13-1.33159869e+13j,\n",
       "        6.44714033e+12+8.43099497e+12j,  3.85575296e+12+1.81740218e+11j,\n",
       "       -9.73212589e+12+1.48712206e+13j, -1.02839119e+13+4.17555812e+12j,\n",
       "        2.29673298e+12-5.58790190e+12j,  1.31368059e+13-1.05096267e+13j,\n",
       "        4.44610683e+12-5.54353324e+12j,  2.69656638e+12+9.04671654e+12j,\n",
       "        3.15566930e+12-1.48968755e+13j,  6.30210709e+12+8.88434453e+12j,\n",
       "       -6.03966568e+12-1.39449105e+13j,  2.32434458e+13-3.37212146e+12j,\n",
       "        1.49180933e+13+2.02971954e+12j,  2.47705488e+13+8.93393803e+12j,\n",
       "       -2.67876684e+12-1.84447872e+13j, -2.31294214e+12-3.53377103e+12j,\n",
       "       -9.81499497e+11+1.71248671e+12j, -4.68407638e+12+3.35150850e+13j,\n",
       "        6.98399627e+12+1.20072787e+12j, -6.80302901e+12-1.15515024e+13j,\n",
       "       -1.26770877e+13+3.71967485e+12j, -5.75848830e+12-5.37509813e+12j,\n",
       "       -7.77652580e+12+1.61520073e+11j,  3.51467341e+11+1.53012176e+13j,\n",
       "       -8.51242911e+12-1.22250836e+13j, -3.67568087e+12-2.05666953e+13j,\n",
       "       -1.99369823e+13-1.57937562e+13j,  1.21059830e+13-1.22997174e+13j,\n",
       "        2.00581618e+12+1.21075527e+13j,  1.14272332e+12-3.97543161e+13j,\n",
       "        8.38969092e+12-4.33995816e+12j, -2.79111825e+12-1.69973101e+13j,\n",
       "        8.68786043e+12+1.19788813e+13j, -1.15687818e+13-3.04666696e+12j,\n",
       "       -1.32049700e+13-3.32860389e+12j, -2.74701960e+12+1.10086131e+13j,\n",
       "        6.12564180e+12-1.06927529e+13j, -7.12721732e+12-6.89522288e+12j,\n",
       "        1.14031231e+13+1.06611993e+13j, -3.03822597e+13+7.22036188e+11j,\n",
       "        8.27912422e+12-8.89454278e+12j, -1.95295451e+12+6.13431744e+12j,\n",
       "        6.40164254e+12-8.69421252e+12j,  3.97044344e+12-6.07006745e+11j,\n",
       "        1.20127476e+13-1.62546174e+12j,  2.77219317e+12-3.58425806e+12j,\n",
       "        7.85255299e+12-5.73683799e+12j, -2.06251065e+13+1.52218522e+13j,\n",
       "       -1.07679608e+13+7.19356772e+12j,  6.65471873e+12+1.76829064e+12j,\n",
       "        1.43324190e+13-2.71320190e+13j, -1.70735217e+12-1.32694213e+13j,\n",
       "       -1.00734393e+13-1.84814644e+12j, -1.70529224e+13+1.34015992e+13j,\n",
       "        5.02036397e+12+5.03243410e+12j,  9.75721078e+12-1.98256222e+13j,\n",
       "        5.35072233e+11-3.28434797e+12j, -1.59938964e+13-1.12617716e+13j,\n",
       "       -1.04254502e+13-3.83295660e+12j,  7.85473723e+12+8.31054309e+12j,\n",
       "       -1.24167915e+13-7.48845415e+12j, -1.03806048e+12-1.10561245e+13j,\n",
       "       -5.96768971e+11-2.44607666e+13j, -6.48182066e+11+1.06279575e+12j,\n",
       "       -3.59087663e+12+1.14101053e+13j, -4.48825125e+12+7.54882264e+12j,\n",
       "       -5.05039139e+12-1.04832617e+13j,  5.54183473e+11+2.86744016e+11j,\n",
       "       -3.36357104e+12+7.80856409e+12j,  1.52395399e+13-5.75073669e+12j,\n",
       "        3.29267102e+12+3.15389740e+12j, -4.81992904e+12-1.90679803e+11j,\n",
       "       -7.08342270e+12+3.96967673e+11j,  6.27270961e+12+2.93360211e+12j,\n",
       "       -4.47345464e+12+3.83782541e+11j, -6.28343700e+12+1.27830938e+13j,\n",
       "       -4.20403640e+12+1.03561373e+11j,  2.24441175e+13+1.69831712e+13j,\n",
       "       -2.59251368e+11+3.96143394e+11j,  2.18738755e+13+5.26519718e+12j,\n",
       "       -6.29805339e+12-1.36120059e+12j, -1.41985209e+12+1.01450584e+13j,\n",
       "        6.95950395e+12+1.76005879e+13j, -1.74684385e+13-4.90198948e+12j,\n",
       "        2.38290562e+12+3.23313230e+11j, -3.03369706e+11-1.08639550e+13j,\n",
       "        1.85477331e+13-1.62859589e+13j, -1.32520874e+13-7.66689742e+12j,\n",
       "        3.23467672e+12-7.55338421e+12j, -2.25459669e+12-2.04748840e+13j,\n",
       "        1.70752675e+13-3.65756897e+12j, -6.67298236e+12+1.43543528e+13j,\n",
       "        1.11101274e+13-2.32992173e+12j, -1.61465390e+12-3.27209698e+12j,\n",
       "       -5.41983243e+12+1.30432310e+13j, -8.10499827e+12+1.29750713e+13j,\n",
       "        1.82579520e+12-6.30992419e+12j, -2.15102852e+13-1.52348400e+13j,\n",
       "       -1.06622706e+13+3.00887485e+12j, -2.79091010e+12-9.84732450e+12j,\n",
       "       -4.18001078e+12-1.92418538e+11j, -5.39885089e+12+8.10436315e+12j,\n",
       "        1.47709239e+13-5.30658459e+12j, -7.40948935e+12-5.47821159e+12j,\n",
       "       -8.10976891e+11+3.17672764e+12j,  1.34387392e+12+5.77101748e+12j,\n",
       "       -8.99617894e+12-3.03305358e+12j, -7.79324115e+12-5.52800051e+12j,\n",
       "       -1.37380693e+13+1.22599273e+12j, -1.82045037e+13-5.90791406e+12j,\n",
       "       -2.28246187e+12+2.57415632e+12j, -1.04085250e+13+9.80184490e+12j,\n",
       "       -1.04486541e+13+2.40210162e+11j,  6.12145834e+12+1.65406746e+13j,\n",
       "       -3.23332586e+12+6.66811631e+12j, -2.27712728e+12-3.86481128e+11j,\n",
       "       -7.34402787e+12+6.70896216e+12j, -7.21171332e+12-1.36120665e+13j,\n",
       "       -2.80353619e+12-1.28001743e+13j,  1.96115972e+12-5.55582969e+12j,\n",
       "        1.16244488e+13-3.86663539e+12j,  8.82453005e+12-9.91193770e+11j,\n",
       "        1.89352271e+13-6.35061410e+11j, -3.22373119e+12+9.83796733e+12j,\n",
       "       -5.13060934e+12-1.09234545e+13j,  5.26511738e+12+1.72873326e+13j,\n",
       "       -8.99999271e+12-9.69654094e+12j,  5.69015983e+11+6.10862554e+12j,\n",
       "        2.93156916e+12-1.06516023e+13j,  1.79398461e+13-1.29950412e+13j,\n",
       "       -1.11257811e+13-5.13218661e+12j,  4.50787909e+11-1.50747123e+13j,\n",
       "       -8.68680408e+12-8.77480572e+12j, -4.68186744e+12-2.38118877e+12j,\n",
       "       -1.57933581e+11-1.11293836e+13j, -5.09911224e+12-1.01051750e+13j,\n",
       "        4.83182429e+10-4.83570822e+12j, -2.01275119e+12+4.40189435e+12j,\n",
       "        2.52413737e+13+3.02152068e+12j,  8.17738571e+12+8.13990656e+12j,\n",
       "       -5.00799161e+12+7.06277569e+12j, -1.03972370e+13-2.35481397e+12j,\n",
       "        1.28761741e+12-2.33500796e+13j, -8.00291310e+12+4.39496446e+12j,\n",
       "        1.30854422e+13-2.85072408e+11j, -2.36213891e+13-9.20111660e+12j,\n",
       "        7.59868535e+11+2.93939703e+12j,  6.21947267e+12-6.09097480e+12j,\n",
       "       -2.71884888e+13-1.95740146e+13j,  8.30778883e+12-1.09334143e+12j,\n",
       "        2.08899285e+12+1.60074758e+13j, -9.12260611e+12-1.97038223e+12j,\n",
       "        5.06778641e+12-2.74151559e+12j,  2.00435712e+13+1.27025612e+13j,\n",
       "        1.13488955e+13-1.68083348e+12j,  8.07646933e+12+4.60551204e+12j,\n",
       "        1.62374678e+13+2.81139836e+12j, -7.03755518e+12+4.27111353e+12j,\n",
       "        9.39003615e+12+9.78615739e+12j,  1.17825064e+12+1.11206037e+13j,\n",
       "        3.04662744e+12+6.87807833e+12j,  6.86532644e+12+7.06777499e+12j,\n",
       "       -6.72785993e+12+7.33256183e+12j,  4.63349427e+12+1.84360140e+12j,\n",
       "       -7.19198866e+12+7.19480141e+11j, -7.11263956e+11+6.27252358e+12j,\n",
       "        6.71891701e+12+3.20935571e+12j,  5.63203806e+12-5.88361484e+12j,\n",
       "       -1.35392109e+13+6.84910381e+12j,  8.37257550e+12+7.29304605e+12j,\n",
       "        8.06440063e+11-9.21473850e+12j, -7.27780786e+11-2.30928911e+13j,\n",
       "        3.93058854e+12-2.09669003e+13j, -1.47846792e+12-3.25234925e+12j,\n",
       "       -7.36849026e+12-7.69719485e+12j,  4.64914368e+12-6.80190652e+11j,\n",
       "        8.04112997e+12-9.67788215e+12j, -5.89146958e+10+1.18936540e+13j,\n",
       "       -3.69575066e+12+8.89556880e+12j, -5.44446842e+12+4.20234413e+10j,\n",
       "       -5.32708495e+12+1.04898272e+12j,  6.38279922e+12+3.09473828e+11j,\n",
       "       -8.92737054e+11+3.07553303e+12j,  6.49767891e+12+1.67771084e+13j,\n",
       "        1.30386112e+13-1.24740201e+13j, -8.74667133e+12-9.77110032e+12j,\n",
       "       -1.11212906e+13-1.07092372e+13j,  5.81362212e+11-2.99191700e+12j,\n",
       "       -4.60525798e+12+1.09260709e+13j,  2.75561582e+12-7.73817642e+12j,\n",
       "       -2.22345909e+12+7.91298474e+12j, -1.64767007e+13-3.80476635e+11j,\n",
       "        5.99742596e+11+4.27143519e+12j, -2.38184794e+12-4.76676808e+11j,\n",
       "        1.31331513e+13+8.21811730e+12j, -3.31172653e+12-8.44686246e+12j,\n",
       "        1.98164186e+13-1.58546679e+12j,  2.24239185e+13-3.56841912e+12j,\n",
       "       -1.50602356e+12+6.33385156e+12j,  1.93951525e+12+2.65887458e+13j,\n",
       "        7.11203880e+12-4.28022054e+12j, -9.75837877e+11+4.07962867e+12j,\n",
       "        1.30981716e+12-1.05545895e+13j,  2.14847629e+13+9.90455712e+12j,\n",
       "       -6.78329160e+12+8.83744341e+11j, -6.14552669e+12+4.83976696e+12j,\n",
       "        2.30679430e+12+2.57358736e+12j,  1.36185990e+13+1.41218962e+13j,\n",
       "        1.67739946e+13-8.12204599e+12j,  1.39480170e+13+9.11106885e+11j,\n",
       "        5.74816341e+12-1.66700236e+13j,  1.29791817e+12+2.25193146e+13j,\n",
       "        8.98011896e+12+1.62131304e+13j, -3.47282750e+12-7.23445540e+12j,\n",
       "        1.42448449e+12-1.12952785e+13j,  3.98845078e+12-1.21718561e+13j,\n",
       "        5.32401744e+12+2.61742296e+12j, -1.24263644e+13+4.94254362e+12j,\n",
       "        1.74445782e+13+5.13450177e+12j,  1.67586652e+12-4.12782102e+11j,\n",
       "       -5.77710193e+12+7.78921534e+12j,  9.80034050e+10+6.36296442e+12j,\n",
       "        5.56187949e+12-6.26569847e+12j,  4.63926530e+10-1.32584220e+13j,\n",
       "       -1.23005431e+12-1.96346604e+13j,  3.51766945e+12+5.34008392e+12j,\n",
       "        4.18285747e+12-5.74486636e+12j, -1.42551877e+12-6.79640965e+12j,\n",
       "       -9.12456468e+12+1.31280090e+13j, -3.38759776e+12-4.14409564e+12j,\n",
       "       -1.11191038e+13-1.18515796e+12j,  9.02799385e+12-3.31151492e+12j,\n",
       "        3.78006304e+12+1.71367426e+13j,  4.32079220e+12-4.41149979e+12j,\n",
       "       -6.71699794e+12+2.63071690e+13j, -1.13518616e+13+1.69343219e+12j,\n",
       "        4.53725705e+12+5.79612212e+12j, -3.11966016e+12-1.21196000e+13j,\n",
       "       -1.80743934e+13+6.93364133e+12j, -2.58751585e+12-3.07186381e+12j,\n",
       "       -4.07812788e+12-5.57249192e+12j,  3.39177407e+13+2.68789688e+13j,\n",
       "       -1.76000893e+12+1.64817056e+13j,  9.38917792e+12-9.23926113e+12j])"
      ]
     },
     "execution_count": 108,
     "metadata": {},
     "output_type": "execute_result"
    }
   ],
   "source": [
    "ptx = decryptor.decrypt(ct_relin)\n",
    "encoder.decode(ptx) / scale"
   ]
  },
  {
   "cell_type": "code",
   "execution_count": 109,
   "metadata": {
    "ExecuteTime": {
     "end_time": "2020-05-26T11:56:02.719265Z",
     "start_time": "2020-05-26T11:56:02.685081Z"
    }
   },
   "outputs": [],
   "source": [
    "pt_mul = ct_mul[0] + ct_mul[1] * s + ct_mul[2] * s * s"
   ]
  },
  {
   "cell_type": "code",
   "execution_count": 110,
   "metadata": {
    "ExecuteTime": {
     "end_time": "2020-05-26T11:56:04.405644Z",
     "start_time": "2020-05-26T11:56:02.904110Z"
    }
   },
   "outputs": [
    {
     "data": {
      "text/plain": [
       "array([ 5.54214881e+02-2.89972637e+02j,  6.81777741e+02+7.48734060e+02j,\n",
       "        5.26697036e+02-3.75245932e+01j, -1.52396108e+02-7.01592983e+01j,\n",
       "       -6.70670510e+02-2.20930285e+02j, -3.29489140e+01+2.92085089e+02j,\n",
       "       -2.26052514e+00-5.07715403e+02j,  2.27298545e+01+1.94358918e+02j,\n",
       "       -1.52586823e+02+1.39701539e+02j, -3.41207426e+02+1.15570690e+02j,\n",
       "       -3.32481562e+01+7.05404080e+02j,  2.82900981e+02+5.29701631e+02j,\n",
       "        3.19832364e+02+3.56942833e+01j, -3.09452562e+02-3.09068446e+01j,\n",
       "       -1.71144758e+02+1.18537633e+03j,  3.83627614e+02+7.35277388e+01j,\n",
       "        2.22443710e+02+1.05744502e+02j,  2.56457586e+02+3.61654476e+02j,\n",
       "        2.46540987e+02+8.32959592e+02j,  4.20249338e+02-7.40552205e+01j,\n",
       "        1.87535618e+02-3.02408535e+02j, -9.30404983e+02-9.07204549e+01j,\n",
       "        2.26995044e+02+2.43341447e+02j, -2.06210182e+02-3.22705225e+00j,\n",
       "        1.80085368e+00+3.78391011e+02j,  6.35774765e+01-6.19547179e+02j,\n",
       "       -4.34222117e+02-1.88768667e+03j, -1.71133170e+03+4.08474317e+02j,\n",
       "       -9.03830111e+01+2.89668993e+02j, -2.68571984e+02-6.94273457e+01j,\n",
       "       -1.09461807e+02+9.34861340e+00j,  8.91699193e+02+7.89544714e+02j,\n",
       "       -2.55847360e+02-1.37334200e+02j,  2.20254696e+02-6.72779259e+02j,\n",
       "        8.78654105e+01-1.07348141e+02j,  3.57921280e+02+1.28739740e+02j,\n",
       "        5.53772223e+00+9.42174945e+01j, -2.92836450e+02-2.01120874e+02j,\n",
       "        2.76392581e+02+3.15967936e+02j, -8.16079482e+01-1.59595933e+02j,\n",
       "       -1.29718395e+02+5.87959032e+02j,  1.46912044e+02+2.12735722e+02j,\n",
       "       -1.48621094e+00-5.25553099e+02j, -6.26201564e+01-7.34434258e+01j,\n",
       "        3.10493853e+02+2.94334400e+02j,  3.30288406e+02-1.30147745e+02j,\n",
       "        2.04106453e+02+9.52209141e+02j,  3.49565164e+02+5.89200806e+02j,\n",
       "        6.02334939e+01-1.91130822e+02j,  2.09051228e+02+7.64728663e+02j,\n",
       "        8.94110141e+01-2.41104382e+02j, -5.57247563e+02+1.16509291e+03j,\n",
       "        8.09268825e+01-1.03409886e+02j,  2.36655617e+02-1.72988896e+02j,\n",
       "       -3.75126384e+02-3.10177105e+02j,  1.67785112e+02+1.45534687e+02j,\n",
       "       -5.70742476e+02-5.94884620e+02j, -8.44112034e+00-1.66690734e+02j,\n",
       "       -7.62448942e+02+4.32671366e+01j,  9.21605192e+02+2.70738490e+02j,\n",
       "        1.07553871e+02-1.01801900e+02j,  5.53350483e+01-6.41551069e+00j,\n",
       "       -8.12140292e+02+3.44926655e+02j, -1.15702931e+02-1.71504802e+02j,\n",
       "        2.65603222e+01-2.37749662e+02j,  1.72204067e+02-1.04246177e+02j,\n",
       "       -2.43109958e+02+1.16683858e+02j,  3.31342461e+02+9.44038686e+02j,\n",
       "        8.56388341e+01+1.57279798e+02j,  1.42544046e+02-4.49052366e+02j,\n",
       "        5.91109179e+02-1.55725742e+00j, -4.63241447e+02+1.22509913e+02j,\n",
       "       -3.75812759e+02+7.88129630e+01j, -5.22204048e+02+1.25779422e+02j,\n",
       "       -9.75737449e+01+1.00038215e+02j,  6.26426493e+01-1.89653141e+01j,\n",
       "       -1.81055804e+02-2.06541443e+01j,  1.29298790e+02+1.05462087e+02j,\n",
       "        9.80802732e+01+5.09150395e+02j, -4.92337367e+02+3.20550758e+02j,\n",
       "       -3.93156350e+01+4.11030260e+02j,  4.05571825e+02-2.45674240e+02j,\n",
       "        1.30817345e+02-3.18573070e+02j,  1.13728036e+02+5.08340426e+00j,\n",
       "        3.76752126e+02+7.79019993e+02j,  3.77731651e+02-2.79348833e+02j,\n",
       "        6.05786162e+02+3.90506628e+02j,  1.87511671e+02+6.96855283e+01j,\n",
       "        2.79054903e+02-9.35931470e+01j,  3.87561834e+02-2.69848008e+01j,\n",
       "       -1.02214973e+02+4.09408482e+02j, -3.33618908e+02-2.42903694e+02j,\n",
       "        2.65189514e+01-4.16820354e+02j, -4.14590664e+02-4.24263375e+02j,\n",
       "        4.30654982e+02+3.11427313e+02j,  5.70819549e+02+8.13356803e+02j,\n",
       "       -3.64272230e+02-5.30592981e+02j, -3.30748586e+02+1.58222739e+02j,\n",
       "       -2.69012821e+02+2.63756435e+02j, -3.18757665e+02-4.25226655e+01j,\n",
       "       -9.93376217e+01+2.51557653e+02j,  4.86693796e+02-2.48465454e+02j,\n",
       "       -3.31988573e+02-6.27081797e+02j, -4.45929363e+02-4.98340555e+02j,\n",
       "       -2.54507833e+02+2.38392122e+02j,  4.64549016e+02-1.07275617e+02j,\n",
       "       -5.77859540e+02+6.82927839e+01j, -1.93545307e+02-2.81484579e+02j,\n",
       "       -7.07379379e+02+4.54975609e+02j,  1.98522976e+02-9.09154031e+02j,\n",
       "        4.25652347e+01+1.29190472e+02j,  2.59732961e+02+1.85820478e+02j,\n",
       "       -6.44987908e+02-8.83049869e+00j, -2.45018578e+02+2.56735946e+02j,\n",
       "       -5.30104185e+02-3.72816448e+02j, -1.55700331e+02+1.15496732e+01j,\n",
       "       -3.46943827e+01+1.77206823e+01j, -2.96949796e+02+1.88602099e+02j,\n",
       "        3.78895680e+02-1.23619832e+02j,  2.82965725e+02+2.09330990e+01j,\n",
       "        5.24926570e+01-3.24764832e+02j,  3.63516798e+02-4.28637459e+02j,\n",
       "       -3.42393159e+01-1.16816120e+02j, -1.90689874e+02-2.21057609e+02j,\n",
       "        3.01486624e+02-3.65973660e+02j,  2.67248908e+02+2.11465040e+02j,\n",
       "       -4.60510033e+02-1.04512407e+01j, -6.41260092e+02-3.55582662e+02j,\n",
       "       -6.89368420e+00+1.15662327e+02j,  5.18595346e+02+2.67213268e+02j,\n",
       "        1.38944112e+02+2.83794168e+02j, -6.69852947e+01-1.60646862e+02j,\n",
       "        1.78720247e+02-3.60807204e+01j, -3.10681530e+02-7.75090454e+00j,\n",
       "       -4.62163926e+02+3.09925235e+01j, -4.60116752e+02+2.78118497e+02j,\n",
       "        5.05959742e+01-1.05772626e+03j, -4.90203520e+02-3.56312104e+02j,\n",
       "       -3.22761492e+01-3.10003781e+01j,  2.39122994e+01+4.18331164e+02j,\n",
       "        2.04606368e+02-3.88291909e+02j,  1.66961588e+02+3.72670574e+02j,\n",
       "       -8.92715292e+01-2.49891159e+02j, -4.29470622e+02-1.34378452e+02j,\n",
       "       -4.10068741e+02+3.65204434e+02j,  3.08286693e+01+6.79115886e+01j,\n",
       "       -1.46315596e+02+3.93945366e+02j, -7.69225722e+02-8.09366537e+01j,\n",
       "       -4.97495167e+02+3.66073396e+01j, -1.43093727e+02+2.03123753e+01j,\n",
       "        3.98207495e+02+9.81904684e+01j,  1.70281498e+02+2.59765937e+02j,\n",
       "       -2.41633813e+02+4.45558337e+01j, -9.76709066e+01-2.06883129e+02j,\n",
       "        6.78045490e+02+3.18345856e+02j, -5.76154725e+01-4.12946329e+02j,\n",
       "       -5.26277022e+02-2.63050982e+02j,  4.30159475e+01-1.53390258e+02j,\n",
       "       -5.53860274e+02+1.33730819e+02j,  4.90972519e+02-7.13289997e+01j,\n",
       "        1.60064124e+02-5.38310545e+02j,  1.45715849e+02+2.15802064e+01j,\n",
       "       -9.37795630e+02+2.72705034e+02j,  4.16748420e+02-2.22835023e+02j,\n",
       "       -4.17060238e+01+4.53114032e+02j, -6.49915553e+02-3.87083139e+02j,\n",
       "        5.05220662e+02+3.63978905e+02j, -2.01104916e+02+2.63171875e+02j,\n",
       "       -7.61340155e+02+6.85188929e+01j,  7.42333123e+02+1.96580838e+02j,\n",
       "       -1.32246768e+02-4.56806762e+02j, -1.44914403e+02+2.94686086e+02j,\n",
       "       -6.81803717e+01-1.83753566e+02j,  2.49177837e+02+4.37347074e+01j,\n",
       "        6.87454334e+01-6.59772110e+01j,  1.11218644e+02-9.52063026e+01j,\n",
       "        2.45803912e+02-3.71742711e+02j,  5.67335850e+02-2.86265003e+02j,\n",
       "        1.24963917e+02+3.19969025e+00j, -1.27128853e+02-5.15726324e+02j,\n",
       "       -2.94742628e+02-3.51594418e+02j,  3.47039079e+02+2.91706110e+02j,\n",
       "       -5.62675307e+02+3.76745246e+02j, -2.51246163e+02-1.92605054e+02j,\n",
       "        5.81860747e+02-2.93603760e+00j,  1.37048360e+02+6.18856648e+02j,\n",
       "        3.85461525e+02-4.68192656e+02j,  8.56087403e+01-4.07767620e+02j,\n",
       "       -2.98006587e+02+4.27925984e+02j,  9.28497110e+02+1.21611196e+02j,\n",
       "        2.21648112e+02+1.60706184e+01j, -2.30038012e+01-3.08219384e+02j,\n",
       "       -7.20170556e+02-3.18390587e+02j,  3.68608225e+01+6.37898298e+02j,\n",
       "        1.40463338e+02+2.67679409e+02j,  6.79914730e+01-6.85588950e+01j,\n",
       "        2.66620352e+02+1.13974562e+01j, -1.98717709e+02+1.00743577e+03j,\n",
       "        1.95929104e+01-3.44861027e+02j,  2.49122877e+02+6.91541551e+01j,\n",
       "       -6.54744902e+01+3.91028738e+02j, -1.13958296e+02+2.74805261e+02j,\n",
       "        3.90195898e+01-4.53228544e+02j,  8.68619872e+01+1.98428938e+02j,\n",
       "        2.05589422e+02-4.50412947e+02j, -2.45489895e+02+4.54169104e+02j,\n",
       "        1.87947279e+02-9.67480727e+01j, -1.96896648e+02-2.57364607e+02j,\n",
       "        9.62507880e+01-1.57731981e+02j,  1.34078295e+02+5.29338162e+02j,\n",
       "        3.01014897e+02+7.57402861e+00j, -9.68821634e+01+3.37709014e+02j,\n",
       "        4.36701641e+01+4.84089003e+02j,  7.67832640e+01+1.46512285e+02j,\n",
       "       -2.25192397e+02+4.29166923e+01j,  9.59660413e+02+2.91243163e+02j,\n",
       "        3.07813472e+02+2.38315783e+02j,  2.41575632e+02+7.67481724e+02j,\n",
       "        9.86188924e+02+1.23379593e+02j,  2.04840723e+02+1.90167984e+02j,\n",
       "       -2.54673013e+02+1.33519182e+02j, -1.04153974e+02-4.81616899e+02j,\n",
       "       -3.37974091e+02+1.09016247e+02j,  8.01840137e+02-1.40537431e+01j,\n",
       "       -2.28047006e+02+3.42777816e+02j, -1.18193872e+02+6.90174827e+01j,\n",
       "       -6.25403399e+01-1.78707828e+02j, -4.30877410e+02-2.89080914e+02j,\n",
       "       -4.82174651e+02-1.16406268e+03j,  1.97646817e+02-4.46009693e+02j,\n",
       "       -4.42445680e+02-6.34957564e+01j, -1.71412585e+02-1.68099091e+02j,\n",
       "        8.44394738e+01+2.34347974e+02j, -3.94388951e+02-5.78539206e+01j,\n",
       "        3.52133444e+02+9.68004894e+02j,  5.10992427e+02-2.28076857e+02j,\n",
       "        5.05962108e+02+1.57014143e+03j,  3.69043104e+02-5.26639251e+02j,\n",
       "       -1.39236647e+02-1.78871114e+02j,  4.38645831e+01+4.15931406e+02j,\n",
       "        3.67116511e+02-7.35793740e+02j, -5.20919734e+02-5.89971706e+02j,\n",
       "       -7.65475600e+02+2.97085040e+02j, -5.73463468e+02+5.71504466e+02j,\n",
       "        1.11368450e+03-4.37693052e+01j,  1.89996801e+02+1.64141518e+00j,\n",
       "        7.82658950e+01-3.48783894e+02j, -1.06683566e+02+4.42770895e+01j,\n",
       "       -2.65292421e+02+3.58567898e+02j,  1.03837956e+02-3.95984858e+02j,\n",
       "        2.58552637e+02+1.23346771e+02j,  4.92071848e+02+2.16808602e+02j,\n",
       "       -2.05106514e+02+2.88559768e+02j, -1.70244537e+03-1.19340759e+03j,\n",
       "        1.24488395e+02+1.36372800e+02j,  7.07012533e+02+2.95769664e+02j])"
      ]
     },
     "execution_count": 110,
     "metadata": {},
     "output_type": "execute_result"
    }
   ],
   "source": [
    "encoder.decode(pt_mul) / scale"
   ]
  },
  {
   "cell_type": "code",
   "execution_count": null,
   "metadata": {},
   "outputs": [],
   "source": []
  }
 ],
 "metadata": {
  "kernelspec": {
   "display_name": "Python 3",
   "language": "python",
   "name": "python3"
  },
  "language_info": {
   "codemirror_mode": {
    "name": "ipython",
    "version": 3
   },
   "file_extension": ".py",
   "mimetype": "text/x-python",
   "name": "python",
   "nbconvert_exporter": "python",
   "pygments_lexer": "ipython3",
   "version": "3.8.2"
  },
  "toc": {
   "base_numbering": 1,
   "nav_menu": {},
   "number_sections": true,
   "sideBar": true,
   "skip_h1_title": false,
   "title_cell": "Table of Contents",
   "title_sidebar": "Contents",
   "toc_cell": false,
   "toc_position": {},
   "toc_section_display": true,
   "toc_window_display": false
  }
 },
 "nbformat": 4,
 "nbformat_minor": 4
}
