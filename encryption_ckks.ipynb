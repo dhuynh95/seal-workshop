{
 "cells": [
  {
   "cell_type": "markdown",
   "metadata": {},
   "source": [
    "# Encryption in CKKS"
   ]
  },
  {
   "cell_type": "code",
   "execution_count": 134,
   "metadata": {
    "ExecuteTime": {
     "end_time": "2020-05-25T07:13:30.382782Z",
     "start_time": "2020-05-25T07:13:30.342651Z"
    }
   },
   "outputs": [],
   "source": [
    "from numpy.polynomial import Polynomial\n",
    "import numpy as np\n",
    "\n",
    "def round_coordinates(coordinates):\n",
    "    \"\"\"Gives the integral rest.\"\"\"\n",
    "    coordinates = coordinates - np.floor(coordinates)\n",
    "    return coordinates\n",
    "\n",
    "def coordinate_wise_random_rounding(coordinates):\n",
    "    \"\"\"Rounds coordinates randonmly.\"\"\"\n",
    "    r = round_coordinates(coordinates)\n",
    "    f = np.array([np.random.choice([c, c-1], 1, p=[1-c, c]) for c in r]).reshape(-1)\n",
    "    \n",
    "    rounded_coordinates = coordinates - f\n",
    "    rounded_coordinates = [int(coeff) for coeff in rounded_coordinates]\n",
    "    return rounded_coordinates\n",
    "\n",
    "class CKKSEncoder:\n",
    "    \"\"\"Basic CKKS encoder to encode complex vectors into polynomials.\"\"\"\n",
    "    \n",
    "    def __init__(self, context, scale:float):\n",
    "        \"\"\"Initializes with scale.\"\"\"\n",
    "        \n",
    "        M = context.M\n",
    "        self.context = context\n",
    "        self.xi = np.exp(2 * np.pi * 1j / M)\n",
    "        self.M = M\n",
    "        self.create_sigma_R_basis()\n",
    "        self.scale = scale\n",
    "        \n",
    "    @staticmethod\n",
    "    def vandermonde(xi: np.complex128, M: int) -> np.array:\n",
    "        \"\"\"Computes the Vandermonde matrix from a m-th root of unity.\"\"\"\n",
    "        \n",
    "        N = M //2\n",
    "        matrix = []\n",
    "        # We will generate each row of the matrix\n",
    "        for i in range(N):\n",
    "            # For each row we select a different root\n",
    "            root = xi ** (2 * i + 1)\n",
    "            row = []\n",
    "\n",
    "            # Then we store its powers\n",
    "            for j in range(N):\n",
    "                row.append(root ** j)\n",
    "            matrix.append(row)\n",
    "        return matrix\n",
    "    \n",
    "    def sigma_inverse(self, b: np.array) -> Polynomial:\n",
    "        \"\"\"Encodes the vector b in a polynomial using an M-th root of unity.\"\"\"\n",
    "\n",
    "        # First we create the Vandermonde matrix\n",
    "        A = CKKSEncoder.vandermonde(self.xi, M)\n",
    "\n",
    "        # Then we solve the system\n",
    "        coeffs = np.linalg.solve(A, b)\n",
    "\n",
    "        # Finally we output the polynomial\n",
    "        p = Polynomial(coeffs)\n",
    "        return p\n",
    "\n",
    "    def sigma(self, p: Polynomial) -> np.array:\n",
    "        \"\"\"Decodes a polynomial by applying it to the M-th roots of unity.\"\"\"\n",
    "\n",
    "        outputs = []\n",
    "        N = self.M //2\n",
    "\n",
    "        # We simply apply the polynomial on the roots\n",
    "        for i in range(N):\n",
    "            root = self.xi ** (2 * i + 1)\n",
    "            output = p(root)\n",
    "            outputs.append(output)\n",
    "        return np.array(outputs)\n",
    "    \n",
    "\n",
    "    def pi(self, z: np.array) -> np.array:\n",
    "        \"\"\"Projects a vector of H into C^{N/2}.\"\"\"\n",
    "\n",
    "        N = self.M // 4\n",
    "        return z[:N]\n",
    "\n",
    "\n",
    "    def pi_inverse(self, z: np.array) -> np.array:\n",
    "        \"\"\"Expands a vector of C^{N/2} by expanding it with its\n",
    "        complex conjugate.\"\"\"\n",
    "\n",
    "        z_conjugate = z[::-1]\n",
    "        z_conjugate = [np.conjugate(x) for x in z_conjugate]\n",
    "        return np.concatenate([z, z_conjugate])\n",
    "    \n",
    "    def create_sigma_R_basis(self):\n",
    "        \"\"\"Creates the basis (sigma(1), sigma(X), ..., sigma(X** N-1)).\"\"\"\n",
    "\n",
    "        self.sigma_R_basis = np.array(self.vandermonde(self.xi, self.M)).T\n",
    "    \n",
    "\n",
    "    def compute_basis_coordinates(self, z):\n",
    "        \"\"\"Computes the coordinates of a vector with respect to the orthogonal lattice basis.\"\"\"\n",
    "        output = np.array([np.real(np.vdot(z, b) / np.vdot(b,b)) for b in self.sigma_R_basis])\n",
    "        return output\n",
    "\n",
    "    def sigma_R_discretization(self, z):\n",
    "        \"\"\"Projects a vector on the lattice using coordinate wise random rounding.\"\"\"\n",
    "        coordinates = self.compute_basis_coordinates(z)\n",
    "\n",
    "        rounded_coordinates = coordinate_wise_random_rounding(coordinates)\n",
    "        y = np.matmul(self.sigma_R_basis.T, rounded_coordinates)\n",
    "        return y\n",
    "\n",
    "\n",
    "    def encode(self, z: np.array) -> Polynomial:\n",
    "        \"\"\"Encodes a vector by expanding it first to H,\n",
    "        scale it, project it on the lattice of sigma(R), and performs\n",
    "        sigma inverse.\n",
    "        \"\"\"\n",
    "        pi_z = self.pi_inverse(z)\n",
    "        scaled_pi_z = self.scale * pi_z\n",
    "        rounded_scale_pi_zi = self.sigma_R_discretization(scaled_pi_z)\n",
    "        p = self.sigma_inverse(rounded_scale_pi_zi)\n",
    "\n",
    "        # We round it afterwards due to numerical imprecision\n",
    "        coef = np.round(np.real(p.coef)).astype(int)\n",
    "        p = self.context.QPolynomial(coef)\n",
    "        \n",
    "        return p\n",
    "\n",
    "\n",
    "    def decode(self, p: Polynomial) -> np.array:\n",
    "        \"\"\"Decodes a polynomial by removing the scale, \n",
    "        evaluating on the roots, and project it on C^(N/2)\"\"\"\n",
    "        rescaled_p = p / self.scale\n",
    "        z = self.sigma(rescaled_p)\n",
    "        pi_z = self.pi(z)\n",
    "        return pi_z"
   ]
  },
  {
   "cell_type": "code",
   "execution_count": 135,
   "metadata": {
    "ExecuteTime": {
     "end_time": "2020-05-25T07:13:30.516992Z",
     "start_time": "2020-05-25T07:13:30.510626Z"
    }
   },
   "outputs": [],
   "source": [
    "from numpy.polynomial import polynomial as poly\n",
    "from numpy.polynomial import Polynomial\n",
    "\n",
    "def mod_q(coeffs, q):\n",
    "    r = coeffs % q\n",
    "    to_cycle = r > (q/2)\n",
    "    r[to_cycle] = r[to_cycle] - q\n",
    "    return r\n",
    "\n",
    "def mod_q_polynomial(p, q):\n",
    "    coeffs = p.coef\n",
    "    coeffs_mod_q = mod_q(coeffs, q)\n",
    "    p = Polynomial(coeffs_mod_q)\n",
    "    return p"
   ]
  },
  {
   "cell_type": "code",
   "execution_count": 136,
   "metadata": {
    "ExecuteTime": {
     "end_time": "2020-05-25T07:13:30.660055Z",
     "start_time": "2020-05-25T07:13:30.653451Z"
    }
   },
   "outputs": [],
   "source": [
    "class PolynomialSampler:\n",
    "    def __init__(self, context):\n",
    "        self.context = context\n",
    "        \n",
    "    def __getattr__(self,k):\n",
    "        return getattr(self.context, k)\n",
    "        \n",
    "    def polynomial(self, coeffs):\n",
    "        p = self.context.QPolynomial(coeffs)\n",
    "        return p"
   ]
  },
  {
   "cell_type": "code",
   "execution_count": 137,
   "metadata": {
    "ExecuteTime": {
     "end_time": "2020-05-25T07:13:30.801753Z",
     "start_time": "2020-05-25T07:13:30.794724Z"
    }
   },
   "outputs": [],
   "source": [
    "class UniformPolynomial(PolynomialSampler):\n",
    "    def sample(self) -> QPolynomial:\n",
    "            \n",
    "        coeffs = np.random.choice(self.q, size=self.N)\n",
    "        coeffs = mod_q(coeffs, self.q)\n",
    "        \n",
    "        p = self.polynomial(coeffs)\n",
    "        return p"
   ]
  },
  {
   "cell_type": "code",
   "execution_count": 138,
   "metadata": {
    "ExecuteTime": {
     "end_time": "2020-05-25T07:13:30.928729Z",
     "start_time": "2020-05-25T07:13:30.921148Z"
    }
   },
   "outputs": [],
   "source": [
    "class ZO(PolynomialSampler):\n",
    "    def sample(self):\n",
    "        coeffs = np.random.choice([0,1,-1], size=self.N, p=[1-self.p, self.p /2, self.p/2])\n",
    "        \n",
    "        p = self.polynomial(coeffs)\n",
    "        return p"
   ]
  },
  {
   "cell_type": "code",
   "execution_count": 139,
   "metadata": {
    "ExecuteTime": {
     "end_time": "2020-05-25T07:13:31.051229Z",
     "start_time": "2020-05-25T07:13:31.043219Z"
    }
   },
   "outputs": [],
   "source": [
    "class HWT(PolynomialSampler):\n",
    "    def sample(self):\n",
    "        coeffs = np.random.choice([-1,1], size=self.N)\n",
    "        \n",
    "        slots = np.random.choice(range(self.N), self.N - self.h, replace=False)\n",
    "        \n",
    "        coeffs[slots] = 0\n",
    "            \n",
    "        p = self.polynomial(coeffs)\n",
    "        return p"
   ]
  },
  {
   "cell_type": "code",
   "execution_count": 140,
   "metadata": {
    "ExecuteTime": {
     "end_time": "2020-05-25T07:13:31.182565Z",
     "start_time": "2020-05-25T07:13:31.175874Z"
    }
   },
   "outputs": [],
   "source": [
    "class DG(PolynomialSampler):\n",
    "    def sample(self):\n",
    "        coeffs = np.random.normal(np.zeros(self.N), self.sigma)\n",
    "        \n",
    "        coeffs = np.array(coordinate_wise_random_rounding(coeffs))\n",
    "        coeffs = mod_q(coeffs, self.q)\n",
    "        \n",
    "        p = self.polynomial(coeffs)\n",
    "        return p"
   ]
  },
  {
   "cell_type": "code",
   "execution_count": 141,
   "metadata": {
    "ExecuteTime": {
     "end_time": "2020-05-25T07:13:31.306174Z",
     "start_time": "2020-05-25T07:13:31.297314Z"
    }
   },
   "outputs": [],
   "source": [
    "class Context:\n",
    "    def __init__(self, N, q):\n",
    "        self.N = N\n",
    "        self.M = N * 2\n",
    "        self.q = q\n",
    "        \n",
    "        self.QPolynomial = QPolynomialGenerator(N, q)\n",
    "        \n",
    "        self.setup_parameters()\n",
    "        \n",
    "        self.hwt = HWT(self)\n",
    "        self.dg = DG(self)\n",
    "        self.uniform = UniformPolynomial(self)\n",
    "        self.zo = ZO(self)\n",
    "        \n",
    "    def setup_parameters(self):\n",
    "        self.h = 64\n",
    "        self.sigma = 3\n",
    "        self.p = 0.5"
   ]
  },
  {
   "cell_type": "code",
   "execution_count": 194,
   "metadata": {
    "ExecuteTime": {
     "end_time": "2020-05-25T07:20:48.597626Z",
     "start_time": "2020-05-25T07:20:48.558535Z"
    }
   },
   "outputs": [],
   "source": [
    "from numpy.polynomial import polynomial as poly\n",
    "from numpy.polynomial import Polynomial\n",
    "from __future__ import annotations\n",
    "        \n",
    "class QPolynomialGenerator:\n",
    "    \n",
    "    def __init__(self, N, q):\n",
    "        self.q = q\n",
    "        \n",
    "        coeffs = np.zeros(N + 1)\n",
    "        coeffs[0] = 1\n",
    "        coeffs[-1] = 1\n",
    "        \n",
    "        self.poly_modulus = Polynomial(coeffs)\n",
    "    \n",
    "    def __call__(self, coef):\n",
    "        return QPolynomialGenerator.QPolynomial(coef, self.q, self.poly_modulus, self)\n",
    "    \n",
    "    class QPolynomial:\n",
    "        def __init__(self, coef, q, poly_modulus, generator):\n",
    "            self.p = Polynomial(coef)\n",
    "            self.q = q\n",
    "            self.poly_modulus = poly_modulus\n",
    "            self.generator = generator\n",
    "\n",
    "        def __getattr__(self,k):\n",
    "            if k in self.__dict__.keys():\n",
    "                return getattr(self, k)\n",
    "            else:\n",
    "                try:\n",
    "                    return getattr(self.p, k)\n",
    "                except AttributeError as e:\n",
    "                    print(e)\n",
    "\n",
    "        def __mul__(self, qpoly: QPolynomial) -> QPolynomial:\n",
    "            p_mul = self.p * qpoly.p % self.poly_modulus\n",
    "            p_mul = self.generator(p_mul.coef)\n",
    "            return p_mul\n",
    "\n",
    "        def __rmul__(self, qpoly: QPolynomial) -> QPolynomial:\n",
    "            return self.__mul__(p)\n",
    "\n",
    "        def __add__(self, qpoly: QPolynomial) -> QPolynomial:\n",
    "            p_add = (self.p + qpoly.p) % self.poly_modulus\n",
    "            p_add = self.generator(p_add.coef)\n",
    "            return p_add\n",
    "\n",
    "        def __radd__(self, qpoly: QPolynomial) -> QPolynomial:\n",
    "            return self.__add__(qpoly)\n",
    "\n",
    "        def __sub__(self, qpoly: QPolynomial) -> QPolynomial:\n",
    "            p_sub = (self.p - qpoly.p) % self.poly_modulus\n",
    "            p_sub = self.generator(p_sub.coef)\n",
    "            return p_sub\n",
    "\n",
    "        def __rsub__(self, qpoly: QPolynomial) -> QPolynomial:\n",
    "            p_sub = (qpoly.p - self.p) % self.poly_modulus\n",
    "            p_sub = self.generator(p_sub.coef)\n",
    "            return p_sub\n",
    "        \n",
    "        def __neg__(self):\n",
    "            p_neg = - self.p %self.poly_modulus\n",
    "            p_neg = self.generator(p_neg.coef)\n",
    "            return p_neg\n",
    "        \n",
    "        def __pos__(self):\n",
    "            p_pos = self.p %self.poly_modulus\n",
    "            p_pos = self.generator(p_pos.coef)\n",
    "            return p_pos\n",
    "        \n",
    "        def __truediv__ (self, scale):\n",
    "            p_div = self.p / scale\n",
    "            p_div = self.generator(p_div.coef)\n",
    "            return p_div\n",
    "        \n",
    "        def __call__(self, x):\n",
    "            return self.p(x)\n",
    "        \n",
    "        def __repr__(self):\n",
    "            return self.p.__repr__()"
   ]
  },
  {
   "cell_type": "code",
   "execution_count": 195,
   "metadata": {
    "ExecuteTime": {
     "end_time": "2020-05-25T07:20:48.719177Z",
     "start_time": "2020-05-25T07:20:48.710495Z"
    }
   },
   "outputs": [],
   "source": [
    "QPolynomial = QPolynomialGenerator(N, q)"
   ]
  },
  {
   "cell_type": "code",
   "execution_count": 196,
   "metadata": {
    "ExecuteTime": {
     "end_time": "2020-05-25T07:20:48.854841Z",
     "start_time": "2020-05-25T07:20:48.849384Z"
    }
   },
   "outputs": [],
   "source": [
    "coef = np.random.choice([0,1], N)\n",
    "poly = QPolynomial(coef)"
   ]
  },
  {
   "cell_type": "code",
   "execution_count": 197,
   "metadata": {
    "ExecuteTime": {
     "end_time": "2020-05-25T07:20:48.994266Z",
     "start_time": "2020-05-25T07:20:48.977659Z"
    }
   },
   "outputs": [],
   "source": [
    "a = poly * poly "
   ]
  },
  {
   "cell_type": "code",
   "execution_count": 198,
   "metadata": {
    "ExecuteTime": {
     "end_time": "2020-05-25T07:20:49.123160Z",
     "start_time": "2020-05-25T07:20:49.109068Z"
    }
   },
   "outputs": [],
   "source": [
    "a = poly.p * poly.p % poly.poly_modulus"
   ]
  },
  {
   "cell_type": "code",
   "execution_count": 199,
   "metadata": {
    "ExecuteTime": {
     "end_time": "2020-05-25T07:20:49.246734Z",
     "start_time": "2020-05-25T07:20:49.230987Z"
    }
   },
   "outputs": [],
   "source": [
    "b = poly * poly"
   ]
  },
  {
   "cell_type": "code",
   "execution_count": 200,
   "metadata": {
    "ExecuteTime": {
     "end_time": "2020-05-25T07:20:49.376995Z",
     "start_time": "2020-05-25T07:20:49.364120Z"
    }
   },
   "outputs": [],
   "source": [
    "class Keygen:\n",
    "    def __init__(self, context):\n",
    "        self.context = context\n",
    "        \n",
    "    def generate_secret_key(self):\n",
    "        s = self.context.hwt.sample()\n",
    "        return s\n",
    "    \n",
    "    def generate_public_key(self, s):\n",
    "        a = self.context.uniform.sample()\n",
    "        e = self.context.dg.sample()\n",
    "        \n",
    "        b = -(a * s) + e\n",
    "\n",
    "        pk = (b, a)\n",
    "        return pk"
   ]
  },
  {
   "cell_type": "code",
   "execution_count": 201,
   "metadata": {
    "ExecuteTime": {
     "end_time": "2020-05-25T07:20:49.506209Z",
     "start_time": "2020-05-25T07:20:49.498186Z"
    }
   },
   "outputs": [],
   "source": [
    "class Encryptor:\n",
    "    def __init__(self, context, pk):\n",
    "        self.pk = pk\n",
    "        self.context = context\n",
    "        \n",
    "    def encrypt(self, ptx):\n",
    "        v = self.context.zo.sample()\n",
    "        e0 = self.context.dg.sample()\n",
    "        e1 = self.context.dg.sample()\n",
    "\n",
    "        v_pk = (self.pk[0] * v, self.pk[1] * v)\n",
    "        ctx = (v_pk[0] + e0 + ptx, v_pk[1] + e1)\n",
    "        \n",
    "        return ctx"
   ]
  },
  {
   "cell_type": "code",
   "execution_count": 202,
   "metadata": {
    "ExecuteTime": {
     "end_time": "2020-05-25T07:20:49.626924Z",
     "start_time": "2020-05-25T07:20:49.620534Z"
    }
   },
   "outputs": [],
   "source": [
    "class Decryptor:\n",
    "    def __init__(self, context, s):\n",
    "        self.s = s\n",
    "        self.context = context\n",
    "        \n",
    "    def decrypt(self, ctx):\n",
    "        ptx = ctx[0] + self.s * ctx[1]\n",
    "        return ptx"
   ]
  },
  {
   "cell_type": "code",
   "execution_count": 203,
   "metadata": {
    "ExecuteTime": {
     "end_time": "2020-05-25T07:20:49.754683Z",
     "start_time": "2020-05-25T07:20:49.749470Z"
    }
   },
   "outputs": [],
   "source": [
    "N = 512\n",
    "M = N * 2\n",
    "scale = pow(2,30)\n",
    "q = scale"
   ]
  },
  {
   "cell_type": "code",
   "execution_count": 204,
   "metadata": {
    "ExecuteTime": {
     "end_time": "2020-05-25T07:20:49.885627Z",
     "start_time": "2020-05-25T07:20:49.879030Z"
    }
   },
   "outputs": [],
   "source": [
    "context = Context(N, q)\n",
    "keygen = Keygen(context)"
   ]
  },
  {
   "cell_type": "code",
   "execution_count": 205,
   "metadata": {
    "ExecuteTime": {
     "end_time": "2020-05-25T07:20:50.076802Z",
     "start_time": "2020-05-25T07:20:50.022757Z"
    }
   },
   "outputs": [],
   "source": [
    "s = keygen.generate_secret_key()\n",
    "pk = keygen.generate_public_key(s)"
   ]
  },
  {
   "cell_type": "code",
   "execution_count": 206,
   "metadata": {
    "ExecuteTime": {
     "end_time": "2020-05-25T07:20:51.604536Z",
     "start_time": "2020-05-25T07:20:51.190726Z"
    }
   },
   "outputs": [],
   "source": [
    "encoder = CKKSEncoder(context, scale)"
   ]
  },
  {
   "cell_type": "code",
   "execution_count": 207,
   "metadata": {
    "ExecuteTime": {
     "end_time": "2020-05-25T07:20:51.617578Z",
     "start_time": "2020-05-25T07:20:51.609058Z"
    }
   },
   "outputs": [],
   "source": [
    "encryptor = Encryptor(context, pk)\n",
    "decryptor = Decryptor(context, s)"
   ]
  },
  {
   "cell_type": "code",
   "execution_count": 208,
   "metadata": {
    "ExecuteTime": {
     "end_time": "2020-05-25T07:20:51.654872Z",
     "start_time": "2020-05-25T07:20:51.651602Z"
    }
   },
   "outputs": [],
   "source": [
    "z = np.arange(N//2)"
   ]
  },
  {
   "cell_type": "code",
   "execution_count": 209,
   "metadata": {
    "ExecuteTime": {
     "end_time": "2020-05-25T07:20:52.558998Z",
     "start_time": "2020-05-25T07:20:52.092282Z"
    }
   },
   "outputs": [],
   "source": [
    "ptx = encoder.encode(z)"
   ]
  },
  {
   "cell_type": "code",
   "execution_count": 210,
   "metadata": {
    "ExecuteTime": {
     "end_time": "2020-05-25T07:20:54.757460Z",
     "start_time": "2020-05-25T07:20:53.252484Z"
    }
   },
   "outputs": [
    {
     "data": {
      "text/plain": [
       "array([7.83721958e-08+9.91340920e-07j, 9.99999995e-01-4.14623626e-07j,\n",
       "       2.00000067e+00+2.59877656e-07j, 2.99999908e+00+3.38044073e-08j,\n",
       "       3.99999966e+00+2.05753176e-07j, 5.00000053e+00-1.97412830e-06j,\n",
       "       6.00000018e+00+9.03122290e-07j, 6.99999972e+00+6.18335296e-07j,\n",
       "       7.99999902e+00-5.87381844e-07j, 8.99999981e+00+1.01920412e-06j,\n",
       "       1.00000006e+01-2.30881372e-06j, 1.09999997e+01-4.90301609e-07j,\n",
       "       1.19999999e+01+1.50289765e-07j, 1.29999996e+01+5.49561641e-08j,\n",
       "       1.39999997e+01+3.58636509e-07j, 1.50000009e+01-7.69647404e-07j,\n",
       "       1.60000001e+01-1.94750083e-07j, 1.70000005e+01+7.20651062e-07j,\n",
       "       1.79999995e+01-2.16965994e-07j, 1.90000003e+01+1.06361366e-07j,\n",
       "       1.99999986e+01-1.87727782e-07j, 2.10000006e+01-2.25247717e-07j,\n",
       "       2.19999986e+01+2.37763889e-07j, 2.30000005e+01+5.71838196e-07j,\n",
       "       2.40000011e+01+1.23709750e-07j, 2.50000009e+01+7.71208832e-07j,\n",
       "       2.59999996e+01+2.78433102e-07j, 2.69999997e+01+3.89273939e-07j,\n",
       "       2.80000004e+01-2.06328039e-08j, 2.89999971e+01-1.05946962e-06j,\n",
       "       3.00000014e+01+6.82321918e-07j, 3.09999997e+01-2.65741420e-07j,\n",
       "       3.20000017e+01+3.17948569e-07j, 3.29999995e+01+2.88730675e-08j,\n",
       "       3.40000003e+01-1.54615996e-07j, 3.49999994e+01-2.33976203e-06j,\n",
       "       3.60000009e+01+1.27147727e-06j, 3.70000017e+01-4.86104049e-07j,\n",
       "       3.80000005e+01+6.23730408e-07j, 3.90000002e+01+2.73960588e-07j,\n",
       "       3.99999997e+01+1.28449643e-06j, 4.10000000e+01+2.36969514e-06j,\n",
       "       4.20000009e+01+5.72592434e-07j, 4.30000005e+01-1.01450679e-06j,\n",
       "       4.40000000e+01+7.66620694e-07j, 4.50000010e+01-4.29770644e-07j,\n",
       "       4.60000006e+01+3.99689085e-07j, 4.69999993e+01+2.63312820e-07j,\n",
       "       4.80000003e+01+1.41324030e-07j, 4.89999993e+01+5.10685773e-07j,\n",
       "       4.99999998e+01+1.86856468e-07j, 5.09999994e+01-4.76571458e-08j,\n",
       "       5.19999996e+01+4.84640694e-07j, 5.29999995e+01+1.00379441e-06j,\n",
       "       5.39999999e+01-3.06047674e-07j, 5.50000020e+01+5.29254720e-08j,\n",
       "       5.60000001e+01+4.10876069e-07j, 5.69999992e+01-1.16564595e-06j,\n",
       "       5.80000003e+01-3.55190828e-07j, 5.90000006e+01-3.42415603e-07j,\n",
       "       5.99999997e+01-1.34437997e-07j, 6.10000005e+01-4.71484107e-07j,\n",
       "       6.20000013e+01-3.02596341e-07j, 6.30000002e+01-7.64886785e-07j,\n",
       "       6.40000006e+01+2.67121617e-07j, 6.50000006e+01-8.87088092e-09j,\n",
       "       6.60000013e+01-4.40440022e-07j, 6.70000001e+01-4.87578134e-07j,\n",
       "       6.80000008e+01+1.23552248e-07j, 6.90000005e+01-1.70868102e-07j,\n",
       "       7.00000003e+01+5.42205854e-08j, 7.10000001e+01-7.92851974e-07j,\n",
       "       7.19999991e+01-3.63180291e-07j, 7.30000007e+01+2.61831708e-07j,\n",
       "       7.40000005e+01+4.88541719e-07j, 7.49999997e+01+4.65332914e-07j,\n",
       "       7.60000006e+01-5.44365697e-07j, 7.69999990e+01-1.06364649e-06j,\n",
       "       7.80000004e+01+4.08595398e-07j, 7.89999989e+01+9.22872637e-07j,\n",
       "       8.00000004e+01-4.52193049e-07j, 8.10000001e+01+6.73240194e-07j,\n",
       "       8.20000005e+01-4.85138258e-08j, 8.29999998e+01+2.56438664e-07j,\n",
       "       8.39999993e+01-2.88101734e-07j, 8.50000006e+01+5.43824608e-07j,\n",
       "       8.60000004e+01-2.77507453e-07j, 8.70000005e+01+2.09399226e-06j,\n",
       "       8.80000018e+01-1.21561226e-06j, 8.90000032e+01-6.96585595e-07j,\n",
       "       8.99999992e+01-9.14267369e-07j, 9.09999993e+01+5.92206122e-07j,\n",
       "       9.19999986e+01+2.91500530e-08j, 9.30000000e+01-4.37351106e-07j,\n",
       "       9.39999998e+01-2.75810311e-07j, 9.50000000e+01-1.69162867e-07j,\n",
       "       9.60000005e+01+1.36606518e-06j, 9.70000001e+01-5.29090062e-07j,\n",
       "       9.79999999e+01-2.51425572e-07j, 9.90000001e+01+8.34338838e-07j,\n",
       "       9.99999992e+01+9.40265824e-07j, 1.01000002e+02+2.10570212e-07j,\n",
       "       1.02000000e+02+3.16297708e-07j, 1.02999999e+02-8.35300891e-07j,\n",
       "       1.04000000e+02+3.14560546e-08j, 1.05000000e+02-7.58617025e-07j,\n",
       "       1.06000000e+02-5.74453560e-07j, 1.06999999e+02-5.62964066e-07j,\n",
       "       1.08000000e+02+1.39449369e-07j, 1.08999999e+02+8.67577903e-07j,\n",
       "       1.10000000e+02-8.87571804e-07j, 1.11000000e+02-9.54525263e-07j,\n",
       "       1.11999999e+02+1.10158588e-07j, 1.13000000e+02-2.03488119e-07j,\n",
       "       1.14000000e+02-4.59947284e-07j, 1.14999999e+02-5.70696719e-07j,\n",
       "       1.16000000e+02-3.67682577e-07j, 1.17000001e+02+2.53509302e-08j,\n",
       "       1.18000000e+02-6.62757048e-07j, 1.18999999e+02+3.50523028e-07j,\n",
       "       1.20000001e+02-2.05962949e-06j, 1.21000000e+02-7.01850675e-08j,\n",
       "       1.21999999e+02+4.32809131e-07j, 1.22999999e+02+7.29497951e-07j,\n",
       "       1.24000000e+02+1.49928902e-06j, 1.24999999e+02-4.97709522e-07j,\n",
       "       1.26000000e+02-7.98804995e-07j, 1.26999999e+02-6.20108717e-07j,\n",
       "       1.27999999e+02+4.87114973e-07j, 1.29000000e+02-4.06683281e-07j,\n",
       "       1.30000000e+02-1.62956596e-06j, 1.31000001e+02-1.09087919e-06j,\n",
       "       1.31999998e+02-1.97547618e-06j, 1.33000000e+02-5.33213811e-07j,\n",
       "       1.34000000e+02+3.83155275e-07j, 1.35000000e+02-1.00947799e-07j,\n",
       "       1.36000000e+02-2.09621005e-07j, 1.36999999e+02+2.35018502e-07j,\n",
       "       1.38000001e+02-7.30590344e-07j, 1.38999999e+02+1.58559980e-07j,\n",
       "       1.39999997e+02-1.18613829e-07j, 1.41000000e+02-1.16660558e-07j,\n",
       "       1.42000000e+02-2.77050347e-08j, 1.42999999e+02+2.78251973e-07j,\n",
       "       1.43999999e+02-7.84062447e-07j, 1.45000000e+02-1.91067038e-07j,\n",
       "       1.46000001e+02+1.14068104e-06j, 1.47000000e+02-1.74877177e-07j,\n",
       "       1.48000001e+02-4.52266132e-07j, 1.49000000e+02-7.19367447e-07j,\n",
       "       1.50000001e+02-1.76176314e-07j, 1.50999999e+02+9.76395765e-07j,\n",
       "       1.51999999e+02+5.13795988e-07j, 1.53000001e+02-1.62884081e-06j,\n",
       "       1.53999998e+02+6.01625592e-07j, 1.55000001e+02+2.31933139e-06j,\n",
       "       1.56000000e+02+3.98039926e-07j, 1.57000000e+02+7.40711474e-08j,\n",
       "       1.58000000e+02+1.25036710e-07j, 1.58999999e+02+9.82741302e-08j,\n",
       "       1.60000000e+02-2.95614223e-07j, 1.61000000e+02+1.45689685e-06j,\n",
       "       1.61999999e+02-9.43956024e-08j, 1.63000000e+02+1.23534383e-06j,\n",
       "       1.64000000e+02+1.36592165e-07j, 1.65000000e+02+4.83467890e-07j,\n",
       "       1.65999999e+02+3.97200605e-07j, 1.66999999e+02-3.25954044e-07j,\n",
       "       1.68000001e+02+4.03082350e-07j, 1.69000000e+02+3.09325927e-07j,\n",
       "       1.69999999e+02+9.99714764e-08j, 1.71000000e+02+1.52010080e-06j,\n",
       "       1.71999999e+02-1.15740623e-06j, 1.72999999e+02-7.28083041e-07j,\n",
       "       1.74000001e+02-5.08774896e-07j, 1.74999999e+02-3.51349527e-07j,\n",
       "       1.76000000e+02-5.11724103e-08j, 1.77000000e+02-6.00884057e-07j,\n",
       "       1.78000001e+02-2.43455094e-07j, 1.79000000e+02-4.71780115e-07j,\n",
       "       1.80000002e+02-1.52331839e-06j, 1.80999997e+02-1.93838730e-06j,\n",
       "       1.82000002e+02+2.21456848e-07j, 1.83000000e+02-4.32767241e-07j,\n",
       "       1.84000001e+02+7.68993367e-08j, 1.85000001e+02+1.09685914e-08j,\n",
       "       1.86000000e+02-7.90026387e-07j, 1.86999999e+02-1.90857723e-07j,\n",
       "       1.88000001e+02+3.18801490e-07j, 1.89000000e+02-1.38067062e-07j,\n",
       "       1.89999999e+02+1.36824453e-06j, 1.91000001e+02+1.18961161e-08j,\n",
       "       1.92000000e+02-1.09155813e-07j, 1.93000000e+02-5.16046583e-08j,\n",
       "       1.94000000e+02+6.14086147e-07j, 1.95000001e+02-1.25738124e-06j,\n",
       "       1.96000000e+02-6.10816073e-08j, 1.97000000e+02+3.25080578e-07j,\n",
       "       1.98000000e+02-5.70790817e-07j, 1.99000000e+02-8.27469009e-07j,\n",
       "       2.00000000e+02+2.57612832e-07j, 2.00999999e+02-2.90414256e-07j,\n",
       "       2.02000000e+02+1.32328097e-07j, 2.02999999e+02+1.29588435e-06j,\n",
       "       2.04000000e+02+9.18753763e-07j, 2.05000000e+02-2.82084486e-07j,\n",
       "       2.05999999e+02-2.93872065e-06j, 2.06999999e+02-4.53439853e-07j,\n",
       "       2.08000000e+02+8.05033238e-07j, 2.09000000e+02+4.58730270e-07j,\n",
       "       2.10000002e+02+7.61262420e-07j, 2.10999999e+02+4.57588129e-07j,\n",
       "       2.12000000e+02-2.65015387e-08j, 2.13000000e+02+9.25843821e-07j,\n",
       "       2.13999999e+02+8.12904794e-07j, 2.15000000e+02-4.76473190e-08j,\n",
       "       2.16000000e+02+1.34715400e-07j, 2.17000000e+02-1.19527018e-06j,\n",
       "       2.18000001e+02+7.38368882e-07j, 2.19000000e+02+1.72007773e-07j,\n",
       "       2.19999998e+02-9.00428184e-07j, 2.20999999e+02-6.02543004e-07j,\n",
       "       2.22000000e+02+2.34916243e-07j, 2.22999999e+02+1.28379824e-07j,\n",
       "       2.23999999e+02+3.89790117e-07j, 2.25000001e+02+5.40038819e-07j,\n",
       "       2.26000000e+02-2.49063739e-07j, 2.26999999e+02+3.68555625e-07j,\n",
       "       2.28000000e+02+4.28847404e-07j, 2.28999999e+02+7.19020569e-07j,\n",
       "       2.30000001e+02+8.20215281e-07j, 2.31000000e+02+3.98742433e-07j,\n",
       "       2.32000001e+02-1.34361973e-06j, 2.32999997e+02+8.15063448e-07j,\n",
       "       2.34000001e+02+3.12680481e-07j, 2.35000000e+02+4.57943905e-08j,\n",
       "       2.36000002e+02-7.70956309e-07j, 2.37000000e+02-1.66688523e-07j,\n",
       "       2.37999997e+02+2.09478581e-06j, 2.39000000e+02+1.65831118e-07j,\n",
       "       2.40000000e+02-1.75731138e-07j, 2.41000000e+02+6.31297290e-08j,\n",
       "       2.42000001e+02-2.96003247e-07j, 2.43000000e+02-3.73861550e-07j,\n",
       "       2.44000000e+02-6.24165423e-07j, 2.45000000e+02+1.35006035e-07j,\n",
       "       2.46000000e+02+3.03656815e-07j, 2.46999999e+02-1.30897536e-06j,\n",
       "       2.47999999e+02+1.31110944e-07j, 2.49000000e+02-3.90651962e-07j,\n",
       "       2.50000000e+02-9.68692245e-07j, 2.51000001e+02-8.52111216e-07j,\n",
       "       2.52000001e+02+6.99846228e-07j, 2.53000001e+02-8.49080317e-07j,\n",
       "       2.54000001e+02+2.38028921e-07j, 2.55000000e+02-7.89398632e-07j])"
      ]
     },
     "execution_count": 210,
     "metadata": {},
     "output_type": "execute_result"
    }
   ],
   "source": [
    "ctx = encryptor.encrypt(ptx)\n",
    "ptx = decryptor.decrypt(ctx)\n",
    "encoder.decode(ptx)"
   ]
  },
  {
   "cell_type": "code",
   "execution_count": 211,
   "metadata": {
    "ExecuteTime": {
     "end_time": "2020-05-25T07:21:26.528991Z",
     "start_time": "2020-05-25T07:21:25.052867Z"
    }
   },
   "outputs": [
    {
     "data": {
      "text/plain": [
       "array([1.56744392e-07+1.98268184e-06j, 1.99999999e+00-8.29247252e-07j,\n",
       "       4.00000134e+00+5.19755312e-07j, 5.99999816e+00+6.76088145e-08j,\n",
       "       7.99999932e+00+4.11506353e-07j, 1.00000011e+01-3.94825659e-06j,\n",
       "       1.20000004e+01+1.80624458e-06j, 1.39999994e+01+1.23667059e-06j,\n",
       "       1.59999980e+01-1.17476369e-06j, 1.79999996e+01+2.03840824e-06j,\n",
       "       2.00000013e+01-4.61762744e-06j, 2.19999994e+01-9.80603218e-07j,\n",
       "       2.39999999e+01+3.00579529e-07j, 2.59999991e+01+1.09912328e-07j,\n",
       "       2.79999994e+01+7.17273018e-07j, 3.00000018e+01-1.53929481e-06j,\n",
       "       3.20000001e+01-3.89500165e-07j, 3.40000011e+01+1.44130212e-06j,\n",
       "       3.59999990e+01-4.33931987e-07j, 3.80000006e+01+2.12722732e-07j,\n",
       "       3.99999971e+01-3.75455564e-07j, 4.20000012e+01-4.50495435e-07j,\n",
       "       4.39999972e+01+4.75527777e-07j, 4.60000009e+01+1.14367639e-06j,\n",
       "       4.80000023e+01+2.47419500e-07j, 5.00000018e+01+1.54241766e-06j,\n",
       "       5.19999992e+01+5.56866205e-07j, 5.39999994e+01+7.78547879e-07j,\n",
       "       5.60000009e+01-4.12656078e-08j, 5.79999942e+01-2.11893925e-06j,\n",
       "       6.00000027e+01+1.36464384e-06j, 6.19999994e+01-5.31482840e-07j,\n",
       "       6.40000034e+01+6.35897138e-07j, 6.59999989e+01+5.77461350e-08j,\n",
       "       6.80000007e+01-3.09231993e-07j, 6.99999989e+01-4.67952405e-06j,\n",
       "       7.20000019e+01+2.54295453e-06j, 7.40000033e+01-9.72208099e-07j,\n",
       "       7.60000011e+01+1.24746082e-06j, 7.80000004e+01+5.47921175e-07j,\n",
       "       7.99999995e+01+2.56899287e-06j, 8.20000000e+01+4.73939028e-06j,\n",
       "       8.40000018e+01+1.14518487e-06j, 8.60000011e+01-2.02901357e-06j,\n",
       "       8.80000000e+01+1.53324139e-06j, 9.00000020e+01-8.59541288e-07j,\n",
       "       9.20000013e+01+7.99378171e-07j, 9.39999986e+01+5.26625641e-07j,\n",
       "       9.60000006e+01+2.82648060e-07j, 9.79999986e+01+1.02137155e-06j,\n",
       "       9.99999997e+01+3.73712936e-07j, 1.01999999e+02-9.53142916e-08j,\n",
       "       1.03999999e+02+9.69281388e-07j, 1.05999999e+02+2.00758882e-06j,\n",
       "       1.08000000e+02-6.12095349e-07j, 1.10000004e+02+1.05850944e-07j,\n",
       "       1.12000000e+02+8.21752138e-07j, 1.13999998e+02-2.33129190e-06j,\n",
       "       1.16000001e+02-7.10381656e-07j, 1.18000001e+02-6.84831207e-07j,\n",
       "       1.19999999e+02-2.68875993e-07j, 1.22000001e+02-9.42968214e-07j,\n",
       "       1.24000003e+02-6.05192682e-07j, 1.26000000e+02-1.52977357e-06j,\n",
       "       1.28000001e+02+5.34243235e-07j, 1.30000001e+02-1.77417618e-08j,\n",
       "       1.32000003e+02-8.80880044e-07j, 1.34000000e+02-9.75156269e-07j,\n",
       "       1.36000002e+02+2.47104495e-07j, 1.38000001e+02-3.41736204e-07j,\n",
       "       1.40000001e+02+1.08441171e-07j, 1.42000000e+02-1.58570395e-06j,\n",
       "       1.43999998e+02-7.26360582e-07j, 1.46000001e+02+5.23663417e-07j,\n",
       "       1.48000001e+02+9.77083438e-07j, 1.49999999e+02+9.30665827e-07j,\n",
       "       1.52000001e+02-1.08873139e-06j, 1.53999998e+02-2.12729297e-06j,\n",
       "       1.56000001e+02+8.17190795e-07j, 1.57999998e+02+1.84574527e-06j,\n",
       "       1.60000001e+02-9.04386098e-07j, 1.62000000e+02+1.34648039e-06j,\n",
       "       1.64000001e+02-9.70276517e-08j, 1.66000000e+02+5.12877328e-07j,\n",
       "       1.67999999e+02-5.76203469e-07j, 1.70000001e+02+1.08764922e-06j,\n",
       "       1.72000001e+02-5.55014907e-07j, 1.74000001e+02+4.18798452e-06j,\n",
       "       1.76000004e+02-2.43122452e-06j, 1.78000006e+02-1.39317119e-06j,\n",
       "       1.79999998e+02-1.82853474e-06j, 1.81999999e+02+1.18441224e-06j,\n",
       "       1.83999997e+02+5.83001061e-08j, 1.86000000e+02-8.74702213e-07j,\n",
       "       1.88000000e+02-5.51620623e-07j, 1.90000000e+02-3.38325734e-07j,\n",
       "       1.92000001e+02+2.73213035e-06j, 1.94000000e+02-1.05818012e-06j,\n",
       "       1.96000000e+02-5.02851144e-07j, 1.98000000e+02+1.66867768e-06j,\n",
       "       1.99999998e+02+1.88053165e-06j, 2.02000003e+02+4.21140424e-07j,\n",
       "       2.04000000e+02+6.32595416e-07j, 2.05999998e+02-1.67060178e-06j,\n",
       "       2.08000000e+02+6.29121093e-08j, 2.09999999e+02-1.51723405e-06j,\n",
       "       2.11999999e+02-1.14890712e-06j, 2.13999998e+02-1.12592813e-06j,\n",
       "       2.16000000e+02+2.78898739e-07j, 2.17999999e+02+1.73515581e-06j,\n",
       "       2.20000000e+02-1.77514361e-06j, 2.22000000e+02-1.90905053e-06j,\n",
       "       2.23999998e+02+2.20317176e-07j, 2.26000000e+02-4.06976238e-07j,\n",
       "       2.28000001e+02-9.19894569e-07j, 2.29999997e+02-1.14139344e-06j,\n",
       "       2.32000000e+02-7.35365154e-07j, 2.34000002e+02+5.07018605e-08j,\n",
       "       2.36000000e+02-1.32551410e-06j, 2.37999999e+02+7.01046056e-07j,\n",
       "       2.40000002e+02-4.11925898e-06j, 2.41999999e+02-1.40370135e-07j,\n",
       "       2.43999998e+02+8.65618262e-07j, 2.45999998e+02+1.45899590e-06j,\n",
       "       2.48000000e+02+2.99857804e-06j, 2.49999998e+02-9.95419043e-07j,\n",
       "       2.51999999e+02-1.59760999e-06j, 2.53999999e+02-1.24021743e-06j,\n",
       "       2.55999998e+02+9.74229946e-07j, 2.58000000e+02-8.13366561e-07j,\n",
       "       2.60000000e+02-3.25913191e-06j, 2.62000002e+02-2.18175838e-06j,\n",
       "       2.63999996e+02-3.95095236e-06j, 2.65999999e+02-1.06642762e-06j,\n",
       "       2.68000001e+02+7.66310549e-07j, 2.70000000e+02-2.01895598e-07j,\n",
       "       2.72000000e+02-4.19242010e-07j, 2.73999999e+02+4.70037005e-07j,\n",
       "       2.76000001e+02-1.46118069e-06j, 2.77999999e+02+3.17119960e-07j,\n",
       "       2.79999994e+02-2.37227659e-07j, 2.81999999e+02-2.33321115e-07j,\n",
       "       2.83999999e+02-5.54100694e-08j, 2.85999997e+02+5.56503946e-07j,\n",
       "       2.87999998e+02-1.56812489e-06j, 2.90000000e+02-3.82134076e-07j,\n",
       "       2.92000001e+02+2.28136208e-06j, 2.94000001e+02-3.49754353e-07j,\n",
       "       2.96000002e+02-9.04532264e-07j, 2.98000001e+02-1.43873489e-06j,\n",
       "       3.00000001e+02-3.52352629e-07j, 3.01999998e+02+1.95279153e-06j,\n",
       "       3.03999998e+02+1.02759198e-06j, 3.06000001e+02-3.25768161e-06j,\n",
       "       3.07999997e+02+1.20325118e-06j, 3.10000002e+02+4.63866278e-06j,\n",
       "       3.12000000e+02+7.96079853e-07j, 3.14000000e+02+1.48142295e-07j,\n",
       "       3.16000001e+02+2.50073420e-07j, 3.17999997e+02+1.96548260e-07j,\n",
       "       3.20000001e+02-5.91228446e-07j, 3.22000001e+02+2.91379370e-06j,\n",
       "       3.23999999e+02-1.88791205e-07j, 3.25999999e+02+2.47068765e-06j,\n",
       "       3.28000000e+02+2.73184330e-07j, 3.30000000e+02+9.66935779e-07j,\n",
       "       3.31999998e+02+7.94401210e-07j, 3.33999999e+02-6.51908088e-07j,\n",
       "       3.36000002e+02+8.06164699e-07j, 3.37999999e+02+6.18651853e-07j,\n",
       "       3.39999999e+02+1.99942953e-07j, 3.42000000e+02+3.04020160e-06j,\n",
       "       3.43999998e+02-2.31481246e-06j, 3.45999999e+02-1.45616608e-06j,\n",
       "       3.48000002e+02-1.01754979e-06j, 3.49999999e+02-7.02699055e-07j,\n",
       "       3.52000001e+02-1.02344821e-07j, 3.53999999e+02-1.20176811e-06j,\n",
       "       3.56000001e+02-4.86910189e-07j, 3.57999999e+02-9.43560231e-07j,\n",
       "       3.60000004e+02-3.04663677e-06j, 3.61999994e+02-3.87677461e-06j,\n",
       "       3.64000004e+02+4.42913695e-07j, 3.65999999e+02-8.65534481e-07j,\n",
       "       3.68000002e+02+1.53798673e-07j, 3.70000001e+02+2.19371827e-08j,\n",
       "       3.71999999e+02-1.58005277e-06j, 3.73999999e+02-3.81715445e-07j,\n",
       "       3.76000003e+02+6.37602980e-07j, 3.78000000e+02-2.76134124e-07j,\n",
       "       3.79999999e+02+2.73648905e-06j, 3.82000002e+02+2.37922322e-08j,\n",
       "       3.84000000e+02-2.18311627e-07j, 3.86000000e+02-1.03209317e-07j,\n",
       "       3.88000001e+02+1.22817229e-06j, 3.90000002e+02-2.51476249e-06j,\n",
       "       3.91999999e+02-1.22163215e-07j, 3.94000000e+02+6.50161155e-07j,\n",
       "       3.96000000e+02-1.14158163e-06j, 3.98000000e+02-1.65493802e-06j,\n",
       "       4.00000001e+02+5.15225665e-07j, 4.01999998e+02-5.80828512e-07j,\n",
       "       4.04000000e+02+2.64656194e-07j, 4.05999998e+02+2.59176871e-06j,\n",
       "       4.07999999e+02+1.83750753e-06j, 4.10000000e+02-5.64168971e-07j,\n",
       "       4.11999998e+02-5.87744130e-06j, 4.13999997e+02-9.06879706e-07j,\n",
       "       4.16000000e+02+1.61006648e-06j, 4.18000000e+02+9.17460540e-07j,\n",
       "       4.20000003e+02+1.52252484e-06j, 4.21999999e+02+9.15176258e-07j,\n",
       "       4.23999999e+02-5.30030775e-08j, 4.25999999e+02+1.85168764e-06j,\n",
       "       4.27999998e+02+1.62580959e-06j, 4.30000000e+02-9.52946380e-08j,\n",
       "       4.32000000e+02+2.69430799e-07j, 4.34000000e+02-2.39054036e-06j,\n",
       "       4.36000002e+02+1.47673776e-06j, 4.38000000e+02+3.44015547e-07j,\n",
       "       4.39999997e+02-1.80085637e-06j, 4.41999999e+02-1.20508601e-06j,\n",
       "       4.44000000e+02+4.69832486e-07j, 4.45999998e+02+2.56759648e-07j,\n",
       "       4.47999997e+02+7.79580233e-07j, 4.50000001e+02+1.08007764e-06j,\n",
       "       4.51999999e+02-4.98127477e-07j, 4.53999998e+02+7.37111250e-07j,\n",
       "       4.55999999e+02+8.57694808e-07j, 4.57999999e+02+1.43804114e-06j,\n",
       "       4.60000002e+02+1.64043056e-06j, 4.61999999e+02+7.97484866e-07j,\n",
       "       4.64000002e+02-2.68723947e-06j, 4.65999994e+02+1.63012690e-06j,\n",
       "       4.68000002e+02+6.25360961e-07j, 4.70000000e+02+9.15887810e-08j,\n",
       "       4.72000004e+02-1.54191262e-06j, 4.74000000e+02-3.33377045e-07j,\n",
       "       4.75999995e+02+4.18957161e-06j, 4.78000000e+02+3.31662235e-07j,\n",
       "       4.80000000e+02-3.51462276e-07j, 4.82000000e+02+1.26259458e-07j,\n",
       "       4.84000002e+02-5.92006494e-07j, 4.85999999e+02-7.47723099e-07j,\n",
       "       4.88000000e+02-1.24833085e-06j, 4.90000000e+02+2.70012070e-07j,\n",
       "       4.92000000e+02+6.07313630e-07j, 4.93999999e+02-2.61795072e-06j,\n",
       "       4.95999997e+02+2.62221889e-07j, 4.98000001e+02-7.81303925e-07j,\n",
       "       5.00000000e+02-1.93738449e-06j, 5.02000001e+02-1.70422243e-06j,\n",
       "       5.04000001e+02+1.39969246e-06j, 5.06000002e+02-1.69816063e-06j,\n",
       "       5.08000002e+02+4.76057841e-07j, 5.10000000e+02-1.57879726e-06j])"
      ]
     },
     "execution_count": 211,
     "metadata": {},
     "output_type": "execute_result"
    }
   ],
   "source": [
    "ct_mult = (ctx[0] + ctx[0], ctx[1] + ctx[1])\n",
    "ptx = decryptor.decrypt(ct_mult)\n",
    "encoder.decode(ptx)"
   ]
  }
 ],
 "metadata": {
  "kernelspec": {
   "display_name": "Python 3",
   "language": "python",
   "name": "python3"
  },
  "language_info": {
   "codemirror_mode": {
    "name": "ipython",
    "version": 3
   },
   "file_extension": ".py",
   "mimetype": "text/x-python",
   "name": "python",
   "nbconvert_exporter": "python",
   "pygments_lexer": "ipython3",
   "version": "3.8.2"
  },
  "toc": {
   "base_numbering": 1,
   "nav_menu": {},
   "number_sections": true,
   "sideBar": true,
   "skip_h1_title": false,
   "title_cell": "Table of Contents",
   "title_sidebar": "Contents",
   "toc_cell": false,
   "toc_position": {},
   "toc_section_display": true,
   "toc_window_display": false
  }
 },
 "nbformat": 4,
 "nbformat_minor": 4
}
